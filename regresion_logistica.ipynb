{
  "nbformat": 4,
  "nbformat_minor": 0,
  "metadata": {
    "colab": {
      "provenance": [],
      "authorship_tag": "ABX9TyOWZvqKF9OkbNAlpAYMKERO",
      "include_colab_link": true
    },
    "kernelspec": {
      "name": "python3",
      "display_name": "Python 3"
    },
    "language_info": {
      "name": "python"
    }
  },
  "cells": [
    {
      "cell_type": "markdown",
      "metadata": {
        "id": "view-in-github",
        "colab_type": "text"
      },
      "source": [
        "<a href=\"https://colab.research.google.com/github/jadercaro/Prediccion-de-desercion-universitaria/blob/main/regresion_logistica.ipynb\" target=\"_parent\"><img src=\"https://colab.research.google.com/assets/colab-badge.svg\" alt=\"Open In Colab\"/></a>"
      ]
    },
    {
      "cell_type": "code",
      "execution_count": 29,
      "metadata": {
        "id": "EAJYjB2H7Tys"
      },
      "outputs": [],
      "source": [
        "import pandas as pd\n",
        "from sklearn.preprocessing import StandardScaler\n",
        "from sklearn import linear_model\n",
        "from sklearn.model_selection import train_test_split\n",
        "from sklearn.metrics import accuracy_score\n",
        "import warnings\n",
        "warnings.filterwarnings('ignore')"
      ]
    },
    {
      "cell_type": "code",
      "source": [
        "df = pd.read_csv('data.csv', delimiter=';')"
      ],
      "metadata": {
        "id": "vWp32vc78kU1"
      },
      "execution_count": 3,
      "outputs": []
    },
    {
      "cell_type": "code",
      "source": [
        "#1-Codificar las variables categóricas con dummies\n",
        "#2-Escalar las variables númericas\n",
        "#3- Codificar la variable respuesta\n",
        "\n",
        "\n",
        "\n",
        "\n",
        "\n",
        "# [Ciudad]\n",
        "# 6\n",
        "# 5\n",
        "# 110\n",
        "# 65\n",
        "\n",
        "#     Ciudad_6, Ciudad_5, Ciudad_110, Ciudad_65\n",
        "#Juan        1              0                 0              0\n",
        "#Mateo       0              1                 0              0\n",
        "#Alejandro   1              0                 0              0\n",
        "#Sofia       1              0                 0              0"
      ],
      "metadata": {
        "id": "p23fft7Z_FBC"
      },
      "execution_count": null,
      "outputs": []
    },
    {
      "cell_type": "markdown",
      "source": [
        "Se Codifica la variable salida donde 0 es desertor, 1 es matriculado y 2 es graduado\n"
      ],
      "metadata": {
        "id": "q2MFDNeVCJ4y"
      }
    },
    {
      "cell_type": "code",
      "source": [
        "df['Target'] = df['Target'].apply(lambda x: 0 if x=='Dropout' else (1 if x=='Enrolled' else 2))"
      ],
      "metadata": {
        "id": "PEocHY2CAzwr"
      },
      "execution_count": 18,
      "outputs": []
    },
    {
      "cell_type": "markdown",
      "source": [
        "Separamos los datos de entrenamiento de los datos de validación"
      ],
      "metadata": {
        "id": "6CKX8jKdC3hB"
      }
    },
    {
      "cell_type": "code",
      "source": [
        "X = df.drop(columns='Target')\n",
        "y = df['Target']\n",
        "\n",
        "#Separamos los datos de validación con una semilla\n",
        "x_train, x_val, y_train, y_val = train_test_split(X, y, test_size=0.2, random_state=3)\n",
        "\n",
        "#Creamos el modelo\n",
        "modelo = linear_model.LinearRegression()\n",
        "\n",
        "#Entrenamos el modelo\n",
        "modelo.fit(x_train, y_train)\n",
        "\n",
        "#Validamos\n",
        "y_predict = modelo.predict(x_val)\n",
        "\n",
        "#Calculamos la precisión del modelo\n",
        "score = accuracy_score(y_val,y_predict)\n",
        "\n",
        "print(f'La precisión del modelo es de: {score*100}%')"
      ],
      "metadata": {
        "colab": {
          "base_uri": "https://localhost:8080/"
        },
        "id": "HrQ73sJBCTpm",
        "outputId": "9c829d4e-c94a-4a2e-c1bb-11e4ac5348a4"
      },
      "execution_count": 41,
      "outputs": [
        {
          "output_type": "stream",
          "name": "stdout",
          "text": [
            "La precisión del modelo es de: 69.15254237288136%\n"
          ]
        }
      ]
    },
    {
      "cell_type": "code",
      "source": [
        "modelo.coef_"
      ],
      "metadata": {
        "colab": {
          "base_uri": "https://localhost:8080/"
        },
        "id": "hujt5P6tFQbe",
        "outputId": "50f65443-12f4-46e8-cfec-f3c54e7d96e5"
      },
      "execution_count": 35,
      "outputs": [
        {
          "output_type": "execute_result",
          "data": {
            "text/plain": [
              "array([[ 1.11255581e-03,  6.24942588e-03, -1.19979977e-04,\n",
              "         2.57570987e-04,  1.13318466e-04, -8.39395791e-03,\n",
              "         5.57159781e-03,  5.86941355e-03,  8.35282933e-03,\n",
              "        -8.99613554e-03, -8.37513005e-03,  1.06158342e-03,\n",
              "        -9.35549483e-03, -8.78032641e-04,  5.81929990e-05,\n",
              "         3.33538649e-03, -5.87472750e-03,  3.58581333e-03,\n",
              "        -4.17806789e-03,  4.36602583e-02, -7.82525733e-05,\n",
              "        -2.73035217e-03, -8.70814760e-03, -1.14530525e-02,\n",
              "        -5.41776252e-02, -7.81897976e-02,  1.12762082e-03,\n",
              "        -2.67325392e-03, -8.46940446e-03, -1.78480866e-02,\n",
              "        -6.51524130e-02, -1.06312947e-01,  1.85969360e-03,\n",
              "         2.85089385e-03,  1.77774699e-03, -3.27730138e-03],\n",
              "       [-3.16840913e-04,  6.46035701e-03, -2.09538130e-03,\n",
              "        -5.14177230e-05,  5.39580836e-04,  9.26781556e-04,\n",
              "         3.67751378e-03,  2.91425118e-04, -1.15441286e-02,\n",
              "        -1.21840684e-03,  5.89232063e-03, -4.00005398e-04,\n",
              "        -3.11775301e-03,  3.86280829e-05,  8.10696156e-06,\n",
              "        -1.94560516e-04,  1.47792801e-03,  6.85255474e-04,\n",
              "        -1.67291474e-03, -1.35072233e-02,  2.86999313e-05,\n",
              "        -4.32127889e-03, -6.01172806e-03,  1.71636138e-02,\n",
              "        -8.19236278e-03,  8.11901283e-03,  8.07273941e-04,\n",
              "        -3.67079331e-03, -5.49047812e-03,  2.49550073e-02,\n",
              "        -7.20184960e-03,  1.56383018e-02,  1.03224797e-03,\n",
              "        -4.82722418e-03,  3.50379231e-04, -7.34872312e-04],\n",
              "       [-7.95714898e-04, -1.27097829e-02,  2.21536128e-03,\n",
              "        -2.06153264e-04, -6.52899302e-04,  7.46717636e-03,\n",
              "        -9.24911159e-03, -6.16083867e-03,  3.19129925e-03,\n",
              "         1.02145424e-02,  2.48280941e-03, -6.61578018e-04,\n",
              "         1.24732478e-02,  8.39404558e-04, -6.62999605e-05,\n",
              "        -3.14082598e-03,  4.39679949e-03, -4.27106881e-03,\n",
              "         5.85098264e-03, -3.01530351e-02,  4.95526420e-05,\n",
              "         7.05163105e-03,  1.47198757e-02, -5.71056125e-03,\n",
              "         6.23699880e-02,  7.00707848e-02, -1.93489476e-03,\n",
              "         6.34404723e-03,  1.39598826e-02, -7.10692063e-03,\n",
              "         7.23542626e-02,  9.06746449e-02, -2.89194157e-03,\n",
              "         1.97633033e-03, -2.12812622e-03,  4.01217369e-03]])"
            ]
          },
          "metadata": {},
          "execution_count": 35
        }
      ]
    },
    {
      "cell_type": "code",
      "source": [
        "modelo.intercept_"
      ],
      "metadata": {
        "colab": {
          "base_uri": "https://localhost:8080/"
        },
        "id": "B6Sb8XYCG2vo",
        "outputId": "3a9e97c2-b40f-4ae9-996b-755e27e1e2d0"
      },
      "execution_count": 36,
      "outputs": [
        {
          "output_type": "execute_result",
          "data": {
            "text/plain": [
              "array([ 2.93820817e-04,  6.11048128e-05, -3.54925630e-04])"
            ]
          },
          "metadata": {},
          "execution_count": 36
        }
      ]
    }
  ]
}