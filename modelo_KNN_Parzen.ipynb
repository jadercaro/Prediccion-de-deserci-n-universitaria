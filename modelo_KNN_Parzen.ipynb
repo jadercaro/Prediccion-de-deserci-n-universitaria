{
  "cells": [
    {
      "cell_type": "markdown",
      "metadata": {
        "id": "view-in-github",
        "colab_type": "text"
      },
      "source": [
        "<a href=\"https://colab.research.google.com/github/jadercaro/Prediccion-de-desercion-universitaria/blob/main/G_DB_6_JaderCaro_JaglerVelasquez_AlejandroArias_desercion_KNN_Parzen_clasificacion_sem_2024_01.ipynb\" target=\"_parent\"><img src=\"https://colab.research.google.com/assets/colab-badge.svg\" alt=\"Open In Colab\"/></a>"
      ]
    },
    {
      "cell_type": "markdown",
      "metadata": {
        "id": "E6d18EXXlmH4"
      },
      "source": [
        "**Recuerda que una vez abierto, Da clic en \"Copiar en Drive\", de lo contrario no podras alamancenar tu progreso**\n",
        "\n",
        "Nota: no olvide ir ejecutando las celdas de código de arriba hacia abajo para que no tenga errores de importación de librerías o por falta de definición de variables."
      ]
    },
    {
      "cell_type": "code",
      "source": [
        "#@title **Integrantes**\n",
        "nombres_apellidos_integrante_1 ='Jagler Velasquez Velasquez' #@param {type:\"string\"}\n",
        "nombres_apellidos_integrante_2 = 'Alejandro Arias Ortiz'  #@param {type:\"string\"}\n",
        "nombres_apellidos_integrante_3 = 'Jhon Jader Caro Sanchez'  #@param {type:\"string\"}"
      ],
      "metadata": {
        "id": "jFGgwo0Zb7c9"
      },
      "execution_count": null,
      "outputs": []
    },
    {
      "cell_type": "code",
      "source": [
        "#@title **Base de datos**\n",
        "G_DB_='6' #@param {type:\"string\"}"
      ],
      "metadata": {
        "id": "T8IHxTM-tQ88"
      },
      "execution_count": null,
      "outputs": []
    },
    {
      "cell_type": "code",
      "execution_count": null,
      "metadata": {
        "id": "y_i_bJQ4TMmF"
      },
      "outputs": [],
      "source": [
        "#Importing all the dependencies\n",
        "%load_ext autoreload\n",
        "%autoreload 2\n",
        "in_colab = True\n",
        "import os\n",
        "import sys ; sys.path.append('../drive/MyDrive/Colab Notebooks/local/data');\n",
        "import pandas as pd\n",
        "import numpy as np\n",
        "from numpy import random\n",
        "from matplotlib import pyplot as plt\n",
        "\n",
        "from scipy.stats import mode\n",
        "from sklearn.model_selection import train_test_split, StratifiedKFold, KFold\n",
        "from numpy import random\n",
        "from sklearn.preprocessing import StandardScaler\n",
        "from scipy.spatial.distance import euclidean\n",
        "from scipy.spatial.distance import cdist\n",
        "from imblearn.under_sampling import RandomUnderSampler\n",
        "from collections import Counter\n",
        "\n",
        "from ipywidgets import interact, interactive, fixed, interact_manual\n",
        "import ipywidgets as widgets\n"
      ]
    },
    {
      "cell_type": "markdown",
      "metadata": {
        "id": "_cePBYijlmH8"
      },
      "source": [
        "# **Parte 1. Problema de clasificación**"
      ]
    },
    {
      "cell_type": "markdown",
      "metadata": {
        "id": "jPlJQSbWlmH8"
      },
      "source": [
        "**Contextualización del problema**\n",
        "En este ejercicio de clasificación o regresión logística, nuestro objetivo es predecir el estado futuro de los estudiantes: desertar, graduarse o continuar matriculado. Para lograrlo, utilizaremos diversas variables predictoras, entre las que se incluyen:\n",
        "\n",
        "1. **Nota del segundo semestre**\n",
        "2. **Edad**\n",
        "3. **Deudor**\n",
        "4. **Horario de asistencia**\n",
        "5. **Matricula al días**\n",
        "3. **Target** (0 para Deserción, 1 Matriculado, 2 para Graduado)\n",
        "\n",
        " Estas variables fueron seleccionadas debido a su fuerte relación con la variable objetivo, basándonos en criterios como la **correlación** para relaciones entre variables categóricas y numéricas.\n"
      ]
    },
    {
      "cell_type": "code",
      "source": [
        "#cargamos la bd iris desde el dataset de sklearn\n",
        "from sklearn import datasets\n",
        "df = pd.read_csv('clasificacion_preprocesado.csv')\n",
        "df['Target'] = df['Target'].apply(lambda x: 0 if x=='Dropout' else (1 if x=='Enrolled' else 2))\n",
        "x = df[['Daytime/evening attendance\\t','Debtor','Age at enrollment','Tuition fees up to date','Curricular units 2nd sem (grade)']]\n",
        "y= df['Target']"
      ],
      "metadata": {
        "id": "Z-VqzsckoQfq"
      },
      "execution_count": null,
      "outputs": []
    },
    {
      "cell_type": "code",
      "execution_count": null,
      "metadata": {
        "id": "NLajNANXlmH9",
        "tags": [],
        "colab": {
          "base_uri": "https://localhost:8080/"
        },
        "outputId": "db4c3be9-f388-4eb0-c0cf-97af59ace084"
      },
      "outputs": [
        {
          "output_type": "stream",
          "name": "stdout",
          "text": [
            "Dimensión de los datos de entrada:  4424 muestras y 5 características.\n",
            "Clases en el problema:  [0 1 2]\n"
          ]
        }
      ],
      "source": [
        "print (\"Dimensión de los datos de entrada: \", x.shape[0], 'muestras y', x.shape[1], 'características.')\n",
        "print (\"Clases en el problema: \", np.unique(y))"
      ]
    },
    {
      "cell_type": "code",
      "execution_count": null,
      "metadata": {
        "id": "C_H1V6UilmIA"
      },
      "outputs": [],
      "source": [
        "#Ejercicio de código\n",
        "def muestras_por_clases (Y):\n",
        "    \"\"\"Función que calcula el número de muestras por cada clase\n",
        "    Y: vector de numpy con las etiquetas de las muestras del conjunto X\n",
        "    retorna: diccionario [int/float:int/float]\n",
        "        con la estructura:{etiquetaclase1: número de muestras clase1, etiquetaclase2: número de muestras clase2}\n",
        "    \"\"\"\n",
        "    dicto = dict(zip(np.unique(Y,return_counts=True)[0], np.unique(Y,return_counts=True)[1]))\n",
        "    return (dicto)"
      ]
    },
    {
      "cell_type": "code",
      "execution_count": null,
      "metadata": {
        "id": "BxYN119rlmIE",
        "colab": {
          "base_uri": "https://localhost:8080/",
          "height": 472
        },
        "outputId": "98a24e20-f59c-4c58-80fc-a9282d4cfdb7"
      },
      "outputs": [
        {
          "output_type": "display_data",
          "data": {
            "text/plain": [
              "<Figure size 640x480 with 1 Axes>"
            ],
            "image/png": "[encoded data removed]"
          },
          "metadata": {}
        }
      ],
      "source": [
        "# con estas línea de código puedes ver la dsitribución de forma gráfica\n",
        "fig, ax = plt.subplots()\n",
        "ax.bar(muestras_por_clases(y).keys(), muestras_por_clases(y).values())\n",
        "ax.set_title(\"Número de muestras por clase\")\n",
        "ax.set_xlabel(\"etiqueta de la clase\")\n",
        "ax.set_ylabel(\"# muestras por clase\")\n",
        "ax.set_xticks(list(muestras_por_clases(y).keys()))\n",
        "ax.spines['top'].set_visible(False)\n",
        "ax.spines['right'].set_visible(False)\n",
        "plt.show()"
      ]
    },
    {
      "cell_type": "markdown",
      "source": [
        "#Balanceo de muestras\n",
        "En este caso lo que se hizo fue balancear las muestras usando un UnderSampler, tomando como referencia la clase minoritaria, a pesar de que cada clase tendria aproximadamente 800 observaciones, aún sigue siendo considerable para este caso"
      ],
      "metadata": {
        "id": "5rpv6xwM06I3"
      }
    },
    {
      "cell_type": "code",
      "source": [
        "print(\"Antes del balanceo:\", Counter(y))\n",
        "\n",
        "#Cantidad dela muestra minoritaria\n",
        "minimo = min(Counter(y).values())\n",
        "\n",
        "# Crea un objeto RandomUnderSampler para balancear las clases\n",
        "rus = RandomUnderSampler(sampling_strategy={clase: minimo for clase in Counter(y)})\n",
        "\n",
        "# Aplica el balanceo a tus datos\n",
        "X_balanceado, y_balanceado = rus.fit_resample(x, y)\n",
        "\n",
        "# Imprime la distribución de clases después del balanceo\n",
        "print(\"Después del balanceo:\", Counter(y_balanceado))"
      ],
      "metadata": {
        "colab": {
          "base_uri": "https://localhost:8080/"
        },
        "id": "dvc78lpX0ICF",
        "outputId": "1dabe814-744e-4702-94f6-0ad70b1140f6"
      },
      "execution_count": null,
      "outputs": [
        {
          "output_type": "stream",
          "name": "stdout",
          "text": [
            "Antes del balanceo: Counter({2: 2209, 0: 1421, 1: 794})\n",
            "Después del balanceo: Counter({0: 794, 1: 794, 2: 794})\n"
          ]
        }
      ]
    },
    {
      "cell_type": "code",
      "source": [
        "# con estas línea de código puedes ver la dsitribución de forma gráfica\n",
        "fig, ax = plt.subplots()\n",
        "ax.bar(muestras_por_clases(y_balanceado).keys(), muestras_por_clases(y_balanceado).values())\n",
        "ax.set_title(\"Número de muestras por clase\")\n",
        "ax.set_xlabel(\"etiqueta de la clase\")\n",
        "ax.set_ylabel(\"# muestras por clase\")\n",
        "ax.set_xticks(list(muestras_por_clases(y_balanceado).keys()))\n",
        "ax.spines['top'].set_visible(False)\n",
        "ax.spines['right'].set_visible(False)\n",
        "plt.show()"
      ],
      "metadata": {
        "colab": {
          "base_uri": "https://localhost:8080/",
          "height": 472
        },
        "id": "gr_MA9X8uoUK",
        "outputId": "3429cdcd-df19-4071-8d6e-1a21f9378882"
      },
      "execution_count": null,
      "outputs": [
        {
          "output_type": "display_data",
          "data": {
            "text/plain": [
              "<Figure size 640x480 with 1 Axes>"
            ],
            "image/png": "[encoded data removed]"
          },
          "metadata": {}
        }
      ]
    },
    {
      "cell_type": "markdown",
      "source": [
        "## **KNN**"
      ],
      "metadata": {
        "id": "Uriy-xumjRV_"
      }
    },
    {
      "cell_type": "code",
      "execution_count": null,
      "metadata": {
        "id": "ZripiPSDTMmK",
        "cellView": "form"
      },
      "outputs": [],
      "source": [
        "#@title **1. Pregunta Abierta**\n",
        "#@markdown Dependiendo de los resultados de la información anterior,\n",
        "#@markdown ¿cuál es la factibilidad de usar este dataset para el problema planteado?\n",
        "#@markdown ¿cuál de la opciones es mejor justificada?\n",
        "\n",
        "#@markdown A) Es factible. El gráfico de barras muestra clases desbalanceadas. El algoritmo KNN no es sensible ya que solo analiza los K-vecinos\n",
        "\n",
        "#@markdown B) Es factible. El algoritmo KNN solo tiene en cuenta los K-vecinos más cercanos, el balance de clases es indiferente\n",
        "\n",
        "#@markdown C) Es factible. Las clases se encuentran balanceadas, para un problema de clasificación siempre es deseable tener un buen balance entre clases\n",
        "\n",
        "#@markdown D) No es Factible. Debemos tener mas muestras para la clase más importante\n",
        "\n",
        "#@markdown Selecciona dentro las lista desplegable\n",
        "respuesta_1 = 'C' #@param [\"\", \"A\", \"B\", \"C\", \"D\"]"
      ]
    },
    {
      "cell_type": "markdown",
      "metadata": {
        "id": "Z-SvlavllmIJ"
      },
      "source": [
        "Recordemos los conceptos vistos en teoría para los modelos basados en los K-vecimos más cercanos. En este ejercicio está definida la función que implementa este modelo. Primero se define la función que calculará el error de clasificación."
      ]
    },
    {
      "cell_type": "code",
      "execution_count": null,
      "metadata": {
        "id": "oPkzTnejlmIJ"
      },
      "outputs": [],
      "source": [
        "def ErrorClas(Y_lest, Y):\n",
        "    \"\"\"funcion que calcula el error de clasificación\n",
        "    Y_lest: numpy array con la estimaciones de etiqueta\n",
        "    Y: etiquetas reales\n",
        "    retorna: error de clasificación (int)\n",
        "    \"\"\"\n",
        "    error = 1 - np.sum(Y_lest == Y)/len(Y)\n",
        "\n",
        "    return error\n"
      ]
    },
    {
      "cell_type": "markdown",
      "metadata": {
        "id": "Ug9-Q6gYlmIM"
      },
      "source": [
        "**Ten en cuenta lo siguiente:**\n",
        "1. Para el cáculo de la distancia entre vectores existen varias opciones:\n",
        "    1. Usar la función la distancia entre matrices `scipy.spatial.distance.cdist`([Ejemplo](https://docs.scipy.org/doc/scipy/reference/generated/scipy.spatial.distance.cdist.html#scipy.spatial.distance.cdist))--esta puede ser usada directamente como `cdist(...)`. Entiende la salida de esta función. Al usarla, se logra un rendimiento superior.\n",
        "    2. Usar la función la distancia euclidiana `scipy.spatial.distance.euclidean`([Ejemplo](https://docs.scipy.org/doc/scipy/reference/generated/scipy.spatial.distance.euclidean.html))--pueder acceder a ella directamente como `euclidean`. Aca debe pensar en un algoritmo elemento a elemento, por lo tanto menos eficiente.\n",
        "2. También serán de utilidad las funciones `np.sort` y `np.argsort`.\n",
        "3. Ten presente que la moda es una operación que calcula el valor más común. En el [notebook ya se encuentra cargada esta operación](https://docs.scipy.org/doc/scipy/reference/generated/scipy.stats.mode.html), es posible usarla de esta manera : `mode(y)`"
      ]
    },
    {
      "cell_type": "code",
      "execution_count": null,
      "metadata": {
        "id": "-5h9vhE2lmIO"
      },
      "outputs": [],
      "source": [
        "def KNN_Clasificacion (Xtrain,Xtest, Ytrain, k):\n",
        "    \"\"\" Función que implementa el modelo de K-Vecino mas cercanos\n",
        "        para clasificación\n",
        "\n",
        "    Xtrain: es la matriz con las muestras de entrenamiento\n",
        "    Xtest: es la matriz con las muestras de validación\n",
        "    Ytrain: es un vector con los valores de salida pra cada una de las muestras de entrenamiento\n",
        "    k (int): valor de vecinos a usar\n",
        "\n",
        "    retorna: 2 valores:\n",
        "        - las estimaciones del modelo KNN para el conjunto Xtest\n",
        "             esta matriz debe tener un shape de [row/muestras de Xtest]\n",
        "        - las distancias de Xtest respecto a Xtrain, esta matrix\n",
        "             debe tener un shape de [rows de Xtest, rows Xtrain]\n",
        "             lo que es lo mismo [muestras de Xtest, muestras de Xtrain]\n",
        "    \"\"\"\n",
        "    from scipy.spatial import distance\n",
        "    from scipy.stats import mode\n",
        "    if k > Xtrain.shape[0]:\n",
        "        print(\"k no puede ser menor que las muestras de entrenamiento\")\n",
        "        return(None)\n",
        "    N=Xtest.shape[0]\n",
        "    distancias =np.zeros((N,Xtrain.shape[0]))\n",
        "    Yest = np.zeros(Xtest.shape[0])\n",
        "    for i in range(N):\n",
        "        distancia = distance.cdist(Xtest[i].reshape(1,np.size(Xtest[i],0)),Xtrain)[0]\n",
        "        index = np.argsort(distancia)\n",
        "        j = index[0:k]\n",
        "        Yest[i] = mode(Ytrain[j])[0]\n",
        "        distancias[i] = distancia\n",
        "    return (Yest, distancias)"
      ]
    },
    {
      "cell_type": "code",
      "execution_count": null,
      "metadata": {
        "id": "xWez-MqRTMmM"
      },
      "outputs": [],
      "source": [
        "#@title **2. Pregunta Abierta**\n",
        "#@markdown Recordando como el algoritmo KNN se usa para clasificación\n",
        "#@markdown ¿por qué la matriz de `distancias` que retorna tiene la dimensión `[muestras de Xtest, muestras de Xtest]`?\n",
        "#@markdown ¿cuál de las opciones es mejor justificada?\n",
        "\n",
        "#@markdown A) Cada Columna representa las distancia de una muestra de entrenamiento a una muestra de prueba\n",
        "\n",
        "#@markdown B) Cada renglón contiene la distancia de la muestra de prueba respecto a cada una de las muestras del conjunto de entrenamiento. Luego calculamos la moda por renglón para estimar la clase\n",
        "\n",
        "#@markdown C) Cada renglón contiene la distancia de la muestra de prueba respecto a cada una de las muestras del conjunto de entrenamiento. Luego obtenemos los K-vecinos más cercanos\n",
        "\n",
        "#@markdown D) Cada renglón contiene la distancia de la muestra de entrenamiento respecto a cada una de las muestras del conjunto de prueba. Luego obtenemos los K-vecinos más cercanos\n",
        "\n",
        "#@markdown Selecciona dentro las lista desplegable\n",
        "respuesta_2 = 'C' #@param [\"\", \"A\", \"B\", \"C\", \"D\"]"
      ]
    },
    {
      "cell_type": "markdown",
      "metadata": {
        "id": "uf14uGTjlmIT"
      },
      "source": [
        "### **Experimentar con KNN**\n",
        "\n",
        "Ahora vamos a probar nuestro algoritmo. Pero antes de esto vamos a tener que dividir nuestro conjunto de datos, vamos a usar una función llamada train_test_split de la libreria sklearn. [Aca puedes ver la ayuda](https://scikit-learn.org/stable/modules/generated/sklearn.model_selection.train_test_split.html). Entiende su funcionamiento.\n",
        "\n",
        "Vamos a usarla para crear una función con una propoción fija  de 80%-20% entre nuestro conjunto de entrenamiento y de pruebas.\n",
        "\n",
        "Configura `random_state = 0` esto nos garantiza que los resultados sean reproducibles.\n",
        "\n",
        "**NOTA**\n",
        "\n",
        "cuando se este usando `sklearn`, se quiere incentivar la lectura de la documentación, por lo tanto el calificador va buscar siempre que se llamen de manera explicita los parametros que se estan usando. Ejemplo si se va usar un parametro llamado `shuffle` se debe llamar como `funcion_a_usar(shuffle = True)`."
      ]
    },
    {
      "cell_type": "code",
      "execution_count": null,
      "metadata": {
        "id": "y7D9QcfcTMmN"
      },
      "outputs": [],
      "source": [
        "#@title **3. Pregunta Abierta**\n",
        "#@markdown ¿Cuál de las siguiente instrucciones es válida y justificada?\n",
        "#@markdown Recordar consultar la documentación: https://scikit-learn.org/stable/modules/generated/sklearn.model_selection.train_test_split.html\n",
        "\n",
        "#@markdown A) `train_test_split(X, Y, test_size = 0.2, random_state=10)` hace que los resultados NO sean reproducibles\n",
        "\n",
        "#@markdown B) `train_test_split(X, Y, train_size = 0.9)` hace que los resultados sean reproducibles. Nos asegura propoción 90/10 en el conjunto de entrenamiento/conjunto prueba\n",
        "\n",
        "#@markdown C) `train_test_split(X, Y, train_size = 100)` provoca un error, ya que train_size NO puede ser un número mayor a 1\n",
        "\n",
        "#@markdown D) `train_test_split(X, Y, train_size = 0.8, random_state=10)` hace que los resultados sean reproducibles. Nos asegura proporción 80/20 en el conjunto de entrenamiento/conjunto prueba\n",
        "\n",
        "#@markdown Selecciona dentro las lista desplegable\n",
        "respuesta_3 = 'D' #@param [\"\", \"A\", \"B\", \"C\", \"D\"]"
      ]
    },
    {
      "cell_type": "markdown",
      "metadata": {
        "id": "O0GoV9iZlmIX"
      },
      "source": [
        "Vamos a experimentar.\n",
        "\n",
        "Para ello vamos a crear una función que realiza los experimentos usando las funciones previamente construidas.\n",
        "\n",
        "\n",
        "En el código se hace uso de la función [StandardScaler](https://scikit-learn.org/stable/modules/generated/sklearn.preprocessing.StandardScaler.html), para normalizar los datos."
      ]
    },
    {
      "cell_type": "code",
      "execution_count": null,
      "metadata": {
        "id": "790OsCdmlmIX"
      },
      "outputs": [],
      "source": [
        "#Ejercicio de código\n",
        "def experimentar (ks, X, Y):\n",
        "    \"\"\"Función que realiza los experimentos con knn usando\n",
        "       una estrategia de validacion entrenamiento y pruebas\n",
        "\n",
        "    ks: List[int/float] lista con los valores de k-vecinos a usar\n",
        "    X: matriz de numpy conjunto con muestras y caracteristicas\n",
        "    Y: vector de numpy con los valores de las etiquetas\n",
        "\n",
        "    retorna: dataframe con los resultados\n",
        "    \"\"\"\n",
        "    from sklearn.preprocessing import StandardScaler\n",
        "    # dividimos usando la función\n",
        "    Xtrain, Xtest, Ytrain, Ytest = train_test_split(X,Y, train_size=0.8,test_size=0.2,random_state=0)\n",
        "\n",
        "    # se llama el objeto\n",
        "    scaler = StandardScaler()\n",
        "    # Se calculan los parametros\n",
        "    scaler.fit(Xtrain)\n",
        "    # se usa el objeto con los parametros calculados\n",
        "    # realizar la normalización\n",
        "    Xtrain= scaler.transform(Xtrain)\n",
        "    Xtest = scaler.transform(Xtest)\n",
        "\n",
        "    resultados = pd.DataFrame()\n",
        "    idx = 0\n",
        "    for k in ks:\n",
        "        # iteramos sobre la lista de k's\n",
        "        resultados.loc[idx,'k-vecinos'] = k\n",
        "        Yest, dist =KNN_Clasificacion(Xtrain,Xtest, Ytrain,k)\n",
        "        errorTest = ErrorClas(Yest,Ytest)\n",
        "        resultados.loc[idx,'error en conjunto prueba']=errorTest\n",
        "        idx+=1\n",
        "    return (resultados)"
      ]
    },
    {
      "cell_type": "code",
      "execution_count": null,
      "metadata": {
        "id": "vVfhToZYlmIZ"
      },
      "outputs": [],
      "source": [
        "#@title **4. Pregunta Abierta**\n",
        "#@markdown ¿Qué tipo de normalización ejecuta la función `StandardScaler`?\n",
        "respuesta_4 = \"La media de cada variable se centra en 0 y la desviación estandar se escala en 1 \" #@param {type:\"string\"}"
      ]
    },
    {
      "cell_type": "markdown",
      "metadata": {
        "id": "89jKEygplmId"
      },
      "source": [
        "Ahora ejecuta los experimentos con k = 2,3,4,5,6,7,10"
      ]
    },
    {
      "cell_type": "code",
      "execution_count": null,
      "metadata": {
        "id": "GUJwi9dilmId",
        "colab": {
          "base_uri": "https://localhost:8080/",
          "height": 332
        },
        "outputId": "3dd03ea6-f584-4b4a-9c0c-967e4163e9af"
      },
      "outputs": [
        {
          "output_type": "execute_result",
          "data": {
            "text/plain": [
              "   k-vecinos  error en conjunto prueba\n",
              "0        6.0                  0.438155\n",
              "1        7.0                  0.440252\n",
              "2       10.0                  0.421384\n",
              "3       12.0                  0.410901\n",
              "4       14.0                  0.394130\n",
              "5       16.0                  0.385744\n",
              "6       17.0                  0.377358\n",
              "7       18.0                  0.404612\n",
              "8       22.0                  0.400419"
            ],
            "text/html": [
              "\n",
              "  <div id=\"df-676cf8ee-1e6c-4b3c-b8b5-4f8950fc3ee9\" class=\"colab-df-container\">\n",
              "    <div>\n",
              "<style scoped>\n",
              "    .dataframe tbody tr th:only-of-type {\n",
              "        vertical-align: middle;\n",
              "    }\n",
              "\n",
              "    .dataframe tbody tr th {\n",
              "        vertical-align: top;\n",
              "    }\n",
              "\n",
              "    .dataframe thead th {\n",
              "        text-align: right;\n",
              "    }\n",
              "</style>\n",
              "<table border=\"1\" class=\"dataframe\">\n",
              "  <thead>\n",
              "    <tr style=\"text-align: right;\">\n",
              "      <th></th>\n",
              "      <th>k-vecinos</th>\n",
              "      <th>error en conjunto prueba</th>\n",
              "    </tr>\n",
              "  </thead>\n",
              "  <tbody>\n",
              "    <tr>\n",
              "      <th>0</th>\n",
              "      <td>6.0</td>\n",
              "      <td>0.438155</td>\n",
              "    </tr>\n",
              "    <tr>\n",
              "      <th>1</th>\n",
              "      <td>7.0</td>\n",
              "      <td>0.440252</td>\n",
              "    </tr>\n",
              "    <tr>\n",
              "      <th>2</th>\n",
              "      <td>10.0</td>\n",
              "      <td>0.421384</td>\n",
              "    </tr>\n",
              "    <tr>\n",
              "      <th>3</th>\n",
              "      <td>12.0</td>\n",
              "      <td>0.410901</td>\n",
              "    </tr>\n",
              "    <tr>\n",
              "      <th>4</th>\n",
              "      <td>14.0</td>\n",
              "      <td>0.394130</td>\n",
              "    </tr>\n",
              "    <tr>\n",
              "      <th>5</th>\n",
              "      <td>16.0</td>\n",
              "      <td>0.385744</td>\n",
              "    </tr>\n",
              "    <tr>\n",
              "      <th>6</th>\n",
              "      <td>17.0</td>\n",
              "      <td>0.377358</td>\n",
              "    </tr>\n",
              "    <tr>\n",
              "      <th>7</th>\n",
              "      <td>18.0</td>\n",
              "      <td>0.404612</td>\n",
              "    </tr>\n",
              "    <tr>\n",
              "      <th>8</th>\n",
              "      <td>22.0</td>\n",
              "      <td>0.400419</td>\n",
              "    </tr>\n",
              "  </tbody>\n",
              "</table>\n",
              "</div>\n",
              "    <div class=\"colab-df-buttons\">\n",
              "\n",
              "  <div class=\"colab-df-container\">\n",
              "    <button class=\"colab-df-convert\" onclick=\"convertToInteractive('df-676cf8ee-1e6c-4b3c-b8b5-4f8950fc3ee9')\"\n",
              "            title=\"Convert this dataframe to an interactive table.\"\n",
              "            style=\"display:none;\">\n",
              "\n",
              "  <svg xmlns=\"http://www.w3.org/2000/svg\" height=\"24px\" viewBox=\"0 -960 960 960\">\n",
              "    <path d=\"M120-120v-720h720v720H120Zm60-500h600v-160H180v160Zm220 220h160v-160H400v160Zm0 220h160v-160H400v160ZM180-400h160v-160H180v160Zm440 0h160v-160H620v160ZM180-180h160v-160H180v160Zm440 0h160v-160H620v160Z\"/>\n",
              "  </svg>\n",
              "    </button>\n",
              "\n",
              "  <style>\n",
              "    .colab-df-container {\n",
              "      display:flex;\n",
              "      gap: 12px;\n",
              "    }\n",
              "\n",
              "    .colab-df-convert {\n",
              "      background-color: #E8F0FE;\n",
              "      border: none;\n",
              "      border-radius: 50%;\n",
              "      cursor: pointer;\n",
              "      display: none;\n",
              "      fill: #1967D2;\n",
              "      height: 32px;\n",
              "      padding: 0 0 0 0;\n",
              "      width: 32px;\n",
              "    }\n",
              "\n",
              "    .colab-df-convert:hover {\n",
              "      background-color: #E2EBFA;\n",
              "      box-shadow: 0px 1px 2px rgba(60, 64, 67, 0.3), 0px 1px 3px 1px rgba(60, 64, 67, 0.15);\n",
              "      fill: #174EA6;\n",
              "    }\n",
              "\n",
              "    .colab-df-buttons div {\n",
              "      margin-bottom: 4px;\n",
              "    }\n",
              "\n",
              "    [theme=dark] .colab-df-convert {\n",
              "      background-color: #3B4455;\n",
              "      fill: #D2E3FC;\n",
              "    }\n",
              "\n",
              "    [theme=dark] .colab-df-convert:hover {\n",
              "      background-color: #434B5C;\n",
              "      box-shadow: 0px 1px 3px 1px rgba(0, 0, 0, 0.15);\n",
              "      filter: drop-shadow(0px 1px 2px rgba(0, 0, 0, 0.3));\n",
              "      fill: #FFFFFF;\n",
              "    }\n",
              "  </style>\n",
              "\n",
              "    <script>\n",
              "      const buttonEl =\n",
              "        document.querySelector('#df-676cf8ee-1e6c-4b3c-b8b5-4f8950fc3ee9 button.colab-df-convert');\n",
              "      buttonEl.style.display =\n",
              "        google.colab.kernel.accessAllowed ? 'block' : 'none';\n",
              "\n",
              "      async function convertToInteractive(key) {\n",
              "        const element = document.querySelector('#df-676cf8ee-1e6c-4b3c-b8b5-4f8950fc3ee9');\n",
              "        const dataTable =\n",
              "          await google.colab.kernel.invokeFunction('convertToInteractive',\n",
              "                                                    [key], {});\n",
              "        if (!dataTable) return;\n",
              "\n",
              "        const docLinkHtml = 'Like what you see? Visit the ' +\n",
              "          '<a target=\"_blank\" href=https://colab.research.google.com/notebooks/data_table.ipynb>data table notebook</a>'\n",
              "          + ' to learn more about interactive tables.';\n",
              "        element.innerHTML = '';\n",
              "        dataTable['output_type'] = 'display_data';\n",
              "        await google.colab.output.renderOutput(dataTable, element);\n",
              "        const docLink = document.createElement('div');\n",
              "        docLink.innerHTML = docLinkHtml;\n",
              "        element.appendChild(docLink);\n",
              "      }\n",
              "    </script>\n",
              "  </div>\n",
              "\n",
              "\n",
              "<div id=\"df-6e488a4f-73a3-4e4d-a818-bb88f12949b5\">\n",
              "  <button class=\"colab-df-quickchart\" onclick=\"quickchart('df-6e488a4f-73a3-4e4d-a818-bb88f12949b5')\"\n",
              "            title=\"Suggest charts\"\n",
              "            style=\"display:none;\">\n",
              "\n",
              "<svg xmlns=\"http://www.w3.org/2000/svg\" height=\"24px\"viewBox=\"0 0 24 24\"\n",
              "     width=\"24px\">\n",
              "    <g>\n",
              "        <path d=\"M19 3H5c-1.1 0-2 .9-2 2v14c0 1.1.9 2 2 2h14c1.1 0 2-.9 2-2V5c0-1.1-.9-2-2-2zM9 17H7v-7h2v7zm4 0h-2V7h2v10zm4 0h-2v-4h2v4z\"/>\n",
              "    </g>\n",
              "</svg>\n",
              "  </button>\n",
              "\n",
              "<style>\n",
              "  .colab-df-quickchart {\n",
              "      --bg-color: #E8F0FE;\n",
              "      --fill-color: #1967D2;\n",
              "      --hover-bg-color: #E2EBFA;\n",
              "      --hover-fill-color: #174EA6;\n",
              "      --disabled-fill-color: #AAA;\n",
              "      --disabled-bg-color: #DDD;\n",
              "  }\n",
              "\n",
              "  [theme=dark] .colab-df-quickchart {\n",
              "      --bg-color: #3B4455;\n",
              "      --fill-color: #D2E3FC;\n",
              "      --hover-bg-color: #434B5C;\n",
              "      --hover-fill-color: #FFFFFF;\n",
              "      --disabled-bg-color: #3B4455;\n",
              "      --disabled-fill-color: #666;\n",
              "  }\n",
              "\n",
              "  .colab-df-quickchart {\n",
              "    background-color: var(--bg-color);\n",
              "    border: none;\n",
              "    border-radius: 50%;\n",
              "    cursor: pointer;\n",
              "    display: none;\n",
              "    fill: var(--fill-color);\n",
              "    height: 32px;\n",
              "    padding: 0;\n",
              "    width: 32px;\n",
              "  }\n",
              "\n",
              "  .colab-df-quickchart:hover {\n",
              "    background-color: var(--hover-bg-color);\n",
              "    box-shadow: 0 1px 2px rgba(60, 64, 67, 0.3), 0 1px 3px 1px rgba(60, 64, 67, 0.15);\n",
              "    fill: var(--button-hover-fill-color);\n",
              "  }\n",
              "\n",
              "  .colab-df-quickchart-complete:disabled,\n",
              "  .colab-df-quickchart-complete:disabled:hover {\n",
              "    background-color: var(--disabled-bg-color);\n",
              "    fill: var(--disabled-fill-color);\n",
              "    box-shadow: none;\n",
              "  }\n",
              "\n",
              "  .colab-df-spinner {\n",
              "    border: 2px solid var(--fill-color);\n",
              "    border-color: transparent;\n",
              "    border-bottom-color: var(--fill-color);\n",
              "    animation:\n",
              "      spin 1s steps(1) infinite;\n",
              "  }\n",
              "\n",
              "  @keyframes spin {\n",
              "    0% {\n",
              "      border-color: transparent;\n",
              "      border-bottom-color: var(--fill-color);\n",
              "      border-left-color: var(--fill-color);\n",
              "    }\n",
              "    20% {\n",
              "      border-color: transparent;\n",
              "      border-left-color: var(--fill-color);\n",
              "      border-top-color: var(--fill-color);\n",
              "    }\n",
              "    30% {\n",
              "      border-color: transparent;\n",
              "      border-left-color: var(--fill-color);\n",
              "      border-top-color: var(--fill-color);\n",
              "      border-right-color: var(--fill-color);\n",
              "    }\n",
              "    40% {\n",
              "      border-color: transparent;\n",
              "      border-right-color: var(--fill-color);\n",
              "      border-top-color: var(--fill-color);\n",
              "    }\n",
              "    60% {\n",
              "      border-color: transparent;\n",
              "      border-right-color: var(--fill-color);\n",
              "    }\n",
              "    80% {\n",
              "      border-color: transparent;\n",
              "      border-right-color: var(--fill-color);\n",
              "      border-bottom-color: var(--fill-color);\n",
              "    }\n",
              "    90% {\n",
              "      border-color: transparent;\n",
              "      border-bottom-color: var(--fill-color);\n",
              "    }\n",
              "  }\n",
              "</style>\n",
              "\n",
              "  <script>\n",
              "    async function quickchart(key) {\n",
              "      const quickchartButtonEl =\n",
              "        document.querySelector('#' + key + ' button');\n",
              "      quickchartButtonEl.disabled = true;  // To prevent multiple clicks.\n",
              "      quickchartButtonEl.classList.add('colab-df-spinner');\n",
              "      try {\n",
              "        const charts = await google.colab.kernel.invokeFunction(\n",
              "            'suggestCharts', [key], {});\n",
              "      } catch (error) {\n",
              "        console.error('Error during call to suggestCharts:', error);\n",
              "      }\n",
              "      quickchartButtonEl.classList.remove('colab-df-spinner');\n",
              "      quickchartButtonEl.classList.add('colab-df-quickchart-complete');\n",
              "    }\n",
              "    (() => {\n",
              "      let quickchartButtonEl =\n",
              "        document.querySelector('#df-6e488a4f-73a3-4e4d-a818-bb88f12949b5 button');\n",
              "      quickchartButtonEl.style.display =\n",
              "        google.colab.kernel.accessAllowed ? 'block' : 'none';\n",
              "    })();\n",
              "  </script>\n",
              "</div>\n",
              "    </div>\n",
              "  </div>\n"
            ],
            "application/vnd.google.colaboratory.intrinsic+json": {
              "type": "dataframe",
              "variable_name": "resultados",
              "summary": "{\n  \"name\": \"resultados\",\n  \"rows\": 9,\n  \"fields\": [\n    {\n      \"column\": \"k-vecinos\",\n      \"properties\": {\n        \"dtype\": \"number\",\n        \"std\": 5.294126724756197,\n        \"min\": 6.0,\n        \"max\": 22.0,\n        \"num_unique_values\": 9,\n        \"samples\": [\n          18.0,\n          7.0,\n          16.0\n        ],\n        \"semantic_type\": \"\",\n        \"description\": \"\"\n      }\n    },\n    {\n      \"column\": \"error en conjunto prueba\",\n      \"properties\": {\n        \"dtype\": \"number\",\n        \"std\": 0.021887435029162582,\n        \"min\": 0.37735849056603776,\n        \"max\": 0.44025157232704404,\n        \"num_unique_values\": 9,\n        \"samples\": [\n          0.4046121593291404,\n          0.44025157232704404,\n          0.3857442348008385\n        ],\n        \"semantic_type\": \"\",\n        \"description\": \"\"\n      }\n    }\n  ]\n}"
            }
          },
          "metadata": {},
          "execution_count": 44
        }
      ],
      "source": [
        "resultados = experimentar ([6,7,10,12,14,16,17,18,22], X_balanceado.to_numpy(), y_balanceado.to_numpy())\n",
        "resultados"
      ]
    },
    {
      "cell_type": "markdown",
      "metadata": {
        "id": "RjYA5v8UlmIf"
      },
      "source": [
        "## **Ventana de Parzen**\n",
        "\n",
        "Ahora vamos a utilizar el metodo de ventana de parzen. Recordar de las clases teóricas, que para aplicar este método, debemos usar una función kernel. En la siguiente celda se proponen dos funciones para:\n",
        "1. Cálculo de un kernel gausiano\n",
        "2. Cálculo de la ventana de parzen, es decir el termino: $ \\sum_{i=1}^{N} K(u_i)$, siendo $\\;\\; u_i = \\frac{d({\\bf{x}}^*,{\\bf{x}}_i)}{h}$ y la función $K$ el kernel gausiano"
      ]
    },
    {
      "cell_type": "code",
      "execution_count": null,
      "metadata": {
        "id": "REi5LxoilmIg"
      },
      "outputs": [],
      "source": [
        "def kernel_gaussiano(x):\n",
        "    \"\"\"Calcula el kernel gaussiano de x\n",
        "    x: matriz/vector de numpy\n",
        "    retorna: el valor de de kernel gaussiano\n",
        "    \"\"\"\n",
        "    return np.exp((-0.5)*x**2)\n",
        "\n",
        "def ParzenWindow(h,x,Data):\n",
        "    \"\"\"\"ventana de parzen\n",
        "\n",
        "    args:\n",
        "        h: ancho de la ventana de kernel\n",
        "\n",
        "        x: vector con representando una sola muestra\n",
        "        Data: vector de muestras de entrenamiento\n",
        "\n",
        "    retorna: el valor de ventana de parzen para una muestra\n",
        "    \"\"\"\n",
        "    h = h\n",
        "    Ns = Data.shape[0]\n",
        "    suma = 0\n",
        "    for k in range(Ns):\n",
        "        u = euclidean(x,Data[k,:])\n",
        "        suma += kernel_gaussiano(u/h)\n",
        "    return suma"
      ]
    },
    {
      "cell_type": "code",
      "execution_count": null,
      "metadata": {
        "id": "3W7zC5Y5JNDE"
      },
      "outputs": [],
      "source": [
        "#@title **5. Pregunta Abierta**\n",
        "#@markdown ¿Qué objetivo tiene la función kernel? Contestar en el contexto del método de la ventana de parzen\n",
        "respuesta_5 = \"Asigna  un peso a la muestra de entrenamiento basandose en la muestra de validación que ingresa \" #@param {type:\"string\"}"
      ]
    },
    {
      "cell_type": "markdown",
      "metadata": {
        "id": "MAlolkzzlmIh"
      },
      "source": [
        "Una vez entendidos los anteriores métodos, resolveremos el problema utilizando Ventana de Parzen."
      ]
    },
    {
      "cell_type": "code",
      "execution_count": null,
      "metadata": {
        "id": "K-8GS3A8lmIh"
      },
      "outputs": [],
      "source": [
        "#Ejercicio de código\n",
        "def parzenClass(h, Xtrain, Ytrain, Xtest):\n",
        "    \"\"\" Funcion que implementa metodo de ventana de parzen para\n",
        "        para clasificación\n",
        "\n",
        "    h (float): ancho de h de la ventana\n",
        "    Xtrain: es la matriz con las muestras de entrenamiento\n",
        "    Ytrain: es un vector con los valores de salida pra cada una de las muestras de entrenamiento\n",
        "\n",
        "    retorna: - las estimaciones del modelo parzen para el conjunto Xtest\n",
        "              esta matriz debe tener un shape de [row/muestras de Xtest]\n",
        "             - las probabilidades de la vetana [row/muestras de Xtest, número de clases]\n",
        "    \"\"\"\n",
        "    print(h, Xtrain, Ytrain, Xtest)\n",
        "    Yest = np.zeros(Xtest.shape[0])\n",
        "    clases = np.unique(Ytrain)\n",
        "    fds_matrix = np.zeros((Xtest.shape[0], len(clases)))\n",
        "    ## pista: recuerde el termino que acompaña al sumatoria (N)\n",
        "\n",
        "    for n, sample in enumerate (Xtest):\n",
        "        auxiliar=np.zeros(len(clases))\n",
        "\n",
        "        for label in clases:\n",
        "          index=np.where(Ytrain==label)\n",
        "          train=Xtrain[index]\n",
        "          auxiliar[label]=((ParzenWindow(h,sample,train))/(len(train)))\n",
        "\n",
        "        fds_matrix[n]=auxiliar\n",
        "        max = np.argmax(auxiliar)\n",
        "        Yest[n] =max\n",
        "\n",
        "    #Debe retornar un vector que contenga las predicciones para cada una de las muestras en Xtest, en el mismo orden.\n",
        "    return Yest, fds_matrix"
      ]
    },
    {
      "cell_type": "markdown",
      "metadata": {
        "id": "_Z2-claRlmIk"
      },
      "source": [
        "### **Experimentar con Parzen**\n",
        "Ahora vamos a realizar los experimentos, recordar usar la misma metodología de validación, usando la función previamente creada."
      ]
    },
    {
      "cell_type": "code",
      "execution_count": null,
      "metadata": {
        "id": "rHF6dWYYlmIn"
      },
      "outputs": [],
      "source": [
        "#ejercicio de codigo\n",
        "def experimentarParzen (hs, X, Y):\n",
        "    \"\"\"Función que realiza los experimentos con knn usando\n",
        "       una estrategia de validacion entrenamiento y pruebas\n",
        "\n",
        "    hs: List[int/float] lista con los valores de h a usar\n",
        "    X: matriz de numpy conjunto con muestras y caracteristicas\n",
        "    Y: vector de numpy con los valores de las etiquetas\n",
        "\n",
        "    retorna: dataframe con los resultados, debe contener las siguientes columnas:\n",
        "        - el ancho de ventana (h),\n",
        "        - el error medio en conjunto de prueba\n",
        "    \"\"\"\n",
        "\n",
        "\n",
        "    resultados = pd.DataFrame()\n",
        "    idx = 0\n",
        "    Xtrain, Xtest, Ytrain, Ytest = train_test_split(X,Y, train_size=0.8,test_size=0.2,random_state=0)\n",
        "    scaler = StandardScaler()\n",
        "    #normalizamos los datos\n",
        "    scaler.fit(Xtrain)\n",
        "    Xtrain = scaler.transform(Xtrain)\n",
        "    Xtest = scaler.transform(Xtest)\n",
        "\n",
        "    # iteramos sobre los valores de hs\n",
        "    for h in hs:\n",
        "\n",
        "        Yest, probabilidades = parzenClass(h,Xtrain,Ytrain,Xtest)\n",
        "        errorTest = ErrorClas(Yest,Ytest)\n",
        "\n",
        "        resultados.loc[idx,'valor h'] = h\n",
        "        resultados.loc[idx,'error en conjunto prueba'] = errorTest\n",
        "\n",
        "        idx+=1\n",
        "    return (resultados)"
      ]
    },
    {
      "cell_type": "code",
      "execution_count": null,
      "metadata": {
        "id": "6qwO7XGllmIq",
        "colab": {
          "base_uri": "https://localhost:8080/"
        },
        "outputId": "58365902-99c5-4bdd-a912-e4964d421860"
      },
      "outputs": [
        {
          "output_type": "stream",
          "name": "stdout",
          "text": [
            "0.05 [[ 0.33865462 -0.37694341 -0.58086703  0.38597237  0.51702881]\n",
            " [ 0.33865462  2.65291814 -0.32010311  0.38597237  0.42649375]\n",
            " [ 0.33865462 -0.37694341 -0.71124899  0.38597237  0.46529449]\n",
            " ...\n",
            " [ 0.33865462 -0.37694341 -0.32010311  0.38597237 -1.94035139]\n",
            " [ 0.33865462 -0.37694341 -0.58086703  0.38597237  0.25835721]\n",
            " [ 0.33865462 -0.37694341 -0.32010311  0.38597237  0.56014074]] [2 1 1 ... 0 1 2] [[ 0.33865462 -0.37694341 -0.71124899  0.38597237  0.83113003]\n",
            " [ 0.33865462  2.65291814 -0.05933919 -2.59085905 -1.94035139]\n",
            " [ 0.33865462 -0.37694341 -0.32010311  0.38597237  0.38769301]\n",
            " ...\n",
            " [ 0.33865462 -0.37694341 -0.71124899  0.38597237  0.63019763]\n",
            " [ 0.33865462 -0.37694341 -0.45048507  0.38597237  0.06435351]\n",
            " [ 0.33865462 -0.37694341 -0.58086703  0.38597237 -1.94035139]]\n",
            "0.1 [[ 0.33865462 -0.37694341 -0.58086703  0.38597237  0.51702881]\n",
            " [ 0.33865462  2.65291814 -0.32010311  0.38597237  0.42649375]\n",
            " [ 0.33865462 -0.37694341 -0.71124899  0.38597237  0.46529449]\n",
            " ...\n",
            " [ 0.33865462 -0.37694341 -0.32010311  0.38597237 -1.94035139]\n",
            " [ 0.33865462 -0.37694341 -0.58086703  0.38597237  0.25835721]\n",
            " [ 0.33865462 -0.37694341 -0.32010311  0.38597237  0.56014074]] [2 1 1 ... 0 1 2] [[ 0.33865462 -0.37694341 -0.71124899  0.38597237  0.83113003]\n",
            " [ 0.33865462  2.65291814 -0.05933919 -2.59085905 -1.94035139]\n",
            " [ 0.33865462 -0.37694341 -0.32010311  0.38597237  0.38769301]\n",
            " ...\n",
            " [ 0.33865462 -0.37694341 -0.71124899  0.38597237  0.63019763]\n",
            " [ 0.33865462 -0.37694341 -0.45048507  0.38597237  0.06435351]\n",
            " [ 0.33865462 -0.37694341 -0.58086703  0.38597237 -1.94035139]]\n",
            "0.5 [[ 0.33865462 -0.37694341 -0.58086703  0.38597237  0.51702881]\n",
            " [ 0.33865462  2.65291814 -0.32010311  0.38597237  0.42649375]\n",
            " [ 0.33865462 -0.37694341 -0.71124899  0.38597237  0.46529449]\n",
            " ...\n",
            " [ 0.33865462 -0.37694341 -0.32010311  0.38597237 -1.94035139]\n",
            " [ 0.33865462 -0.37694341 -0.58086703  0.38597237  0.25835721]\n",
            " [ 0.33865462 -0.37694341 -0.32010311  0.38597237  0.56014074]] [2 1 1 ... 0 1 2] [[ 0.33865462 -0.37694341 -0.71124899  0.38597237  0.83113003]\n",
            " [ 0.33865462  2.65291814 -0.05933919 -2.59085905 -1.94035139]\n",
            " [ 0.33865462 -0.37694341 -0.32010311  0.38597237  0.38769301]\n",
            " ...\n",
            " [ 0.33865462 -0.37694341 -0.71124899  0.38597237  0.63019763]\n",
            " [ 0.33865462 -0.37694341 -0.45048507  0.38597237  0.06435351]\n",
            " [ 0.33865462 -0.37694341 -0.58086703  0.38597237 -1.94035139]]\n",
            "1 [[ 0.33865462 -0.37694341 -0.58086703  0.38597237  0.51702881]\n",
            " [ 0.33865462  2.65291814 -0.32010311  0.38597237  0.42649375]\n",
            " [ 0.33865462 -0.37694341 -0.71124899  0.38597237  0.46529449]\n",
            " ...\n",
            " [ 0.33865462 -0.37694341 -0.32010311  0.38597237 -1.94035139]\n",
            " [ 0.33865462 -0.37694341 -0.58086703  0.38597237  0.25835721]\n",
            " [ 0.33865462 -0.37694341 -0.32010311  0.38597237  0.56014074]] [2 1 1 ... 0 1 2] [[ 0.33865462 -0.37694341 -0.71124899  0.38597237  0.83113003]\n",
            " [ 0.33865462  2.65291814 -0.05933919 -2.59085905 -1.94035139]\n",
            " [ 0.33865462 -0.37694341 -0.32010311  0.38597237  0.38769301]\n",
            " ...\n",
            " [ 0.33865462 -0.37694341 -0.71124899  0.38597237  0.63019763]\n",
            " [ 0.33865462 -0.37694341 -0.45048507  0.38597237  0.06435351]\n",
            " [ 0.33865462 -0.37694341 -0.58086703  0.38597237 -1.94035139]]\n",
            "2 [[ 0.33865462 -0.37694341 -0.58086703  0.38597237  0.51702881]\n",
            " [ 0.33865462  2.65291814 -0.32010311  0.38597237  0.42649375]\n",
            " [ 0.33865462 -0.37694341 -0.71124899  0.38597237  0.46529449]\n",
            " ...\n",
            " [ 0.33865462 -0.37694341 -0.32010311  0.38597237 -1.94035139]\n",
            " [ 0.33865462 -0.37694341 -0.58086703  0.38597237  0.25835721]\n",
            " [ 0.33865462 -0.37694341 -0.32010311  0.38597237  0.56014074]] [2 1 1 ... 0 1 2] [[ 0.33865462 -0.37694341 -0.71124899  0.38597237  0.83113003]\n",
            " [ 0.33865462  2.65291814 -0.05933919 -2.59085905 -1.94035139]\n",
            " [ 0.33865462 -0.37694341 -0.32010311  0.38597237  0.38769301]\n",
            " ...\n",
            " [ 0.33865462 -0.37694341 -0.71124899  0.38597237  0.63019763]\n",
            " [ 0.33865462 -0.37694341 -0.45048507  0.38597237  0.06435351]\n",
            " [ 0.33865462 -0.37694341 -0.58086703  0.38597237 -1.94035139]]\n",
            "5 [[ 0.33865462 -0.37694341 -0.58086703  0.38597237  0.51702881]\n",
            " [ 0.33865462  2.65291814 -0.32010311  0.38597237  0.42649375]\n",
            " [ 0.33865462 -0.37694341 -0.71124899  0.38597237  0.46529449]\n",
            " ...\n",
            " [ 0.33865462 -0.37694341 -0.32010311  0.38597237 -1.94035139]\n",
            " [ 0.33865462 -0.37694341 -0.58086703  0.38597237  0.25835721]\n",
            " [ 0.33865462 -0.37694341 -0.32010311  0.38597237  0.56014074]] [2 1 1 ... 0 1 2] [[ 0.33865462 -0.37694341 -0.71124899  0.38597237  0.83113003]\n",
            " [ 0.33865462  2.65291814 -0.05933919 -2.59085905 -1.94035139]\n",
            " [ 0.33865462 -0.37694341 -0.32010311  0.38597237  0.38769301]\n",
            " ...\n",
            " [ 0.33865462 -0.37694341 -0.71124899  0.38597237  0.63019763]\n",
            " [ 0.33865462 -0.37694341 -0.45048507  0.38597237  0.06435351]\n",
            " [ 0.33865462 -0.37694341 -0.58086703  0.38597237 -1.94035139]]\n",
            "10 [[ 0.33865462 -0.37694341 -0.58086703  0.38597237  0.51702881]\n",
            " [ 0.33865462  2.65291814 -0.32010311  0.38597237  0.42649375]\n",
            " [ 0.33865462 -0.37694341 -0.71124899  0.38597237  0.46529449]\n",
            " ...\n",
            " [ 0.33865462 -0.37694341 -0.32010311  0.38597237 -1.94035139]\n",
            " [ 0.33865462 -0.37694341 -0.58086703  0.38597237  0.25835721]\n",
            " [ 0.33865462 -0.37694341 -0.32010311  0.38597237  0.56014074]] [2 1 1 ... 0 1 2] [[ 0.33865462 -0.37694341 -0.71124899  0.38597237  0.83113003]\n",
            " [ 0.33865462  2.65291814 -0.05933919 -2.59085905 -1.94035139]\n",
            " [ 0.33865462 -0.37694341 -0.32010311  0.38597237  0.38769301]\n",
            " ...\n",
            " [ 0.33865462 -0.37694341 -0.71124899  0.38597237  0.63019763]\n",
            " [ 0.33865462 -0.37694341 -0.45048507  0.38597237  0.06435351]\n",
            " [ 0.33865462 -0.37694341 -0.58086703  0.38597237 -1.94035139]]\n"
          ]
        }
      ],
      "source": [
        "hs = [0.05, 0.1, 0.5, 1, 2, 5, 10]\n",
        "experimentos_parzen = experimentarParzen(hs,X_balanceado.to_numpy(),y_balanceado.to_numpy())\n",
        "#experimentos_parzen"
      ]
    },
    {
      "cell_type": "code",
      "execution_count": null,
      "metadata": {
        "id": "vx9AQMO7lmIs"
      },
      "outputs": [],
      "source": [
        "#@title **6. Pregunta Abierta**\n",
        "#@markdown ¿En el método de ventana de parzen, por qué no hay necesidad de definir el número de vecinos cercanos?\n",
        "#@markdown ¿cuál de las opciones es mejor justificada?\n",
        "\n",
        "#@markdown A) En la ventana de parzen, la clase es asignada de acuerdo a todas las distancias de la muestra a clasificar respecto a todas las muestras del conjunto de entrenamiento\n",
        "\n",
        "#@markdown B) En la ventana de parzen, la clase es asignada de acuerdo a todas las distancias de la muestra a clasificar respecto a todas las muestras del conjunto de prueba\n",
        "\n",
        "#@markdown C) En la ventana de parzen, la clase es asignada de acuerdo una función kernel que no necesita los k-vecinos, solo necesita el promedio de las distancias de la muestra a clasificar respecto a todas las muestras del conjunto de entrenamiento\n",
        "\n",
        "#@markdown D) En la ventana de parzen, la clase es asignada de acuerdo a una función de probabilidad  que usa las distancias de la muestra a clasificar respecto a todas las muestras del conjunto de entrenamiento\n",
        "\n",
        "#@markdown Selecciona dentro las lista desplegable\n",
        "respuesta_6 = 'D' #@param [\"\", \"A\", \"B\", \"C\", \"D\"]"
      ]
    }
  ],
  "metadata": {
    "colab": {
      "provenance": [],
      "include_colab_link": true
    },
    "kernelspec": {
      "display_name": "Python 3",
      "language": "python",
      "name": "python3"
    },
    "language_info": {
      "codemirror_mode": {
        "name": "ipython",
        "version": 3
      },
      "file_extension": ".py",
      "mimetype": "text/x-python",
      "name": "python",
      "nbconvert_exporter": "python",
      "pygments_lexer": "ipython3",
      "version": "3.6.9"
    }
  },
  "nbformat": 4,
  "nbformat_minor": 0
}
