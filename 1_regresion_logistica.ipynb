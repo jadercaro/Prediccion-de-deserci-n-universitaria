{
  "cells": [
    {
      "cell_type": "markdown",
      "metadata": {
        "id": "view-in-github",
        "colab_type": "text"
      },
      "source": [
        "<a href=\"https://colab.research.google.com/github/jadercaro/Prediccion-de-desercion-universitaria/blob/main/1_regresion_logistica.ipynb\" target=\"_parent\"><img src=\"https://colab.research.google.com/assets/colab-badge.svg\" alt=\"Open In Colab\"/></a>"
      ]
    },
    {
      "cell_type": "markdown",
      "metadata": {
        "id": "zE8l20T-t-DR"
      },
      "source": [
        "**Recuerda que una vez abierto, Da clic en \"Copiar en Drive\", de lo contrario no podras alamancenar tu progreso**\n",
        "\n",
        "Nota: no olvide ir ejecutando las celdas de código de arriba hacia abajo para que no tenga errores de importación de librerías o por falta de definición de variables.\n",
        "\n",
        "**Solo un integrante del equipo de trabajo realizará la entrega del trabajo de esta sesión**. El entregable es el notebook con los ajustes a sus bases de datos y las respuestas a las preguntas.\n"
      ]
    },
    {
      "cell_type": "code",
      "execution_count": null,
      "metadata": {
        "id": "Xz0gLt5At-Ec"
      },
      "outputs": [],
      "source": [
        "#@title **Integrantes**\n",
        "nombres_apellidos_integrante_1 ='Jhon Jader Caro Sanchez' #@param {type:\"string\"}\n",
        "nombres_apellidos_integrante_2 = 'Jagler David Velasquez Velasquez'  #@param {type:\"string\"}\n",
        "nombres_apellidos_integrante_3 = 'Alejandro Arias Ortiz'  #@param {type:\"string\"}"
      ]
    },
    {
      "cell_type": "code",
      "source": [
        "#@title **EDA**\n",
        "link_notebook_EDA_regresión ='https://colab.research.google.com/drive/1H3qyKXoXmjXBMZNhlhQf-KtnvM9JIaih?usp=sharing' #@param {type:\"string\"}\n",
        "#@title **EDA**\n",
        "link_notebook_EDA_clasificación ='https://colab.research.google.com/drive/1_1WrJxIyHoEj4zMJ3MKOLeXM2CRPbaeR?usp=sharing' #@param {type:\"string\"}"
      ],
      "metadata": {
        "id": "UKE-hzfdnZai"
      },
      "execution_count": null,
      "outputs": []
    },
    {
      "cell_type": "markdown",
      "metadata": {
        "id": "1DGtR6cMt-DU"
      },
      "source": [
        "#**Parte 1 Regresión polinomial múltiple (regresión lineal)**\n"
      ]
    },
    {
      "cell_type": "code",
      "source": [
        "#Importing all the dependencies\n",
        "import pandas as pd\n",
        "import numpy as np\n",
        "from numpy import random\n",
        "from matplotlib import pyplot as plt\n",
        "import seaborn as sns\n",
        "import plotly.express as px\n",
        "import plotly.graph_objects as go\n",
        "import math\n",
        "from scipy import stats\n",
        "from sklearn.model_selection import train_test_split"
      ],
      "metadata": {
        "id": "KojnEsHLGDQt"
      },
      "execution_count": null,
      "outputs": []
    },
    {
      "cell_type": "markdown",
      "metadata": {
        "id": "0MJDEwjht-DV"
      },
      "source": [
        "## **Ejercicio 1: Contextualización del problema**\n",
        "\n",
        "Describe brevemente tu base de datos y has breve contexto del problema que abordarán en regresión lineal"
      ]
    },
    {
      "cell_type": "markdown",
      "source": [
        "El objetivo de nuestro estudio de regresión es predecir los niveles de **colesterol** a partir de una serie de características médicas. Seleccioné un conjunto inicial de 12 características potenciales, pero para simplificar el modelo, decidí reducirlo a solo 5 características principales. Estas características fueron seleccionadas debido a su alta correlación de R de Pearson y relación de correlación con respecto a la variable objetivo, que es el nivel de colesterol en sangre.\n",
        "\n",
        "Las características numéricas que hemos elegido para incluir en nuestro modelo son:\n",
        "\n",
        "  1. **Presión arterial en reposo en mm Hg al ingreso al hospital** (trestbps) - Númerica\n",
        "\n",
        "  2. **Edad del paciente** (age) - Númerica\n",
        "\n",
        "  3. **Número de vasos principales coloreados por fluoroscopía** (ca) - Númerica\n",
        "\n",
        "  4. **Sexo del paciente** (sex) - Catégorica\n",
        "\n",
        "  5. **Resultados electrocardiográficos en reposo**(restecg) -Catégorica\n",
        "\n",
        "  6. **Colesterol**(chol) - Númerica\n"
      ],
      "metadata": {
        "id": "GAX04s-DZ_tF"
      }
    },
    {
      "cell_type": "markdown",
      "source": [
        "**Carga la base de datos**\n",
        "<br> Selecciona las variables de entrada (x) de tu modelo de regresión lineal e indica cuál es tu variable salida (variable objetivo, y)."
      ],
      "metadata": {
        "id": "FKvnysj6hcKc"
      }
    },
    {
      "cell_type": "code",
      "source": [
        "db = pd.read_csv('regresion_preprocesado.csv')\n",
        "x = db[['trestbps','age','sex','ca','restecg_0','restecg_1','restecg_2']]\n",
        "y = db['chol']"
      ],
      "metadata": {
        "id": "I7MioD3_HWAU"
      },
      "execution_count": null,
      "outputs": []
    },
    {
      "cell_type": "code",
      "execution_count": null,
      "metadata": {
        "id": "HeVKE-aot-DV",
        "tags": [],
        "colab": {
          "base_uri": "https://localhost:8080/"
        },
        "outputId": "9b1f6ca5-f737-4657-df58-d6335c5a6ddc"
      },
      "outputs": [
        {
          "output_type": "stream",
          "name": "stdout",
          "text": [
            "conjunto de datos      trestbps       age  sex        ca  restecg_0  restecg_1  restecg_2\n",
            "0    0.757525  0.948726    1  0.000000        0.0        0.0        1.0\n",
            "1    1.611220  1.392002    1  3.000000        0.0        0.0        1.0\n",
            "2   -0.665300  1.392002    1  2.000000        0.0        0.0        1.0\n",
            "3   -0.096170 -1.932564    1  0.000000        1.0        0.0        0.0\n",
            "4   -0.096170 -1.489288    0  0.000000        0.0        0.0        1.0\n",
            "..        ...       ...  ...       ...        ...        ...        ...\n",
            "298 -1.234430 -1.046013    1  0.000000        1.0        0.0        0.0\n",
            "299  0.700612  1.502821    1  2.000000        1.0        0.0        0.0\n",
            "300 -0.096170  0.283813    1  1.000000        1.0        0.0        0.0\n",
            "301 -0.096170  0.283813    0  1.000000        0.0        0.0        1.0\n",
            "302  0.359134 -1.821745    1  0.672241        1.0        0.0        0.0\n",
            "\n",
            "[303 rows x 7 columns]\n",
            "(303, 7)\n",
            "\n",
            "variable a predecir 0      233.0\n",
            "1      286.0\n",
            "2      229.0\n",
            "3      250.0\n",
            "4      204.0\n",
            "       ...  \n",
            "298    264.0\n",
            "299    193.0\n",
            "300    131.0\n",
            "301    236.0\n",
            "302    175.0\n",
            "Name: chol, Length: 303, dtype: float64\n",
            "(303,)\n"
          ]
        }
      ],
      "source": [
        "# tienes ya cargadas las siguientes variables:\n",
        "print(\"conjunto de datos\", x)\n",
        "print(x.shape)\n",
        "print()\n",
        "print(\"variable a predecir\", y)\n",
        "print(y.shape)"
      ]
    },
    {
      "cell_type": "code",
      "source": [
        "def num_muestras_carac(X):\n",
        "    \"\"\"Esta funcion es encargada retornar el numero de muestras\n",
        "        y caracteristicas del conjunto de datos X\n",
        "\n",
        "        X: matriz numpy\n",
        "        retorna:\n",
        "            numero de muestras (int/float)\n",
        "            numero de caracteristicas (int/float)\n",
        "\n",
        "    \"\"\"\n",
        "\n",
        "    return X.shape"
      ],
      "metadata": {
        "id": "J7lp2_fni4Fy"
      },
      "execution_count": null,
      "outputs": []
    },
    {
      "cell_type": "code",
      "execution_count": null,
      "metadata": {
        "id": "o1fYBNwPzYx-"
      },
      "outputs": [],
      "source": [
        "#@title Pregunta Abierta\n",
        "#@markdown  ¿Explique en sus palabras que es un problema de regresión?\n",
        "respuesta_1_1 = \"Un problema de regresión es aquel que busca encontrar una relación entre unas variables de entrada y una variable de salida continua\" #@param {type:\"string\"}"
      ]
    },
    {
      "cell_type": "markdown",
      "metadata": {
        "id": "IsCCj-RFt-De"
      },
      "source": [
        "## Ejercicio 2\n",
        "\n",
        "Analice los siguientes métodos de la teoría  de modelos de  *regresión polinomial múltiple*:\n",
        "\n",
        "1. error cuadrático medio (**ECM**)\n",
        "2. modelo de regresión múltiple (**regression**)\n",
        "3. calculo del costo de la regresión (**cost**)\n",
        "4. extension de matriz (**extension_matriz**)\n",
        "\n",
        "La siguiente celda contiene la implementación de estas 4 funciones. Analizar y entender su funcionamiento"
      ]
    },
    {
      "cell_type": "code",
      "execution_count": null,
      "metadata": {
        "id": "uautFfy5t-De"
      },
      "outputs": [],
      "source": [
        "def ECM(Y_est,Y):\n",
        "    \"\"\"funcion para calcular el error cuadratico medio\n",
        "    Y_est: debe contener los valores predichos por el modelo evaluar\n",
        "    Y: debe contener los valores reales\n",
        "    retorna: error cuadratico medio\n",
        "    \"\"\"\n",
        "    N = np.size(Y)\n",
        "    ecm = np.sum((Y_est.reshape(N,1) - Y.reshape(N,1))**2)/(N)\n",
        "    return ecm\n",
        "\n",
        "def regression(X, W):\n",
        "    \"\"\"calcula la regresión multiple\n",
        "    X: los valores que corresponden a las caractersiticas\n",
        "    W: son los pesos usadados para realizar la regresión\n",
        "    retorna: valor estimado\n",
        "    \"\"\"\n",
        "    Yest = np.dot(X,W)    #con np.dot se realiza el producto matricial. Aquí X es dim [Nxd] y W es dim [dx1]\n",
        "    return Yest           #Esta variable contiene la salida de f(X,W)\n",
        "\n",
        "\n",
        "def error_c(W,X,Y):\n",
        "    \"\"\"calcula el error de la regresión\n",
        "    W: son los pesos usadados para realizar la regresión\n",
        "    X: los valores que corresponden a las caractersiticas\n",
        "    Y: el valor de salida esperadas\n",
        "\n",
        "    retorna: valor de error\n",
        "    \"\"\"\n",
        "\n",
        "    m = len(Y)\n",
        "    y_est = regression(X,W)\n",
        "    error = (1/2*m) * np.sum(np.square(y_est-Y))\n",
        "    return error\n",
        "\n",
        "def extension_matriz(X):\n",
        "    \"\"\"funcion que realiza la extension de la matriz X\n",
        "    X: los valores que corresponden a las caractersiticas sin extender\n",
        "    Y: el valor de salida esperadas\n",
        "\n",
        "    retorna: X_ext: matriz con unos extendidos, Y: maitrz con dimensiones ajustadas\n",
        "    \"\"\"\n",
        "    #Obtenemos las dimensiones antes de exteneder la matriz\n",
        "    muestras,caracterisitcas = num_muestras_carac(X)\n",
        "    #Extendemos la matriz X\n",
        "    unos = np.array([np.ones(muestras)])\n",
        "    X_ext = np.concatenate((unos.T, X), axis=1)\n",
        "    X_ext = X_ext.reshape(muestras, caracterisitcas+1)\n",
        "    return (X_ext)"
      ]
    },
    {
      "cell_type": "code",
      "source": [
        "print(x.shape)"
      ],
      "metadata": {
        "id": "IURU8o7EFoqv",
        "colab": {
          "base_uri": "https://localhost:8080/"
        },
        "outputId": "46e3c1db-e8b2-42e2-84e1-356a42252d2e"
      },
      "execution_count": null,
      "outputs": [
        {
          "output_type": "stream",
          "name": "stdout",
          "text": [
            "(303, 7)\n"
          ]
        }
      ]
    },
    {
      "cell_type": "code",
      "source": [
        "print(extension_matriz(x).shape)"
      ],
      "metadata": {
        "id": "cBtNNohKFs-J",
        "colab": {
          "base_uri": "https://localhost:8080/"
        },
        "outputId": "b32d265a-0a05-4839-efbd-05a3381ff261"
      },
      "execution_count": null,
      "outputs": [
        {
          "output_type": "stream",
          "name": "stdout",
          "text": [
            "(303, 8)\n"
          ]
        }
      ]
    },
    {
      "cell_type": "code",
      "execution_count": null,
      "metadata": {
        "id": "L8_MgMs8sBn3"
      },
      "outputs": [],
      "source": [
        "#@title **Pregunta Abierta**\n",
        "#@markdown **Analiza el código de la funcion `extension_matriz`**\n",
        "#@markdown <br> ¿Cuál de las siguientes opciones es la correcta? Recuerda usar la teoría como herramienta\n",
        "\n",
        "#@markdown A) `np.concatenate((unos.T, X), axis=1)` puede ser reemplazada por `np.concatenate((unos, X.T), axis=0)`\n",
        "\n",
        "#@markdown B) `np.concatenate((unos.T, X), axis=1)` hace referencia a la extensión de matrix, que es necesaria para ajustar un termino independiente en el modelo de regresión\n",
        "\n",
        "#@markdown C) La función nos ayuda ha asegurar que dos matrices A y B son multiplicables, haciendo que número de columnas de A coincida con el número de filas de B\n",
        "\n",
        "#@markdown D) El modelo de regresión tiene terminos independientes y dependientes, para que el modelo funcione debemos usar la extensión de matriz para adicionar varias columnas-vector de `1`\n",
        "\n",
        "#@markdown E) Ninguna de las anteriores\n",
        "\n",
        "#@markdown Selecciona dentro las lista desplegable\n",
        "respuesta_1_2 = 'B' #@param [\"\", \"A\", \"B\", \"C\", \"D\",\"E\"]"
      ]
    },
    {
      "cell_type": "markdown",
      "metadata": {
        "id": "792kf6-pt-Dk"
      },
      "source": [
        "Ahora vamos a utilizar el código de la regla de actualización de los parámetros del algoritmo de <font color='blue'>gradiente_descedente</font>:\n",
        "\n",
        "$$w_j(iter) = w_j(iter-1) - \\eta \\frac{\\partial E(w)}{\\partial w_j}$$\n",
        "\n",
        "recordar que\n",
        "\n",
        "$$ \\frac{\\partial E(w)}{\\partial w_j} = \\frac{\\partial E({\\bf{w}})}{\\partial w_j} = \\frac{1}{N}\\sum_{i=1}^{N}\\left( f({\\bf{x}}_i,{\\bf{w}}) - y_i\\right) \\frac{\\partial }{\\partial w_j} f({\\bf{x}}_i, {\\bf{w}})$$\n",
        "\n"
      ]
    },
    {
      "cell_type": "code",
      "source": [
        "## Ejercicio de codigo\n",
        "def gradiente_descendente(X, Y, eta, iteraciones):\n",
        "    \"\"\"Gradiente descendente para regresión lineal múltiple\n",
        "    X: Matriz de datos\n",
        "    Y: vector con los valores a predecir\n",
        "    eta: Taza de aprendizaje\n",
        "    iteraciones:\n",
        "\n",
        "    retorna: W el valor de de los parametros de regresión polinomica\n",
        "             errores: array con el error por iteracion\n",
        "    \"\"\"\n",
        "    # nuevamente usamos la función\n",
        "    # para saber el numero de muestras y caractersiticas\n",
        "    X_ext = extension_matriz(X)\n",
        "    # usar la funcion creada anteriormente\n",
        "    N, caracterisitcas = num_muestras_carac(X_ext)\n",
        "    #Inicializamos el vector de parámetros con ceros y\n",
        "    W = np.zeros((1,caracterisitcas))\n",
        "    W = W.reshape(np.size(W), 1)\n",
        "    # incializamos vector para almacenar el costo\n",
        "    errores = np.zeros(iteraciones)\n",
        "\n",
        "    for i in range(iteraciones):\n",
        "        ## Aca debes completar la funcion! recuerda que solo debes usar numpy (np.funcion_a_usar)\n",
        "        # o las funciones definidas anteriormente\n",
        "        # usa la funcion que hace la regresion y que definimos antes\n",
        "        y_est = regression(X_ext,W)\n",
        "        f_xw_min_yi = y_est-Y\n",
        "        temp =np.dot(X_ext.T, f_xw_min_yi)\n",
        "        # acutaliza\n",
        "        W =W-eta*temp/N\n",
        "        errores[i] = error_c(W,X_ext,Y)\n",
        "\n",
        "    return W, errores"
      ],
      "metadata": {
        "id": "okGXSjOCf01G"
      },
      "execution_count": null,
      "outputs": []
    },
    {
      "cell_type": "markdown",
      "metadata": {
        "id": "SKjx_cyit-Do"
      },
      "source": [
        "## Ejercicio 3: Entrenamiento\n",
        "\n",
        "Con la función implementada vamos a entrenar un modelo y calcular su error de entrenamiento. Antes de realizar esto, debemos separar nuestro conjunto de datos."
      ]
    },
    {
      "cell_type": "markdown",
      "source": [
        "**from sklearn.model_selection import train_test_split **\n",
        "https://scikit-learn.org/stable/modules/generated/sklearn.model_selection.train_test_split.html\n",
        "\n",
        "X_train, X_test, y_train, y_test = train_test_split(x, y, test_size=0.3, random_state=42)"
      ],
      "metadata": {
        "id": "Ag8p4hmuMJLP"
      }
    },
    {
      "cell_type": "code",
      "source": [
        "Xtrain, Xtest, Ytrain, Ytest = train_test_split(x,y,test_size=0.3,random_state=3)"
      ],
      "metadata": {
        "id": "EmBVf7IcpuDW"
      },
      "execution_count": null,
      "outputs": []
    },
    {
      "cell_type": "code",
      "source": [
        "print(Xtrain.shape)\n",
        "print(Ytrain.shape)"
      ],
      "metadata": {
        "id": "rdtdZPVO0TE9",
        "colab": {
          "base_uri": "https://localhost:8080/"
        },
        "outputId": "15960682-c10e-4f73-dadf-3dca93d55b84"
      },
      "execution_count": null,
      "outputs": [
        {
          "output_type": "stream",
          "name": "stdout",
          "text": [
            "(212, 7)\n",
            "(212,)\n"
          ]
        }
      ]
    },
    {
      "cell_type": "code",
      "source": [
        "Ytrain = np.array(Ytrain).reshape(212,1)"
      ],
      "metadata": {
        "id": "qtyQ70qxtXSC"
      },
      "execution_count": null,
      "outputs": []
    },
    {
      "cell_type": "code",
      "source": [
        "print(Xtest.shape)\n",
        "print(Ytest.shape)"
      ],
      "metadata": {
        "id": "MS_c1yVZ0Zl8",
        "colab": {
          "base_uri": "https://localhost:8080/"
        },
        "outputId": "01435b02-f605-4ba0-90ed-4b380ff8a57e"
      },
      "execution_count": null,
      "outputs": [
        {
          "output_type": "stream",
          "name": "stdout",
          "text": [
            "(91, 7)\n",
            "(91,)\n"
          ]
        }
      ]
    },
    {
      "cell_type": "code",
      "source": [
        "Ytest = np.array(Ytest).reshape(91,1)"
      ],
      "metadata": {
        "id": "Fj9bIJhCtyg8"
      },
      "execution_count": null,
      "outputs": []
    },
    {
      "cell_type": "code",
      "execution_count": null,
      "metadata": {
        "id": "FN-97HegsBn4"
      },
      "outputs": [],
      "source": [
        "#@title Pregunta Abierta\n",
        "#@markdown  ¿Cuántas muestras tiene el conjunto de entrenamiento y por qué es menor que el conjunto de prueba?\n",
        "respuesta_1_3 = \"El conjunto de entrenamiento tiene 212 muestras, el de entrenamiento es mayor ya que es necesario que el modelo detecte el patrón de los datos lo suficientemente bien, para que al momento de que se presente un nuevo dato (datos de testeo) lo prediga con el minimo error \" #@param {type:\"string\"}"
      ]
    },
    {
      "cell_type": "markdown",
      "metadata": {
        "id": "WirOVVB3t-Dq"
      },
      "source": [
        "Ahora entrena ejecutando la siguiente línea de código y verifiquemos el comportamiento del error"
      ]
    },
    {
      "cell_type": "code",
      "execution_count": null,
      "metadata": {
        "id": "0yZA7wcCt-Dr",
        "tags": [],
        "colab": {
          "base_uri": "https://localhost:8080/",
          "height": 482
        },
        "outputId": "6b824a1c-a623-4941-a05a-0033bd1efd01"
      },
      "outputs": [
        {
          "output_type": "execute_result",
          "data": {
            "text/plain": [
              "Text(0.5, 0, 'iteraciones')"
            ]
          },
          "metadata": {},
          "execution_count": 16
        },
        {
          "output_type": "display_data",
          "data": {
            "text/plain": [
              "<Figure size 640x480 with 1 Axes>"
            ],
            "image/png": "[encoded data removed]"
          },
          "metadata": {}
        }
      ],
      "source": [
        "W, error = gradiente_descendente(Xtrain, Ytrain, eta = 0.0001, iteraciones=5)\n",
        "# graficar iteraciones y el error\n",
        "plt.plot(range(5), error)\n",
        "plt.ylabel('Error')\n",
        "plt.xlabel('iteraciones')"
      ]
    },
    {
      "cell_type": "markdown",
      "metadata": {
        "id": "FaJMlrKvsBn5"
      },
      "source": [
        "El error es la medida interna de nuestro algoritmo de optimización sin embargo, para este tipo de problemas al final debemos evaluar qué tan bien estamos modelando nuestra salida.\n",
        "Vamos a evaluar nuestro modelo calculando el error cuadrático medio. Para ello vamos crear a una función."
      ]
    },
    {
      "cell_type": "code",
      "execution_count": null,
      "metadata": {
        "id": "oi2YMyITt-Du"
      },
      "outputs": [],
      "source": [
        "## Ejercicio de Código\n",
        "def evaluar_modelo (W, Y_True, X_to_test):\n",
        "    \"\"\" funcion que evalua un modelo de regresión usando el error cuadratico medio\n",
        "\n",
        "    W: es un matriz con los parametros del modelo entrenados\n",
        "    Y_True: valores reales para usar en el evaluamiento del modelo\n",
        "    X_to_test: conjunto de datos para usar en el evaluamiento del modelo\n",
        "\n",
        "    retorna: el error cuadratico medio\n",
        "    \"\"\"\n",
        "    ## Comienza a completar tu codigo. recuerda usar la funciones ya definidas\n",
        "    X_to_test_ext = extension_matriz(X_to_test)\n",
        "    y_est =regression(X_to_test_ext, W)\n",
        "    error =ECM(y_est, Y_True)\n",
        "\n",
        "    return(error)"
      ]
    },
    {
      "cell_type": "code",
      "execution_count": null,
      "metadata": {
        "id": "SkVgkc_5t-Dy",
        "tags": [],
        "colab": {
          "base_uri": "https://localhost:8080/"
        },
        "outputId": "3920a73c-22cf-4d01-cd53-fe39bc7281ee"
      },
      "outputs": [
        {
          "output_type": "stream",
          "name": "stdout",
          "text": [
            "error en entrenamiento del modelo 63607.779159957965\n",
            "error en la evaluación del modelo 62867.99095527694\n"
          ]
        }
      ],
      "source": [
        "# y ahora usala para calcular el error, para evaluar el modelo\n",
        "error_train = evaluar_modelo(W, X_to_test = Xtrain,  Y_True = Ytrain)\n",
        "print(\"error en entrenamiento del modelo\", error_train)\n",
        "error_test = evaluar_modelo(W, X_to_test = Xtest,  Y_True = Ytest)\n",
        "print(\"error en la evaluación del modelo\", error_test)"
      ]
    },
    {
      "cell_type": "code",
      "source": [
        "math.sqrt(error_test)"
      ],
      "metadata": {
        "colab": {
          "base_uri": "https://localhost:8080/"
        },
        "id": "Ru9G_8kmz8mx",
        "outputId": "8e65e1a3-6765-40a3-d6e2-5596def263de"
      },
      "execution_count": null,
      "outputs": [
        {
          "output_type": "execute_result",
          "data": {
            "text/plain": [
              "250.73490174939135"
            ]
          },
          "metadata": {},
          "execution_count": 19
        }
      ]
    },
    {
      "cell_type": "code",
      "source": [
        "print(Xtrain.shape)\n",
        "print(Ytrain.shape)\n",
        "print(W)"
      ],
      "metadata": {
        "id": "kl0Bi0mc1hDL",
        "colab": {
          "base_uri": "https://localhost:8080/"
        },
        "outputId": "154cc5d7-9b62-4923-b67d-15bb5c8facb4"
      },
      "execution_count": null,
      "outputs": [
        {
          "output_type": "stream",
          "name": "stdout",
          "text": [
            "(212, 7)\n",
            "(212, 1)\n",
            "[[0.12344477]\n",
            " [0.00898258]\n",
            " [0.00166508]\n",
            " [0.0813574 ]\n",
            " [0.07790464]\n",
            " [0.05728725]\n",
            " [0.00169739]\n",
            " [0.06446013]]\n"
          ]
        }
      ]
    },
    {
      "cell_type": "code",
      "execution_count": null,
      "metadata": {
        "id": "Dy9Ft9cJt-D0"
      },
      "outputs": [],
      "source": [
        "#@title Pregunta Abierta\n",
        "#@markdown  **¿Qué tan buena es la predicción de tu modelo?** Justifica tu respuesta.\n",
        "respuesta_1_4 = \"El modelo actual es malo en predicción, a pesar de que el ECM es parecido tanto en entrenamiento como en validación, el error es grande comparado al esperado, se debe probar con un método más robusto o ajustar los parámetros de manera más adecuada \" #@param {type:\"string\"}"
      ]
    },
    {
      "cell_type": "markdown",
      "metadata": {
        "id": "pq729RWGt-D3"
      },
      "source": [
        "Hasta ahora lo que hemos realizado es un regresión lineal no polinómica. Nuestro siguiente objetivo es tomar esta regresión y transformarla en polinómica. Comprenda el funcionamiento de la función propuesta"
      ]
    },
    {
      "cell_type": "code",
      "execution_count": null,
      "metadata": {
        "id": "3OU0ZVLut-D3"
      },
      "outputs": [],
      "source": [
        "#Potencia de polinomio\n",
        "def potenciaPolinomio(X,grado):\n",
        "    \"\"\"calcula la potencia del polinomio\n",
        "    X: los valores que corresponden a las caractersiticas\n",
        "    grado: esl grado para realizar la potencia al polinomio\n",
        "    retorna: el valor de X despues elevarlo al grado del polinimoo indicado\n",
        "    \"\"\"\n",
        "    X2 = X.copy()\n",
        "\n",
        "    if grado != 1:\n",
        "        for i in range(2,grado+1):\n",
        "            Xadd = X**i\n",
        "            X2 = np.concatenate((X2, Xadd), axis=1)\n",
        "\n",
        "    return X2"
      ]
    },
    {
      "cell_type": "code",
      "execution_count": null,
      "metadata": {
        "id": "lJd2w7ezt-D5"
      },
      "outputs": [],
      "source": [
        "## Ejercicio de codigo\n",
        "def gradiente_descendente_poly (X, Y, eta, iteraciones, grado):\n",
        "    \"\"\"Gradiente descendente para regresión lineal múltiple\n",
        "    X: Matriz de datos extendida\n",
        "    Y: vector con los valores a predecir\n",
        "    eta: Taza de aprendizaje\n",
        "    iteraciones: numero de iteraciones máximo para el gradiente\n",
        "    grado: el valor del polinomio a usar\n",
        "\n",
        "    retorna: W el valor de de los parametros de regresión polinómica\n",
        "             error: array con el valor del error por cada iteración\n",
        "\n",
        "    \"\"\"\n",
        "    ## completa el codigo\n",
        "    X2 = potenciaPolinomio(X, grado)\n",
        "    W, error =gradiente_descendente(X2,Y, eta, iteraciones)\n",
        "    return (W, error)\n",
        "\n",
        "def evaluar_modelo_poly (Y_True, X_to_test, W, grado):\n",
        "    \"\"\" funcion que evalua un modelo de regresión usando el error cuadratico medio\n",
        "\n",
        "    Y_True: valores reales para usar en el evaluamiento del modelo\n",
        "    X_to_test: conjunto de datos para usar en el evaluamiento del modelo\n",
        "    W: es un matriz con los parametros del modelo entrenados\n",
        "    grado: grado del polinimio a usar\n",
        "\n",
        "    retorna: el error cuadratico medio\n",
        "    \"\"\"\n",
        "    ## Comienza a completar tu codigo. recuerda usar la funciones ya definidas\n",
        "    X2 = potenciaPolinomio(X_to_test, grado)\n",
        "    error = evaluar_modelo(W,Y_True,X2)\n",
        "\n",
        "    return(error)"
      ]
    },
    {
      "cell_type": "markdown",
      "metadata": {
        "id": "0yGe9d6ysBn8"
      },
      "source": [
        "Entrenemos y evaluemos el comportamiento del error con la regresion polinomica ¿El cambio fue bueno?"
      ]
    },
    {
      "cell_type": "code",
      "execution_count": null,
      "metadata": {
        "id": "FYhz7MRIt-D8",
        "tags": [],
        "colab": {
          "base_uri": "https://localhost:8080/",
          "height": 482
        },
        "outputId": "9492e0a1-ae53-43bc-b460-4e15a254da1e"
      },
      "outputs": [
        {
          "output_type": "execute_result",
          "data": {
            "text/plain": [
              "Text(0.5, 0, 'iteraciones')"
            ]
          },
          "metadata": {},
          "execution_count": 23
        },
        {
          "output_type": "display_data",
          "data": {
            "text/plain": [
              "<Figure size 640x480 with 1 Axes>"
            ],
            "image/png": "[encoded data removed]"
          },
          "metadata": {}
        }
      ],
      "source": [
        "# entrenamos\n",
        "W, error_poly = gradiente_descendente_poly(Xtrain, Ytrain, eta = 0.0001, iteraciones=5, grado = 2)\n",
        "plt.plot(range(5), error_poly)\n",
        "plt.ylabel('Error')\n",
        "plt.xlabel('iteraciones')"
      ]
    },
    {
      "cell_type": "code",
      "execution_count": null,
      "metadata": {
        "id": "CYMnh6n7t-EA",
        "tags": [],
        "colab": {
          "base_uri": "https://localhost:8080/"
        },
        "outputId": "4ff15d2f-c0d3-4321-dc1a-e5a1785373ce"
      },
      "outputs": [
        {
          "output_type": "stream",
          "name": "stdout",
          "text": [
            "error en la evaluación del modelo 62560.05435574228\n"
          ]
        }
      ],
      "source": [
        "# completa los parametros para evaluar el modelo\n",
        "error_test = evaluar_modelo_poly(W=W, X_to_test = Xtest,  Y_True = Ytest, grado = 2)\n",
        "print(\"error en la evaluación del modelo\", error_test)"
      ]
    },
    {
      "cell_type": "code",
      "source": [
        "np.sqrt(error_test)"
      ],
      "metadata": {
        "colab": {
          "base_uri": "https://localhost:8080/"
        },
        "id": "s6xTDlYc2urv",
        "outputId": "87209986-d550-407d-b56e-3e4f2c2618dd"
      },
      "execution_count": null,
      "outputs": [
        {
          "output_type": "execute_result",
          "data": {
            "text/plain": [
              "250.12007987313268"
            ]
          },
          "metadata": {},
          "execution_count": 21
        }
      ]
    },
    {
      "cell_type": "markdown",
      "metadata": {
        "id": "5pBn_Tt6t-EC"
      },
      "source": [
        "## Ejercicio 4: Experimentar\n",
        "\n",
        "En nuestro primer experimento vamos a evaluar el rendimiento del modelo usando varias tasas de aprendizaje y grados de polinimios. Vamos a dejar por ahora un numero de iteraciones fijas = 5.\n",
        "\n"
      ]
    },
    {
      "cell_type": "code",
      "execution_count": null,
      "metadata": {
        "id": "ALxnYTFTt-EC"
      },
      "outputs": [],
      "source": [
        "## ejercicio de codigo\n",
        "def experimentar (Xtrain, Xtest, Ytrain, Ytest, tasas, grados):\n",
        "    \"\"\" funcion para realizar experimentos.\n",
        "    Xtrain: conjunto de datos de entreanmiendo\n",
        "    Xtest:  conjunto de datos de prueba\n",
        "    Ytrain:\n",
        "    Ytest:\n",
        "    tasas: Es una lista con los valores númericos de tasas de aprendizaje\n",
        "        para realizar los experimentos\n",
        "    grados: Es una lista con los valores númericos de grados\n",
        "        para realizar los experimentos\n",
        "    retorna: un dataframe con el resultados de los experimentos\n",
        "    \"\"\"\n",
        "    numero_iter = 5\n",
        "\n",
        "    resultados = pd.DataFrame()\n",
        "    idx = 0 # indice\n",
        "    for eta in tasas:\n",
        "        for grado in grados:\n",
        "\n",
        "            # ignorar el costo\n",
        "            W, _ = gradiente_descendente_poly(Xtrain,Ytrain, eta,numero_iter, grado)\n",
        "            error = evaluar_modelo_poly(Ytest, Xtest,W, grado)\n",
        "\n",
        "            resultados.loc[idx,'grado'] = grado\n",
        "            resultados.loc[idx,'tasa de aprendizaje'] = eta\n",
        "            resultados.loc[idx,'ecm'] = error\n",
        "            idx = idx+1\n",
        "\n",
        "    return (resultados)"
      ]
    },
    {
      "cell_type": "code",
      "execution_count": null,
      "metadata": {
        "id": "8oxa-XkKt-EF",
        "tags": []
      },
      "outputs": [],
      "source": [
        "## Ahora usa para verlos los resultados\n",
        "tasas_aprendizaje = [1e-2,1e-1,0.2,0.3,0.4,0.5, 0.6]\n",
        "grados_polinomio = [1,2,3]\n",
        "resultados_ex1 = experimentar(Xtrain, Xtest, Ytrain, Ytest, tasas_aprendizaje, grados_polinomio)"
      ]
    },
    {
      "cell_type": "code",
      "execution_count": null,
      "metadata": {
        "id": "zAOcZfoRt-EG",
        "tags": [],
        "colab": {
          "base_uri": "https://localhost:8080/",
          "height": 708
        },
        "outputId": "48b17e64-3b3c-4ed1-bef4-fb6daf1a222f"
      },
      "outputs": [
        {
          "output_type": "execute_result",
          "data": {
            "text/plain": [
              "    grado  tasa de aprendizaje           ecm\n",
              "15    1.0                 0.50  3.332385e+03\n",
              "18    1.0                 0.60  3.335133e+03\n",
              "12    1.0                 0.40  3.539254e+03\n",
              "9     1.0                 0.30  3.887798e+03\n",
              "6     1.0                 0.20  4.549039e+03\n",
              "4     2.0                 0.10  7.607795e+03\n",
              "3     1.0                 0.10  8.200654e+03\n",
              "2     3.0                 0.01  2.890250e+04\n",
              "1     2.0                 0.01  3.237822e+04\n",
              "0     1.0                 0.01  4.975180e+04\n",
              "7     2.0                 0.20  7.981281e+04\n",
              "10    2.0                 0.30  6.689899e+07\n",
              "13    2.0                 0.40  3.663351e+09\n",
              "16    2.0                 0.50  6.336059e+10\n",
              "5     3.0                 0.10  2.332776e+11\n",
              "19    2.0                 0.60  5.807613e+11\n",
              "8     3.0                 0.20  5.945229e+14\n",
              "11    3.0                 0.30  4.564631e+16\n",
              "14    3.0                 0.40  9.324791e+17\n",
              "17    3.0                 0.50  9.437126e+18\n",
              "20    3.0                 0.60  6.173803e+19"
            ],
            "text/html": [
              "\n",
              "  <div id=\"df-e328bcec-d55f-4205-93bf-49914e75bfbe\" class=\"colab-df-container\">\n",
              "    <div>\n",
              "<style scoped>\n",
              "    .dataframe tbody tr th:only-of-type {\n",
              "        vertical-align: middle;\n",
              "    }\n",
              "\n",
              "    .dataframe tbody tr th {\n",
              "        vertical-align: top;\n",
              "    }\n",
              "\n",
              "    .dataframe thead th {\n",
              "        text-align: right;\n",
              "    }\n",
              "</style>\n",
              "<table border=\"1\" class=\"dataframe\">\n",
              "  <thead>\n",
              "    <tr style=\"text-align: right;\">\n",
              "      <th></th>\n",
              "      <th>grado</th>\n",
              "      <th>tasa de aprendizaje</th>\n",
              "      <th>ecm</th>\n",
              "    </tr>\n",
              "  </thead>\n",
              "  <tbody>\n",
              "    <tr>\n",
              "      <th>15</th>\n",
              "      <td>1.0</td>\n",
              "      <td>0.50</td>\n",
              "      <td>3.332385e+03</td>\n",
              "    </tr>\n",
              "    <tr>\n",
              "      <th>18</th>\n",
              "      <td>1.0</td>\n",
              "      <td>0.60</td>\n",
              "      <td>3.335133e+03</td>\n",
              "    </tr>\n",
              "    <tr>\n",
              "      <th>12</th>\n",
              "      <td>1.0</td>\n",
              "      <td>0.40</td>\n",
              "      <td>3.539254e+03</td>\n",
              "    </tr>\n",
              "    <tr>\n",
              "      <th>9</th>\n",
              "      <td>1.0</td>\n",
              "      <td>0.30</td>\n",
              "      <td>3.887798e+03</td>\n",
              "    </tr>\n",
              "    <tr>\n",
              "      <th>6</th>\n",
              "      <td>1.0</td>\n",
              "      <td>0.20</td>\n",
              "      <td>4.549039e+03</td>\n",
              "    </tr>\n",
              "    <tr>\n",
              "      <th>4</th>\n",
              "      <td>2.0</td>\n",
              "      <td>0.10</td>\n",
              "      <td>7.607795e+03</td>\n",
              "    </tr>\n",
              "    <tr>\n",
              "      <th>3</th>\n",
              "      <td>1.0</td>\n",
              "      <td>0.10</td>\n",
              "      <td>8.200654e+03</td>\n",
              "    </tr>\n",
              "    <tr>\n",
              "      <th>2</th>\n",
              "      <td>3.0</td>\n",
              "      <td>0.01</td>\n",
              "      <td>2.890250e+04</td>\n",
              "    </tr>\n",
              "    <tr>\n",
              "      <th>1</th>\n",
              "      <td>2.0</td>\n",
              "      <td>0.01</td>\n",
              "      <td>3.237822e+04</td>\n",
              "    </tr>\n",
              "    <tr>\n",
              "      <th>0</th>\n",
              "      <td>1.0</td>\n",
              "      <td>0.01</td>\n",
              "      <td>4.975180e+04</td>\n",
              "    </tr>\n",
              "    <tr>\n",
              "      <th>7</th>\n",
              "      <td>2.0</td>\n",
              "      <td>0.20</td>\n",
              "      <td>7.981281e+04</td>\n",
              "    </tr>\n",
              "    <tr>\n",
              "      <th>10</th>\n",
              "      <td>2.0</td>\n",
              "      <td>0.30</td>\n",
              "      <td>6.689899e+07</td>\n",
              "    </tr>\n",
              "    <tr>\n",
              "      <th>13</th>\n",
              "      <td>2.0</td>\n",
              "      <td>0.40</td>\n",
              "      <td>3.663351e+09</td>\n",
              "    </tr>\n",
              "    <tr>\n",
              "      <th>16</th>\n",
              "      <td>2.0</td>\n",
              "      <td>0.50</td>\n",
              "      <td>6.336059e+10</td>\n",
              "    </tr>\n",
              "    <tr>\n",
              "      <th>5</th>\n",
              "      <td>3.0</td>\n",
              "      <td>0.10</td>\n",
              "      <td>2.332776e+11</td>\n",
              "    </tr>\n",
              "    <tr>\n",
              "      <th>19</th>\n",
              "      <td>2.0</td>\n",
              "      <td>0.60</td>\n",
              "      <td>5.807613e+11</td>\n",
              "    </tr>\n",
              "    <tr>\n",
              "      <th>8</th>\n",
              "      <td>3.0</td>\n",
              "      <td>0.20</td>\n",
              "      <td>5.945229e+14</td>\n",
              "    </tr>\n",
              "    <tr>\n",
              "      <th>11</th>\n",
              "      <td>3.0</td>\n",
              "      <td>0.30</td>\n",
              "      <td>4.564631e+16</td>\n",
              "    </tr>\n",
              "    <tr>\n",
              "      <th>14</th>\n",
              "      <td>3.0</td>\n",
              "      <td>0.40</td>\n",
              "      <td>9.324791e+17</td>\n",
              "    </tr>\n",
              "    <tr>\n",
              "      <th>17</th>\n",
              "      <td>3.0</td>\n",
              "      <td>0.50</td>\n",
              "      <td>9.437126e+18</td>\n",
              "    </tr>\n",
              "    <tr>\n",
              "      <th>20</th>\n",
              "      <td>3.0</td>\n",
              "      <td>0.60</td>\n",
              "      <td>6.173803e+19</td>\n",
              "    </tr>\n",
              "  </tbody>\n",
              "</table>\n",
              "</div>\n",
              "    <div class=\"colab-df-buttons\">\n",
              "\n",
              "  <div class=\"colab-df-container\">\n",
              "    <button class=\"colab-df-convert\" onclick=\"convertToInteractive('df-e328bcec-d55f-4205-93bf-49914e75bfbe')\"\n",
              "            title=\"Convert this dataframe to an interactive table.\"\n",
              "            style=\"display:none;\">\n",
              "\n",
              "  <svg xmlns=\"http://www.w3.org/2000/svg\" height=\"24px\" viewBox=\"0 -960 960 960\">\n",
              "    <path d=\"M120-120v-720h720v720H120Zm60-500h600v-160H180v160Zm220 220h160v-160H400v160Zm0 220h160v-160H400v160ZM180-400h160v-160H180v160Zm440 0h160v-160H620v160ZM180-180h160v-160H180v160Zm440 0h160v-160H620v160Z\"/>\n",
              "  </svg>\n",
              "    </button>\n",
              "\n",
              "  <style>\n",
              "    .colab-df-container {\n",
              "      display:flex;\n",
              "      gap: 12px;\n",
              "    }\n",
              "\n",
              "    .colab-df-convert {\n",
              "      background-color: #E8F0FE;\n",
              "      border: none;\n",
              "      border-radius: 50%;\n",
              "      cursor: pointer;\n",
              "      display: none;\n",
              "      fill: #1967D2;\n",
              "      height: 32px;\n",
              "      padding: 0 0 0 0;\n",
              "      width: 32px;\n",
              "    }\n",
              "\n",
              "    .colab-df-convert:hover {\n",
              "      background-color: #E2EBFA;\n",
              "      box-shadow: 0px 1px 2px rgba(60, 64, 67, 0.3), 0px 1px 3px 1px rgba(60, 64, 67, 0.15);\n",
              "      fill: #174EA6;\n",
              "    }\n",
              "\n",
              "    .colab-df-buttons div {\n",
              "      margin-bottom: 4px;\n",
              "    }\n",
              "\n",
              "    [theme=dark] .colab-df-convert {\n",
              "      background-color: #3B4455;\n",
              "      fill: #D2E3FC;\n",
              "    }\n",
              "\n",
              "    [theme=dark] .colab-df-convert:hover {\n",
              "      background-color: #434B5C;\n",
              "      box-shadow: 0px 1px 3px 1px rgba(0, 0, 0, 0.15);\n",
              "      filter: drop-shadow(0px 1px 2px rgba(0, 0, 0, 0.3));\n",
              "      fill: #FFFFFF;\n",
              "    }\n",
              "  </style>\n",
              "\n",
              "    <script>\n",
              "      const buttonEl =\n",
              "        document.querySelector('#df-e328bcec-d55f-4205-93bf-49914e75bfbe button.colab-df-convert');\n",
              "      buttonEl.style.display =\n",
              "        google.colab.kernel.accessAllowed ? 'block' : 'none';\n",
              "\n",
              "      async function convertToInteractive(key) {\n",
              "        const element = document.querySelector('#df-e328bcec-d55f-4205-93bf-49914e75bfbe');\n",
              "        const dataTable =\n",
              "          await google.colab.kernel.invokeFunction('convertToInteractive',\n",
              "                                                    [key], {});\n",
              "        if (!dataTable) return;\n",
              "\n",
              "        const docLinkHtml = 'Like what you see? Visit the ' +\n",
              "          '<a target=\"_blank\" href=https://colab.research.google.com/notebooks/data_table.ipynb>data table notebook</a>'\n",
              "          + ' to learn more about interactive tables.';\n",
              "        element.innerHTML = '';\n",
              "        dataTable['output_type'] = 'display_data';\n",
              "        await google.colab.output.renderOutput(dataTable, element);\n",
              "        const docLink = document.createElement('div');\n",
              "        docLink.innerHTML = docLinkHtml;\n",
              "        element.appendChild(docLink);\n",
              "      }\n",
              "    </script>\n",
              "  </div>\n",
              "\n",
              "\n",
              "<div id=\"df-05134ea9-6801-4e07-bfb2-25682c14c08e\">\n",
              "  <button class=\"colab-df-quickchart\" onclick=\"quickchart('df-05134ea9-6801-4e07-bfb2-25682c14c08e')\"\n",
              "            title=\"Suggest charts\"\n",
              "            style=\"display:none;\">\n",
              "\n",
              "<svg xmlns=\"http://www.w3.org/2000/svg\" height=\"24px\"viewBox=\"0 0 24 24\"\n",
              "     width=\"24px\">\n",
              "    <g>\n",
              "        <path d=\"M19 3H5c-1.1 0-2 .9-2 2v14c0 1.1.9 2 2 2h14c1.1 0 2-.9 2-2V5c0-1.1-.9-2-2-2zM9 17H7v-7h2v7zm4 0h-2V7h2v10zm4 0h-2v-4h2v4z\"/>\n",
              "    </g>\n",
              "</svg>\n",
              "  </button>\n",
              "\n",
              "<style>\n",
              "  .colab-df-quickchart {\n",
              "      --bg-color: #E8F0FE;\n",
              "      --fill-color: #1967D2;\n",
              "      --hover-bg-color: #E2EBFA;\n",
              "      --hover-fill-color: #174EA6;\n",
              "      --disabled-fill-color: #AAA;\n",
              "      --disabled-bg-color: #DDD;\n",
              "  }\n",
              "\n",
              "  [theme=dark] .colab-df-quickchart {\n",
              "      --bg-color: #3B4455;\n",
              "      --fill-color: #D2E3FC;\n",
              "      --hover-bg-color: #434B5C;\n",
              "      --hover-fill-color: #FFFFFF;\n",
              "      --disabled-bg-color: #3B4455;\n",
              "      --disabled-fill-color: #666;\n",
              "  }\n",
              "\n",
              "  .colab-df-quickchart {\n",
              "    background-color: var(--bg-color);\n",
              "    border: none;\n",
              "    border-radius: 50%;\n",
              "    cursor: pointer;\n",
              "    display: none;\n",
              "    fill: var(--fill-color);\n",
              "    height: 32px;\n",
              "    padding: 0;\n",
              "    width: 32px;\n",
              "  }\n",
              "\n",
              "  .colab-df-quickchart:hover {\n",
              "    background-color: var(--hover-bg-color);\n",
              "    box-shadow: 0 1px 2px rgba(60, 64, 67, 0.3), 0 1px 3px 1px rgba(60, 64, 67, 0.15);\n",
              "    fill: var(--button-hover-fill-color);\n",
              "  }\n",
              "\n",
              "  .colab-df-quickchart-complete:disabled,\n",
              "  .colab-df-quickchart-complete:disabled:hover {\n",
              "    background-color: var(--disabled-bg-color);\n",
              "    fill: var(--disabled-fill-color);\n",
              "    box-shadow: none;\n",
              "  }\n",
              "\n",
              "  .colab-df-spinner {\n",
              "    border: 2px solid var(--fill-color);\n",
              "    border-color: transparent;\n",
              "    border-bottom-color: var(--fill-color);\n",
              "    animation:\n",
              "      spin 1s steps(1) infinite;\n",
              "  }\n",
              "\n",
              "  @keyframes spin {\n",
              "    0% {\n",
              "      border-color: transparent;\n",
              "      border-bottom-color: var(--fill-color);\n",
              "      border-left-color: var(--fill-color);\n",
              "    }\n",
              "    20% {\n",
              "      border-color: transparent;\n",
              "      border-left-color: var(--fill-color);\n",
              "      border-top-color: var(--fill-color);\n",
              "    }\n",
              "    30% {\n",
              "      border-color: transparent;\n",
              "      border-left-color: var(--fill-color);\n",
              "      border-top-color: var(--fill-color);\n",
              "      border-right-color: var(--fill-color);\n",
              "    }\n",
              "    40% {\n",
              "      border-color: transparent;\n",
              "      border-right-color: var(--fill-color);\n",
              "      border-top-color: var(--fill-color);\n",
              "    }\n",
              "    60% {\n",
              "      border-color: transparent;\n",
              "      border-right-color: var(--fill-color);\n",
              "    }\n",
              "    80% {\n",
              "      border-color: transparent;\n",
              "      border-right-color: var(--fill-color);\n",
              "      border-bottom-color: var(--fill-color);\n",
              "    }\n",
              "    90% {\n",
              "      border-color: transparent;\n",
              "      border-bottom-color: var(--fill-color);\n",
              "    }\n",
              "  }\n",
              "</style>\n",
              "\n",
              "  <script>\n",
              "    async function quickchart(key) {\n",
              "      const quickchartButtonEl =\n",
              "        document.querySelector('#' + key + ' button');\n",
              "      quickchartButtonEl.disabled = true;  // To prevent multiple clicks.\n",
              "      quickchartButtonEl.classList.add('colab-df-spinner');\n",
              "      try {\n",
              "        const charts = await google.colab.kernel.invokeFunction(\n",
              "            'suggestCharts', [key], {});\n",
              "      } catch (error) {\n",
              "        console.error('Error during call to suggestCharts:', error);\n",
              "      }\n",
              "      quickchartButtonEl.classList.remove('colab-df-spinner');\n",
              "      quickchartButtonEl.classList.add('colab-df-quickchart-complete');\n",
              "    }\n",
              "    (() => {\n",
              "      let quickchartButtonEl =\n",
              "        document.querySelector('#df-05134ea9-6801-4e07-bfb2-25682c14c08e button');\n",
              "      quickchartButtonEl.style.display =\n",
              "        google.colab.kernel.accessAllowed ? 'block' : 'none';\n",
              "    })();\n",
              "  </script>\n",
              "</div>\n",
              "    </div>\n",
              "  </div>\n"
            ],
            "application/vnd.google.colaboratory.intrinsic+json": {
              "type": "dataframe",
              "summary": "{\n  \"name\": \"resultados_ex1\",\n  \"rows\": 21,\n  \"fields\": [\n    {\n      \"column\": \"grado\",\n      \"properties\": {\n        \"dtype\": \"number\",\n        \"std\": 0.8366600265340756,\n        \"min\": 1.0,\n        \"max\": 3.0,\n        \"num_unique_values\": 3,\n        \"samples\": [\n          1.0,\n          2.0,\n          3.0\n        ],\n        \"semantic_type\": \"\",\n        \"description\": \"\"\n      }\n    },\n    {\n      \"column\": \"tasa de aprendizaje\",\n      \"properties\": {\n        \"dtype\": \"number\",\n        \"std\": 0.20276305665198763,\n        \"min\": 0.01,\n        \"max\": 0.6,\n        \"num_unique_values\": 7,\n        \"samples\": [\n          0.5,\n          0.6,\n          0.1\n        ],\n        \"semantic_type\": \"\",\n        \"description\": \"\"\n      }\n    },\n    {\n      \"column\": \"ecm\",\n      \"properties\": {\n        \"dtype\": \"number\",\n        \"std\": 1.351591916287971e+19,\n        \"min\": 3332.3854887449806,\n        \"max\": 6.173802608460207e+19,\n        \"num_unique_values\": 21,\n        \"samples\": [\n          3332.3854887449806,\n          4.564630661989639e+16,\n          580761282861.765\n        ],\n        \"semantic_type\": \"\",\n        \"description\": \"\"\n      }\n    }\n  ]\n}"
            }
          },
          "metadata": {},
          "execution_count": 31
        }
      ],
      "source": [
        "# ver los resultados\n",
        "resultados_ex1.sort_values(by='ecm')"
      ]
    },
    {
      "cell_type": "markdown",
      "metadata": {
        "id": "yoDS2e-gt-EI"
      },
      "source": [
        "Si has implementado todo correctamente,  debes evidenciar la importancia de normalizar antes de los entrenamientos.\n",
        "\n",
        "Responde la siguiente pregunta y analiza la función de python. [Revisa la documentacion de esta libreria](https://docs.scipy.org/doc/scipy/reference/generated/scipy.stats.zscore.html)\n"
      ]
    },
    {
      "cell_type": "code",
      "execution_count": null,
      "metadata": {
        "id": "aVFbsu0wt-EQ"
      },
      "outputs": [],
      "source": [
        "#@title Pregunta Abierta\n",
        "#@markdown  **¿Por qué es necesaria la normalización en el modelo de regresión?**\n",
        "respuesta_1_5 = \"La normalización en el modelo de regresión es necesaria para evitar que las características con diferentes escalas dominen sobre otras, mejorar la convergencia del algoritmo de optimización y hacer que el modelo sea más robusto ante datos atípicos o sesgados.\" #@param {type:\"string\"}"
      ]
    },
    {
      "cell_type": "code",
      "execution_count": null,
      "metadata": {
        "id": "IhHXjgOmt-EI"
      },
      "outputs": [],
      "source": [
        "#Normalizamos los datos\n",
        "def normalizar(Xtrain, Xtest):\n",
        "    \"\"\" función que se usa para normalizar los datos con\n",
        "    un metodo especifico\n",
        "    Xtrain: matriz de datos entrenamiento a normalizar\n",
        "    Xtest: matriz de datos evaluación a normalizar\n",
        "    retorna: matrices normalizadas\n",
        "    \"\"\"\n",
        "\n",
        "    media = np.mean(Xtrain, axis = 0)\n",
        "    desvia = np.std(Xtrain, axis = 0)\n",
        "    Xtrain_n = stats.stats.zscore(Xtrain)\n",
        "    Xtest_n = (Xtest - media )/desvia\n",
        "    # si hay una desviacion por cero, reemplazamos los nan\n",
        "    Xtrain_n = np.nan_to_num(Xtrain_n)\n",
        "    Xtest_n = np.nan_to_num(Xtest_n)\n",
        "    return (Xtrain_n, Xtest_n)"
      ]
    },
    {
      "cell_type": "markdown",
      "metadata": {
        "id": "PzsHpPk1t-EK"
      },
      "source": [
        "Ahora vuelve a realizar los mismos experimentos pero esta vez usa los valores de salida de la función anterior."
      ]
    },
    {
      "cell_type": "code",
      "execution_count": null,
      "metadata": {
        "id": "ZZedE9Qdt-EK",
        "tags": [],
        "colab": {
          "base_uri": "https://localhost:8080/"
        },
        "outputId": "dc9d82e8-d9b4-40cb-faea-97dcb1adf7e6"
      },
      "outputs": [
        {
          "output_type": "stream",
          "name": "stderr",
          "text": [
            "<ipython-input-26-415f76c6248c>:12: DeprecationWarning: Please use `zscore` from the `scipy.stats` namespace, the `scipy.stats.stats` namespace is deprecated.\n",
            "  Xtrain_n = stats.stats.zscore(Xtrain)\n"
          ]
        }
      ],
      "source": [
        "Xtrain_n, Xtest_n = normalizar(Xtrain, Xtest)"
      ]
    },
    {
      "cell_type": "code",
      "execution_count": null,
      "metadata": {
        "id": "j2a8O7c7t-EM",
        "tags": [],
        "colab": {
          "base_uri": "https://localhost:8080/",
          "height": 708
        },
        "outputId": "4191164d-49fb-46fb-e93f-e19a705f607d"
      },
      "outputs": [
        {
          "output_type": "execute_result",
          "data": {
            "text/plain": [
              "    grado  tasa de aprendizaje           ecm\n",
              "18    1.0                 0.60  2.269477e+03\n",
              "15    1.0                 0.50  2.305780e+03\n",
              "12    1.0                 0.40  2.584531e+03\n",
              "9     1.0                 0.30  3.892646e+03\n",
              "6     1.0                 0.20  8.664642e+03\n",
              "3     1.0                 0.10  2.333421e+04\n",
              "1     2.0                 0.01  3.095976e+04\n",
              "0     1.0                 0.01  5.718949e+04\n",
              "4     2.0                 0.10  5.086345e+10\n",
              "7     2.0                 0.20  1.159977e+14\n",
              "10    2.0                 0.30  8.616855e+15\n",
              "13    2.0                 0.40  1.732619e+17\n",
              "16    2.0                 0.50  1.737260e+18\n",
              "19    2.0                 0.60  1.129591e+19\n",
              "2     3.0                 0.01  3.769153e+19\n",
              "5     3.0                 0.10  4.546377e+29\n",
              "8     3.0                 0.20  4.703752e+32\n",
              "11    3.0                 0.30  2.721755e+34\n",
              "14    3.0                 0.40  4.841525e+35\n",
              "17    3.0                 0.50  4.513669e+36\n",
              "20    3.0                 0.60  2.796665e+37"
            ],
            "text/html": [
              "\n",
              "  <div id=\"df-0f8aadb8-cfba-4756-94f5-2e699b1191f5\" class=\"colab-df-container\">\n",
              "    <div>\n",
              "<style scoped>\n",
              "    .dataframe tbody tr th:only-of-type {\n",
              "        vertical-align: middle;\n",
              "    }\n",
              "\n",
              "    .dataframe tbody tr th {\n",
              "        vertical-align: top;\n",
              "    }\n",
              "\n",
              "    .dataframe thead th {\n",
              "        text-align: right;\n",
              "    }\n",
              "</style>\n",
              "<table border=\"1\" class=\"dataframe\">\n",
              "  <thead>\n",
              "    <tr style=\"text-align: right;\">\n",
              "      <th></th>\n",
              "      <th>grado</th>\n",
              "      <th>tasa de aprendizaje</th>\n",
              "      <th>ecm</th>\n",
              "    </tr>\n",
              "  </thead>\n",
              "  <tbody>\n",
              "    <tr>\n",
              "      <th>18</th>\n",
              "      <td>1.0</td>\n",
              "      <td>0.60</td>\n",
              "      <td>2.269477e+03</td>\n",
              "    </tr>\n",
              "    <tr>\n",
              "      <th>15</th>\n",
              "      <td>1.0</td>\n",
              "      <td>0.50</td>\n",
              "      <td>2.305780e+03</td>\n",
              "    </tr>\n",
              "    <tr>\n",
              "      <th>12</th>\n",
              "      <td>1.0</td>\n",
              "      <td>0.40</td>\n",
              "      <td>2.584531e+03</td>\n",
              "    </tr>\n",
              "    <tr>\n",
              "      <th>9</th>\n",
              "      <td>1.0</td>\n",
              "      <td>0.30</td>\n",
              "      <td>3.892646e+03</td>\n",
              "    </tr>\n",
              "    <tr>\n",
              "      <th>6</th>\n",
              "      <td>1.0</td>\n",
              "      <td>0.20</td>\n",
              "      <td>8.664642e+03</td>\n",
              "    </tr>\n",
              "    <tr>\n",
              "      <th>3</th>\n",
              "      <td>1.0</td>\n",
              "      <td>0.10</td>\n",
              "      <td>2.333421e+04</td>\n",
              "    </tr>\n",
              "    <tr>\n",
              "      <th>1</th>\n",
              "      <td>2.0</td>\n",
              "      <td>0.01</td>\n",
              "      <td>3.095976e+04</td>\n",
              "    </tr>\n",
              "    <tr>\n",
              "      <th>0</th>\n",
              "      <td>1.0</td>\n",
              "      <td>0.01</td>\n",
              "      <td>5.718949e+04</td>\n",
              "    </tr>\n",
              "    <tr>\n",
              "      <th>4</th>\n",
              "      <td>2.0</td>\n",
              "      <td>0.10</td>\n",
              "      <td>5.086345e+10</td>\n",
              "    </tr>\n",
              "    <tr>\n",
              "      <th>7</th>\n",
              "      <td>2.0</td>\n",
              "      <td>0.20</td>\n",
              "      <td>1.159977e+14</td>\n",
              "    </tr>\n",
              "    <tr>\n",
              "      <th>10</th>\n",
              "      <td>2.0</td>\n",
              "      <td>0.30</td>\n",
              "      <td>8.616855e+15</td>\n",
              "    </tr>\n",
              "    <tr>\n",
              "      <th>13</th>\n",
              "      <td>2.0</td>\n",
              "      <td>0.40</td>\n",
              "      <td>1.732619e+17</td>\n",
              "    </tr>\n",
              "    <tr>\n",
              "      <th>16</th>\n",
              "      <td>2.0</td>\n",
              "      <td>0.50</td>\n",
              "      <td>1.737260e+18</td>\n",
              "    </tr>\n",
              "    <tr>\n",
              "      <th>19</th>\n",
              "      <td>2.0</td>\n",
              "      <td>0.60</td>\n",
              "      <td>1.129591e+19</td>\n",
              "    </tr>\n",
              "    <tr>\n",
              "      <th>2</th>\n",
              "      <td>3.0</td>\n",
              "      <td>0.01</td>\n",
              "      <td>3.769153e+19</td>\n",
              "    </tr>\n",
              "    <tr>\n",
              "      <th>5</th>\n",
              "      <td>3.0</td>\n",
              "      <td>0.10</td>\n",
              "      <td>4.546377e+29</td>\n",
              "    </tr>\n",
              "    <tr>\n",
              "      <th>8</th>\n",
              "      <td>3.0</td>\n",
              "      <td>0.20</td>\n",
              "      <td>4.703752e+32</td>\n",
              "    </tr>\n",
              "    <tr>\n",
              "      <th>11</th>\n",
              "      <td>3.0</td>\n",
              "      <td>0.30</td>\n",
              "      <td>2.721755e+34</td>\n",
              "    </tr>\n",
              "    <tr>\n",
              "      <th>14</th>\n",
              "      <td>3.0</td>\n",
              "      <td>0.40</td>\n",
              "      <td>4.841525e+35</td>\n",
              "    </tr>\n",
              "    <tr>\n",
              "      <th>17</th>\n",
              "      <td>3.0</td>\n",
              "      <td>0.50</td>\n",
              "      <td>4.513669e+36</td>\n",
              "    </tr>\n",
              "    <tr>\n",
              "      <th>20</th>\n",
              "      <td>3.0</td>\n",
              "      <td>0.60</td>\n",
              "      <td>2.796665e+37</td>\n",
              "    </tr>\n",
              "  </tbody>\n",
              "</table>\n",
              "</div>\n",
              "    <div class=\"colab-df-buttons\">\n",
              "\n",
              "  <div class=\"colab-df-container\">\n",
              "    <button class=\"colab-df-convert\" onclick=\"convertToInteractive('df-0f8aadb8-cfba-4756-94f5-2e699b1191f5')\"\n",
              "            title=\"Convert this dataframe to an interactive table.\"\n",
              "            style=\"display:none;\">\n",
              "\n",
              "  <svg xmlns=\"http://www.w3.org/2000/svg\" height=\"24px\" viewBox=\"0 -960 960 960\">\n",
              "    <path d=\"M120-120v-720h720v720H120Zm60-500h600v-160H180v160Zm220 220h160v-160H400v160Zm0 220h160v-160H400v160ZM180-400h160v-160H180v160Zm440 0h160v-160H620v160ZM180-180h160v-160H180v160Zm440 0h160v-160H620v160Z\"/>\n",
              "  </svg>\n",
              "    </button>\n",
              "\n",
              "  <style>\n",
              "    .colab-df-container {\n",
              "      display:flex;\n",
              "      gap: 12px;\n",
              "    }\n",
              "\n",
              "    .colab-df-convert {\n",
              "      background-color: #E8F0FE;\n",
              "      border: none;\n",
              "      border-radius: 50%;\n",
              "      cursor: pointer;\n",
              "      display: none;\n",
              "      fill: #1967D2;\n",
              "      height: 32px;\n",
              "      padding: 0 0 0 0;\n",
              "      width: 32px;\n",
              "    }\n",
              "\n",
              "    .colab-df-convert:hover {\n",
              "      background-color: #E2EBFA;\n",
              "      box-shadow: 0px 1px 2px rgba(60, 64, 67, 0.3), 0px 1px 3px 1px rgba(60, 64, 67, 0.15);\n",
              "      fill: #174EA6;\n",
              "    }\n",
              "\n",
              "    .colab-df-buttons div {\n",
              "      margin-bottom: 4px;\n",
              "    }\n",
              "\n",
              "    [theme=dark] .colab-df-convert {\n",
              "      background-color: #3B4455;\n",
              "      fill: #D2E3FC;\n",
              "    }\n",
              "\n",
              "    [theme=dark] .colab-df-convert:hover {\n",
              "      background-color: #434B5C;\n",
              "      box-shadow: 0px 1px 3px 1px rgba(0, 0, 0, 0.15);\n",
              "      filter: drop-shadow(0px 1px 2px rgba(0, 0, 0, 0.3));\n",
              "      fill: #FFFFFF;\n",
              "    }\n",
              "  </style>\n",
              "\n",
              "    <script>\n",
              "      const buttonEl =\n",
              "        document.querySelector('#df-0f8aadb8-cfba-4756-94f5-2e699b1191f5 button.colab-df-convert');\n",
              "      buttonEl.style.display =\n",
              "        google.colab.kernel.accessAllowed ? 'block' : 'none';\n",
              "\n",
              "      async function convertToInteractive(key) {\n",
              "        const element = document.querySelector('#df-0f8aadb8-cfba-4756-94f5-2e699b1191f5');\n",
              "        const dataTable =\n",
              "          await google.colab.kernel.invokeFunction('convertToInteractive',\n",
              "                                                    [key], {});\n",
              "        if (!dataTable) return;\n",
              "\n",
              "        const docLinkHtml = 'Like what you see? Visit the ' +\n",
              "          '<a target=\"_blank\" href=https://colab.research.google.com/notebooks/data_table.ipynb>data table notebook</a>'\n",
              "          + ' to learn more about interactive tables.';\n",
              "        element.innerHTML = '';\n",
              "        dataTable['output_type'] = 'display_data';\n",
              "        await google.colab.output.renderOutput(dataTable, element);\n",
              "        const docLink = document.createElement('div');\n",
              "        docLink.innerHTML = docLinkHtml;\n",
              "        element.appendChild(docLink);\n",
              "      }\n",
              "    </script>\n",
              "  </div>\n",
              "\n",
              "\n",
              "<div id=\"df-e19c189d-5aa4-4f2a-bc6b-6f6310f52df2\">\n",
              "  <button class=\"colab-df-quickchart\" onclick=\"quickchart('df-e19c189d-5aa4-4f2a-bc6b-6f6310f52df2')\"\n",
              "            title=\"Suggest charts\"\n",
              "            style=\"display:none;\">\n",
              "\n",
              "<svg xmlns=\"http://www.w3.org/2000/svg\" height=\"24px\"viewBox=\"0 0 24 24\"\n",
              "     width=\"24px\">\n",
              "    <g>\n",
              "        <path d=\"M19 3H5c-1.1 0-2 .9-2 2v14c0 1.1.9 2 2 2h14c1.1 0 2-.9 2-2V5c0-1.1-.9-2-2-2zM9 17H7v-7h2v7zm4 0h-2V7h2v10zm4 0h-2v-4h2v4z\"/>\n",
              "    </g>\n",
              "</svg>\n",
              "  </button>\n",
              "\n",
              "<style>\n",
              "  .colab-df-quickchart {\n",
              "      --bg-color: #E8F0FE;\n",
              "      --fill-color: #1967D2;\n",
              "      --hover-bg-color: #E2EBFA;\n",
              "      --hover-fill-color: #174EA6;\n",
              "      --disabled-fill-color: #AAA;\n",
              "      --disabled-bg-color: #DDD;\n",
              "  }\n",
              "\n",
              "  [theme=dark] .colab-df-quickchart {\n",
              "      --bg-color: #3B4455;\n",
              "      --fill-color: #D2E3FC;\n",
              "      --hover-bg-color: #434B5C;\n",
              "      --hover-fill-color: #FFFFFF;\n",
              "      --disabled-bg-color: #3B4455;\n",
              "      --disabled-fill-color: #666;\n",
              "  }\n",
              "\n",
              "  .colab-df-quickchart {\n",
              "    background-color: var(--bg-color);\n",
              "    border: none;\n",
              "    border-radius: 50%;\n",
              "    cursor: pointer;\n",
              "    display: none;\n",
              "    fill: var(--fill-color);\n",
              "    height: 32px;\n",
              "    padding: 0;\n",
              "    width: 32px;\n",
              "  }\n",
              "\n",
              "  .colab-df-quickchart:hover {\n",
              "    background-color: var(--hover-bg-color);\n",
              "    box-shadow: 0 1px 2px rgba(60, 64, 67, 0.3), 0 1px 3px 1px rgba(60, 64, 67, 0.15);\n",
              "    fill: var(--button-hover-fill-color);\n",
              "  }\n",
              "\n",
              "  .colab-df-quickchart-complete:disabled,\n",
              "  .colab-df-quickchart-complete:disabled:hover {\n",
              "    background-color: var(--disabled-bg-color);\n",
              "    fill: var(--disabled-fill-color);\n",
              "    box-shadow: none;\n",
              "  }\n",
              "\n",
              "  .colab-df-spinner {\n",
              "    border: 2px solid var(--fill-color);\n",
              "    border-color: transparent;\n",
              "    border-bottom-color: var(--fill-color);\n",
              "    animation:\n",
              "      spin 1s steps(1) infinite;\n",
              "  }\n",
              "\n",
              "  @keyframes spin {\n",
              "    0% {\n",
              "      border-color: transparent;\n",
              "      border-bottom-color: var(--fill-color);\n",
              "      border-left-color: var(--fill-color);\n",
              "    }\n",
              "    20% {\n",
              "      border-color: transparent;\n",
              "      border-left-color: var(--fill-color);\n",
              "      border-top-color: var(--fill-color);\n",
              "    }\n",
              "    30% {\n",
              "      border-color: transparent;\n",
              "      border-left-color: var(--fill-color);\n",
              "      border-top-color: var(--fill-color);\n",
              "      border-right-color: var(--fill-color);\n",
              "    }\n",
              "    40% {\n",
              "      border-color: transparent;\n",
              "      border-right-color: var(--fill-color);\n",
              "      border-top-color: var(--fill-color);\n",
              "    }\n",
              "    60% {\n",
              "      border-color: transparent;\n",
              "      border-right-color: var(--fill-color);\n",
              "    }\n",
              "    80% {\n",
              "      border-color: transparent;\n",
              "      border-right-color: var(--fill-color);\n",
              "      border-bottom-color: var(--fill-color);\n",
              "    }\n",
              "    90% {\n",
              "      border-color: transparent;\n",
              "      border-bottom-color: var(--fill-color);\n",
              "    }\n",
              "  }\n",
              "</style>\n",
              "\n",
              "  <script>\n",
              "    async function quickchart(key) {\n",
              "      const quickchartButtonEl =\n",
              "        document.querySelector('#' + key + ' button');\n",
              "      quickchartButtonEl.disabled = true;  // To prevent multiple clicks.\n",
              "      quickchartButtonEl.classList.add('colab-df-spinner');\n",
              "      try {\n",
              "        const charts = await google.colab.kernel.invokeFunction(\n",
              "            'suggestCharts', [key], {});\n",
              "      } catch (error) {\n",
              "        console.error('Error during call to suggestCharts:', error);\n",
              "      }\n",
              "      quickchartButtonEl.classList.remove('colab-df-spinner');\n",
              "      quickchartButtonEl.classList.add('colab-df-quickchart-complete');\n",
              "    }\n",
              "    (() => {\n",
              "      let quickchartButtonEl =\n",
              "        document.querySelector('#df-e19c189d-5aa4-4f2a-bc6b-6f6310f52df2 button');\n",
              "      quickchartButtonEl.style.display =\n",
              "        google.colab.kernel.accessAllowed ? 'block' : 'none';\n",
              "    })();\n",
              "  </script>\n",
              "</div>\n",
              "    </div>\n",
              "  </div>\n"
            ],
            "application/vnd.google.colaboratory.intrinsic+json": {
              "type": "dataframe",
              "summary": "{\n  \"name\": \"resultados_ex2\",\n  \"rows\": 21,\n  \"fields\": [\n    {\n      \"column\": \"grado\",\n      \"properties\": {\n        \"dtype\": \"number\",\n        \"std\": 0.8366600265340756,\n        \"min\": 1.0,\n        \"max\": 3.0,\n        \"num_unique_values\": 3,\n        \"samples\": [\n          1.0,\n          2.0,\n          3.0\n        ],\n        \"semantic_type\": \"\",\n        \"description\": \"\"\n      }\n    },\n    {\n      \"column\": \"tasa de aprendizaje\",\n      \"properties\": {\n        \"dtype\": \"number\",\n        \"std\": 0.2027630566519876,\n        \"min\": 0.01,\n        \"max\": 0.6,\n        \"num_unique_values\": 7,\n        \"samples\": [\n          0.6,\n          0.5,\n          0.1\n        ],\n        \"semantic_type\": \"\",\n        \"description\": \"\"\n      }\n    },\n    {\n      \"column\": \"ecm\",\n      \"properties\": {\n        \"dtype\": \"number\",\n        \"std\": 6.127434968363514e+36,\n        \"min\": 2269.4767916385895,\n        \"max\": 2.796664673705433e+37,\n        \"num_unique_values\": 21,\n        \"samples\": [\n          2269.4767916385895,\n          2.721754723231194e+34,\n          4.546377480918954e+29\n        ],\n        \"semantic_type\": \"\",\n        \"description\": \"\"\n      }\n    }\n  ]\n}"
            }
          },
          "metadata": {},
          "execution_count": 32
        }
      ],
      "source": [
        "resultados_ex2 = experimentar(Xtrain_n, Xtest_n, Ytrain, Ytest, tasas_aprendizaje, grados_polinomio)\n",
        "#para ver los resultados\n",
        "resultados_ex2.sort_values(by='ecm')"
      ]
    },
    {
      "cell_type": "code",
      "execution_count": null,
      "metadata": {
        "id": "CANS0MVut-EO",
        "colab": {
          "base_uri": "https://localhost:8080/",
          "height": 506
        },
        "outputId": "37457efd-496e-4646-b936-3201fffea0c2"
      },
      "outputs": [
        {
          "output_type": "display_data",
          "data": {
            "text/plain": [
              "<Figure size 572x500 with 1 Axes>"
            ],
            "image/png": "[encoded data removed]"
          },
          "metadata": {}
        }
      ],
      "source": [
        "# ejecuta esta linea de codigo para graficar tus resultados\n",
        "# aca usamos una libreria llamada seaborn\n",
        "import seaborn as sns\n",
        "s = sns.catplot(data = resultados_ex2, x = 'tasa de aprendizaje',\n",
        "            y = 'ecm',hue ='grado', kind = 'bar', )"
      ]
    },
    {
      "cell_type": "code",
      "source": [
        "# ejecuta esta linea de codigo para graficar tus resultados\n",
        "# aca usamos una libreria llamada seaborn\n",
        "import seaborn as sns\n",
        "s = sns.catplot(data = resultados_ex2, x = 'tasa de aprendizaje',\n",
        "            y = 'ecm',hue ='grado', kind = 'bar', )\n",
        "plt.ylim(0,1e5)"
      ],
      "metadata": {
        "colab": {
          "base_uri": "https://localhost:8080/",
          "height": 514
        },
        "id": "uQppG0swX_bO",
        "outputId": "17a86ad2-b25c-4b73-9595-0118de1b4bdf"
      },
      "execution_count": null,
      "outputs": [
        {
          "output_type": "execute_result",
          "data": {
            "text/plain": [
              "(0.0, 100000.0)"
            ]
          },
          "metadata": {},
          "execution_count": 34
        },
        {
          "output_type": "display_data",
          "data": {
            "text/plain": [
              "<Figure size 572x500 with 1 Axes>"
            ],
            "image/png": "[encoded data removed]"
          },
          "metadata": {}
        }
      ]
    },
    {
      "cell_type": "markdown",
      "metadata": {
        "id": "LLvDR6k5t-EQ"
      },
      "source": [
        "[Existen diferentes tipos de normalización](https://docs.microsoft.com/es-es/azure/machine-learning/component-reference/normalize-data). Dependiendo del contexto seleccionar un tipo especifico puede tener efectos en nuestros resultados. Responde la siguiente pregunta abierta."
      ]
    },
    {
      "cell_type": "code",
      "execution_count": null,
      "metadata": {
        "id": "ZHmRIxrTdbuM"
      },
      "outputs": [],
      "source": [
        "#@title Pregunta Abierta\n",
        "#@markdown **¿Qué nombre recibe la normalización que utilizamos?**\n",
        "\n",
        "#@markdown A) `Zscore`, ya que usamos la función de la libreria `stats.stats.zscore`\n",
        "\n",
        "#@markdown B) `min-max` que se implemento con el uso de la función `stats.stats.zscore`\n",
        "\n",
        "#@markdown C) `Zscore` ya que restamos la media y dividimos por las desviación estandar\n",
        "\n",
        "#@markdown D) Logística ya que usamos la función sigmiode para implementar la regresión\n",
        "\n",
        "#@markdown E) Ninguna de las anteriores\n",
        "\n",
        "#@markdown Recuerda escoger la opción que este mejor justificada\n",
        "respuesta_1_6 = 'C' #@param [\"\", \"A\", \"B\", \"C\", \"D\", \"E\"]"
      ]
    },
    {
      "cell_type": "markdown",
      "metadata": {
        "id": "1Z3nka5at-ES"
      },
      "source": [
        "Finalmente, en nuestro tercer experimento, vamos ver el efecto de las iteraciones sobre el error. Esta vez la tasa de aprendizaje es constante"
      ]
    },
    {
      "cell_type": "code",
      "execution_count": null,
      "metadata": {
        "id": "i2eHfZC9t-ES",
        "tags": []
      },
      "outputs": [],
      "source": [
        "## ejercicio de codigo\n",
        "def experimentar_2 (Xtrain, Xtest, Ytrain, Ytest, iteraciones, grados):\n",
        "    \"\"\" funcion para realizar experimentos.\n",
        "    Xtrain: conjunto de datos\n",
        "    Xtest:\n",
        "    Ytrain:\n",
        "    Ytest:\n",
        "    tasas: Es una lista con los valores númericos de tasas de aprendizaje\n",
        "        para realizar los experimentos\n",
        "    rangos: Es una lista con los valores númericos de grados\n",
        "        para realizar los experimentos\n",
        "    retorna: un dataframe con el resultados de los experimentos\n",
        "    \"\"\"\n",
        "    eta = 1e-2\n",
        "    resultados = pd.DataFrame()\n",
        "    idx = 0 # indice\n",
        "    for iter in iteraciones:\n",
        "        for grado in grados:\n",
        "            # ignora el costo\n",
        "            W , _= gradiente_descendente_poly(Xtrain,Ytrain,eta,iter, grado)\n",
        "            error =evaluar_modelo_poly(Ytest, Xtest, W, grado)\n",
        "\n",
        "            resultados.loc[idx,'iteraciones'] = iter\n",
        "            resultados.loc[idx,'grado'] = grado\n",
        "            resultados.loc[idx,'ecm'] = error\n",
        "            idx = idx+1\n",
        "    return (resultados)"
      ]
    },
    {
      "cell_type": "code",
      "execution_count": null,
      "metadata": {
        "id": "GZIKf7PIt-EV",
        "tags": []
      },
      "outputs": [],
      "source": [
        "num_iters = [1,5,10,50, 100,200, 1000, 2000]\n",
        "grados_polinomio = [1,2]\n",
        "# usamos la funcion para evaliar los resultados\n",
        "resultados_ex3 = experimentar_2(Xtrain_n, Xtest_n, Ytrain, Ytest, num_iters, grados_polinomio )"
      ]
    },
    {
      "cell_type": "code",
      "execution_count": null,
      "metadata": {
        "id": "E5ekonH6t-EW",
        "colab": {
          "base_uri": "https://localhost:8080/",
          "height": 450
        },
        "outputId": "5f28aea2-4a3a-45b2-98ea-f3ff69761538"
      },
      "outputs": [
        {
          "output_type": "execute_result",
          "data": {
            "text/plain": [
              "<seaborn.axisgrid.FacetGrid at 0x7dcd29acb370>"
            ]
          },
          "metadata": {},
          "execution_count": 60
        },
        {
          "output_type": "display_data",
          "data": {
            "text/plain": [
              "<Figure size 1000x500 with 2 Axes>"
            ],
            "image/png": "[encoded data removed]"
          },
          "metadata": {}
        }
      ],
      "source": [
        "# ejecuta esta linea de codigo para ver raficamente tus resultados\n",
        "# aca usamos una libreria llamada seaborn\n",
        "import seaborn as sns\n",
        "sns.relplot(data = resultados_ex3, x = 'iteraciones',\n",
        "            y = 'ecm',col ='grado', kind = 'line')"
      ]
    },
    {
      "cell_type": "code",
      "execution_count": null,
      "metadata": {
        "id": "Y0-BAqdgt-EY"
      },
      "outputs": [],
      "source": [
        "#@title Pregunta Abierta\n",
        "#@markdown  **¿Qué efecto tiene el número de iteraciones en el error de predicción del modelo?**\n",
        "respuesta_1_7 = \"A medida que se incrementa el número de iteraciones, es más probable que el algoritmo de gradiente descendente llegue hasta un mínimo local o global, llegar al minimo local o global tambien depende de la tasa de aprendizaje, si la ETA es muy pequeña y la tasa de aprendizaje muy pequeña quizá el algortimo no coverja con el minimo global ni local  \" #@param {type:\"string\"}"
      ]
    },
    {
      "cell_type": "markdown",
      "source": [
        "# **Parte 2. Regresión logística**\n"
      ],
      "metadata": {
        "id": "31R48EreMo21"
      }
    },
    {
      "cell_type": "code",
      "source": [
        "import scipy.io\n",
        "from IPython.display import Image"
      ],
      "metadata": {
        "id": "EWn3vWhaNWku"
      },
      "execution_count": null,
      "outputs": []
    },
    {
      "cell_type": "markdown",
      "source": [
        "## Ejercicio 1: Contextualización del problema\n",
        "\n",
        "En esta parte, vamos a resolver un problema de clasificación. Las variables que vamos a usar están disponibles en scipy"
      ],
      "metadata": {
        "id": "LzX23LQ9Mu_D"
      }
    },
    {
      "cell_type": "markdown",
      "source": [
        "En este ejercicio de clasificación o regresión logística, nuestro objetivo es predecir el estado futuro de los estudiantes: desertar o graduarse. Para lograrlo, utilizaremos diversas variables predictoras, entre las que se incluyen:\n",
        "\n",
        "1. **Nota del segundo semestre**\n",
        "2. **Edad**\n",
        "3. **Target** (0 para Deserción, 1 para Graduado)\n",
        "\n",
        " Estas variables fueron seleccionadas debido a su fuerte relación con la variable objetivo, basándonos en criterios como la **correlación** para relaciones entre variables categóricas y numéricas."
      ],
      "metadata": {
        "id": "IY3jKbVhK9yd"
      }
    },
    {
      "cell_type": "code",
      "source": [
        "mat = pd.read_csv('clasificacion_preprocesado.csv')\n",
        "x = mat[['Curricular units 1st sem (approved)','Curricular units 2nd sem (enrolled)']]\n",
        "y = mat['Target'] # Variable de salida"
      ],
      "metadata": {
        "id": "Qj7-Yn1LM-s0"
      },
      "execution_count": null,
      "outputs": []
    },
    {
      "cell_type": "code",
      "source": [
        "y = y.apply(lambda x: 0 if x=='Dropout' else  1)"
      ],
      "metadata": {
        "id": "zfU9PakOavHv"
      },
      "execution_count": null,
      "outputs": []
    },
    {
      "cell_type": "code",
      "source": [
        "# tienes ya cargadas las siguientes variables:\n",
        "print(\"conjunto de datos, muestra \\n\",x.iloc[range(10), :] )\n",
        "print(\"\")\n",
        "print(\" muestra de etiquetas a predecir \\n\", y.iloc[range(10)])"
      ],
      "metadata": {
        "id": "rhUHhkRVNGyN",
        "colab": {
          "base_uri": "https://localhost:8080/"
        },
        "outputId": "e159487c-65af-4619-fca0-bab38d009287"
      },
      "execution_count": null,
      "outputs": [
        {
          "output_type": "stream",
          "name": "stdout",
          "text": [
            "conjunto de datos, muestra \n",
            "    Curricular units 1st sem (approved)  Curricular units 2nd sem (enrolled)\n",
            "0                            -1.521257                            -2.838337\n",
            "1                             0.418050                            -0.105726\n",
            "2                            -1.521257                            -0.105726\n",
            "3                             0.418050                            -0.105726\n",
            "4                             0.094832                            -0.105726\n",
            "5                             0.094832                            -0.561161\n",
            "6                             0.741268                             0.805144\n",
            "7                            -1.521257                            -0.561161\n",
            "8                             0.418050                            -0.105726\n",
            "9                             0.094832                            -0.105726\n",
            "\n",
            " muestra de etiquetas a predecir \n",
            " 0    0\n",
            "1    1\n",
            "2    0\n",
            "3    1\n",
            "4    1\n",
            "5    1\n",
            "6    1\n",
            "7    0\n",
            "8    1\n",
            "9    0\n",
            "Name: Target, dtype: int64\n"
          ]
        }
      ]
    },
    {
      "cell_type": "code",
      "source": [
        "#Ejercicio de Codigo\n",
        "def carac_muestras_clases(X, Y):\n",
        "    \"\"\"Esta funcion es encargada retornar el numero clases, muestras\n",
        "        y caracteristicas del conjunto de datos X y Y\n",
        "\n",
        "        X: matriz numpy con el conjunto de datos para entrenamiento\n",
        "        Y: matriz numpy con el conjunto de etiquetas\n",
        "        retorna:\n",
        "            numero de caracteristicas (int/float)\n",
        "            numero de muestras (int/float)\n",
        "            numero de clases (int/float)\n",
        "\n",
        "    \"\"\"\n",
        "    ##Pista: es de utilidad el metodo np.unique ?\n",
        "    N,nf = X.shape\n",
        "    clases = len(np.unique(Y))\n",
        "    return ( nf,N, clases)"
      ],
      "metadata": {
        "id": "YdiRDod7NLpr"
      },
      "execution_count": null,
      "outputs": []
    },
    {
      "cell_type": "code",
      "source": [
        "print(carac_muestras_clases(x,y))"
      ],
      "metadata": {
        "id": "yymHsunlNrp3",
        "colab": {
          "base_uri": "https://localhost:8080/"
        },
        "outputId": "75338bff-c86d-42dd-d7f2-c97a295456c2"
      },
      "execution_count": null,
      "outputs": [
        {
          "output_type": "stream",
          "name": "stdout",
          "text": [
            "(2, 4424, 2)\n"
          ]
        }
      ]
    },
    {
      "cell_type": "markdown",
      "source": [
        "En los problemas de clasificación, es de utilidad visualizar los datos. De esta manera se puede determinar que modelos o algortimos pueden tener mejor rendimiento. La función [scatter](https://matplotlib.org/gallery/shapes_and_collections/scatter.html) nos permite realizar este tipo de graficas, explora la documentación y usa la siguiente celda para realizar la grafica y con lo aprendido responder la pregunta abierta.\n",
        "\n",
        "En este tipo de graficas tambien es útil usar los [colorMaps](https://matplotlib.org/3.5.0/tutorials/colors/colormaps.html), que son básicamente paletas de colores que defines los posibles colores dentro de la grafica."
      ],
      "metadata": {
        "id": "1yESMlTjNuIR"
      }
    },
    {
      "cell_type": "code",
      "source": [
        "x= np.array(x)\n",
        "y = np.array(y).reshape(4424,1)\n",
        "print((x).shape)\n",
        "print((y).shape)"
      ],
      "metadata": {
        "id": "VKLhWl7FNwAJ",
        "colab": {
          "base_uri": "https://localhost:8080/"
        },
        "outputId": "9b1ca8e5-7754-4f86-8910-67a93d503227"
      },
      "execution_count": null,
      "outputs": [
        {
          "output_type": "stream",
          "name": "stdout",
          "text": [
            "(4424, 2)\n",
            "(4424, 1)\n"
          ]
        }
      ]
    },
    {
      "cell_type": "code",
      "source": [
        "## puedes acceder con plt a la funcion adecuacada\n",
        "## Pista: recuerda como indexar matrices\n",
        "## Consulta como pasar el Color Map\n",
        "plt.scatter(x[:,0], x[:,1], c=y, cmap='viridis')\n",
        "# para mostrar el grafico\n",
        "plt.show()"
      ],
      "metadata": {
        "id": "hs6rjG6sNyen",
        "colab": {
          "base_uri": "https://localhost:8080/",
          "height": 430
        },
        "outputId": "cc4fd291-481d-4d57-a720-41bb68d82912"
      },
      "execution_count": null,
      "outputs": [
        {
          "output_type": "display_data",
          "data": {
            "text/plain": [
              "<Figure size 640x480 with 1 Axes>"
            ],
            "image/png": "[encoded data removed]"
          },
          "metadata": {}
        }
      ]
    },
    {
      "cell_type": "code",
      "source": [
        "#@title Pregunta Abierta\n",
        "#@markdown Con la grafica creada ¿cual de las afirmaciones es mejor justificada?\n",
        "\n",
        "#@markdown A) `plt.scatter(x[:,0],x[:,1], c=y, cmap = 'seismic')` permite ver la primera caracteristica en el eje Y y la segunda caracteristica en el eje X. La etiqueta de la muestra es representada por el color mediante una paleta de colores divergente\n",
        "\n",
        "#@markdown B) `plt.scatter(c=y, x = x[:,1], y = x[:,0],  cmap = 'viridis')` permite ver la primera caracteristica en el eje X y la segunda caracteristica en el eje Y. La etiqueta de la muestra es representada por el color mediante una paleta de colores binaria\n",
        "\n",
        "#@markdown C) `plt.scatter(x, c=y, cmap = 'binary')`  permite ver una grafica para poder determinar si un modelo de clasificación puede ajustarse. La etiqueta de la muestra representa el color mediante una paleta de colores sequencial\n",
        "\n",
        "#@markdown D) `plt.scatter(x[:,0],x[:,1], c=y, cmap = 'seismic')` permite ver la primera caracteristica en el eje X y la segunda caracteristica en el eje Y. La etiqueta de la muestra representa el color mediante una paleta de colores divergente\n",
        "\n",
        "#@markdown Selecciona dentro las lista desplegable\n",
        "respuesta_2_1 = 'C' #@param [\"\", \"A\", \"B\", \"C\", \"D\"]"
      ],
      "metadata": {
        "id": "kyNJFeUoN4Ee"
      },
      "execution_count": null,
      "outputs": []
    },
    {
      "cell_type": "code",
      "source": [
        "#@title Pregunta Abierta\n",
        "#@markdown Analiza el resultado que han obtenido\n",
        "\n",
        "#@markdown Selecciona dentro las lista desplegable\n",
        "respuesta_2_2 = 'C' #@param [\"\", \"A\", \"B\", \"C\", \"D\"]"
      ],
      "metadata": {
        "id": "lWiUgiVhN6_-"
      },
      "execution_count": null,
      "outputs": []
    },
    {
      "cell_type": "markdown",
      "source": [
        "## Ejercicio 2: entrenamiento\n",
        "\n",
        "El modelo de *regresión logística* que sirve para resolver problemas de clasificación (en principio biclase).\n",
        "\n",
        "¿Cómo se relacionan los siguientes conceptos a la luz del modelo de regresión logística?\n",
        "\n",
        "1. Función de activación\n",
        "2. Extensión de matriz\n",
        "2. Modelo de regresión logística\n",
        "3. Potencia del polinomio\n",
        "4. El cálculo del error en clasificación\n",
        "5. El gradiente descendente\n",
        "\n",
        "**Función del sigmoide:**"
      ],
      "metadata": {
        "id": "cf32bYfSOAZe"
      }
    },
    {
      "cell_type": "code",
      "source": [
        "#Ejercicio de Código\n",
        "def sigmoidal(z):\n",
        "    \"\"\"Función de activación Sigmoidal\n",
        "\n",
        "    z: es la varible a la que se le va aplicar el sigmoide.\n",
        "       es un array numpy de una sola dimension\n",
        "    retorna: el valor del sigmoide\n",
        "\n",
        "    \"\"\"\n",
        "    #Complete la siguiente línea con el código para calcular la salida de la función sigmoidal\n",
        "    # ¿Que metodo de np...{} es de utilidad?\n",
        "    s = np.exp(z)/(1+np.exp(z))\n",
        "\n",
        "    return s"
      ],
      "metadata": {
        "id": "AGyXHUNpODN3"
      },
      "execution_count": null,
      "outputs": []
    },
    {
      "cell_type": "markdown",
      "source": [
        "La siguiente celda se sugiere la implementación de 3 métodos que nos ayudarán a implementar los otros conceptos.\n",
        "\n",
        "1. Modelo de regresión logística (Esta función usa nuestra `sigmoidal`)\n",
        "2. Extensión de matriz\n",
        "2. Potencia del polinomio\n",
        "4. Cálculo del error en clasificación\n",
        "\n",
        "Debemos comprender que hacen estas funciones para determinar donde poder usarlas mas adelante. Luego de ellos, ejecuta la celda para cargarlas."
      ],
      "metadata": {
        "id": "oJ-ZQqnfOGTF"
      }
    },
    {
      "cell_type": "code",
      "source": [
        "def logistic_regression(X, W):\n",
        "    \"\"\"calcula la regresión logistica\n",
        "    X: los valores que corresponden a las caractersiticas\n",
        "    W: son los pesos usadados para realizar la regresión\n",
        "    retorna: valor estimado por la regresion\n",
        "    \"\"\"\n",
        "    #Con np.dot se realiza el producto matricial. Aquí X (extendida) tiene dim [Nxd] y W es dim [dx1]\n",
        "    Yest = np.dot(X,W)\n",
        "    Y_lest = sigmoidal(Yest)\n",
        "\n",
        "    return Y_lest    #Y estimado: Esta variable contiene ya tiene la salida de sigm(f(X,W))\n",
        "\n",
        "def extension_matriz(X):\n",
        "    \"\"\"funcion que realiza la extension de la matriz X\n",
        "    X: los valores que corresponden a las caractersiticas sin extender\n",
        "    retorna: X_ext: matriz con unos extendidos\n",
        "    \"\"\"\n",
        "    #Obtenemos las dimensiones antes de exteneder la matriz\n",
        "    muestras,caracterisitcas =X.shape\n",
        "    #Extendemos la matriz X\n",
        "    unos = np.array([np.ones(muestras)])\n",
        "    X_ext = np.concatenate((unos.T, X), axis=1)\n",
        "    X_ext = X_ext.reshape(muestras, caracterisitcas+1)\n",
        "    return (X_ext)\n",
        "\n",
        "\n",
        "def potenciaPolinomio(X,grado):\n",
        "    \"\"\"calcula la potencia del polinomio\n",
        "    X: los valores que corresponden a las caractersiticas\n",
        "    grado: esl grado para realizar la potencia al polinomio\n",
        "    retorna: el valor de X despues elevarlo al grado del polinimoo indicado\n",
        "    \"\"\"\n",
        "    X2 = X.copy()\n",
        "\n",
        "    if grado != 1:\n",
        "        for i in range(2,grado+1):\n",
        "            Xadd = X**i\n",
        "            X2 = np.concatenate((X2, Xadd), axis=1)\n",
        "\n",
        "    return X2\n",
        "\n",
        "def cost_logistic(Y_lest, Y):\n",
        "    \"\"\"calculo del error logistico\n",
        "       Si es diferente el Y_estimado con el Y_real cuenta como un error\n",
        "       Y_lest: numpy array con los valores reales estimados\n",
        "       Y:  numpy array  valor con los valores reales de las etiquetas\n",
        "       retorna: costo logistico  -- numpy array\n",
        "    \"\"\"\n",
        "    f1 = Y*np.log(Y_lest)\n",
        "    f2 = (1-Y)*np.log(1-Y_lest)\n",
        "    error = -np.sum(f1+f2)/Y.shape[0]\n",
        "    return error"
      ],
      "metadata": {
        "id": "A3vZyZNeOIz_"
      },
      "execution_count": null,
      "outputs": []
    },
    {
      "cell_type": "code",
      "source": [
        "# ten en cuenta la salida de esta prueba para responder la pregunta abierta siguiente\n",
        "vector = np.array([[1,4]])\n",
        "print(vector)\n",
        "# puedes cambiar el valor del grado\n",
        "potenciaPolinomio(vector, grado=6)"
      ],
      "metadata": {
        "id": "GjxRUVfPOL4F",
        "colab": {
          "base_uri": "https://localhost:8080/"
        },
        "outputId": "ae719fc5-b49f-499f-871d-7a760448fa99"
      },
      "execution_count": null,
      "outputs": [
        {
          "output_type": "stream",
          "name": "stdout",
          "text": [
            "[[1 4]]\n"
          ]
        },
        {
          "output_type": "execute_result",
          "data": {
            "text/plain": [
              "array([[   1,    4,    1,   16,    1,   64,    1,  256,    1, 1024,    1,\n",
              "        4096]])"
            ]
          },
          "metadata": {},
          "execution_count": 104
        }
      ]
    },
    {
      "cell_type": "code",
      "source": [
        "# Verificar como influye la potencia de polinomio\n",
        "x_pol = potenciaPolinomio(x, grado = 2)\n",
        "g , (ax1, ax2 )= plt.subplots(1,2)\n",
        "ax1.set_title(\"Caracteristicas originales\")\n",
        "ax1.scatter (c=y, x = x_pol[:,0], y = x_pol[:,1],  cmap = 'seismic')\n",
        "ax2.set_title(\"Caracteristicas adicionales de\\ntransformacion polinomica\")\n",
        "ax2.scatter(c=y, x = x_pol[:,2], y = x_pol[:,3],  cmap = 'seismic')"
      ],
      "metadata": {
        "id": "JVx7sM6xOVs8",
        "colab": {
          "base_uri": "https://localhost:8080/",
          "height": 490
        },
        "outputId": "2498d49e-bb35-400b-e2ba-3748a3388767"
      },
      "execution_count": null,
      "outputs": [
        {
          "output_type": "execute_result",
          "data": {
            "text/plain": [
              "<matplotlib.collections.PathCollection at 0x784c71462860>"
            ]
          },
          "metadata": {},
          "execution_count": 105
        },
        {
          "output_type": "display_data",
          "data": {
            "text/plain": [
              "<Figure size 640x480 with 2 Axes>"
            ],
            "image/png": "[encoded data removed]"
          },
          "metadata": {}
        }
      ]
    },
    {
      "cell_type": "code",
      "source": [
        "#@title Pregunta Abierta\n",
        "#@markdown  Analizando lo anterior  ¿Cuál sería la representación de `potenciaPolinomio(vector, grado=2)`?\n",
        "#@markdown (usa ** para representar potencia, i.e x1**2 simboliza x1 elevado al cuadrado)\n",
        "#@markdown Entendiendo esta transnformacion ¿Aplicar la `potenciaPolinomio(vector=x, grado=2)` hace que el problema se vuelva linealmente separable?\n",
        "\n",
        "respuesta_2_3 = \"Aplicar esta transformación aumenta la dimensionalidad del espacio de las variables, en ocasiones ocurre que si se vuelva linealmente separable, en nuestro caso no aplica\" #@param {type:\"string\"}"
      ],
      "metadata": {
        "id": "LyFnmiGFOZzU"
      },
      "execution_count": null,
      "outputs": []
    },
    {
      "cell_type": "markdown",
      "source": [
        "recordando lo aprendido anteriormente, dividimos nuestro cojunto de datos y normalizamos.\n",
        "**SOLO EJECUTAR UNA VEZ**"
      ],
      "metadata": {
        "id": "u98nxKM1OeX0"
      }
    },
    {
      "cell_type": "code",
      "source": [
        "#Dejamos algunas muestras para el proceso de entrenamiento y otras para evaluar qué tan bueno fue el aprendizaje del modelo\n",
        "random.seed(1)\n",
        "N = x.shape[0]\n",
        "ind=np.random.permutation(N)\n",
        "Xtrain = x[ind[0:int(math.ceil(0.7*N))],:]\n",
        "Xtest = x[ind[int(math.ceil(0.7*N)):N],:]\n",
        "Ytrain = y[ind[0:int(math.ceil(0.7*N))]]\n",
        "Ytest = y[ind[int(math.ceil(0.7*N)):N]]\n",
        "# normalizamos\n",
        "Xtrain, Xtest = normalizar(Xtrain, Xtest)"
      ],
      "metadata": {
        "id": "F8EBngRkOf0F",
        "colab": {
          "base_uri": "https://localhost:8080/"
        },
        "outputId": "db329f4e-8a94-4fcc-da76-91bb4ad5c5ce"
      },
      "execution_count": null,
      "outputs": [
        {
          "output_type": "stream",
          "name": "stderr",
          "text": [
            "<ipython-input-26-415f76c6248c>:12: DeprecationWarning: Please use `zscore` from the `scipy.stats` namespace, the `scipy.stats.stats` namespace is deprecated.\n",
            "  Xtrain_n = stats.stats.zscore(Xtrain)\n"
          ]
        }
      ]
    },
    {
      "cell_type": "markdown",
      "source": [
        "Ahora vamos a completar el código de la regla de actualización de los parámetros del algoritmo de **gradiente_descedente**\n",
        "\n",
        "$$w_j(iter) = w_j(iter-1) - \\eta \\frac{\\partial E(w)}{\\partial w_j}$$\n",
        "\n",
        "recordar que aca queremos reducir el error logístico, pero la actualización de los pesos sigue siendo equivalente a la regresión vista anteriormente, solo que agregando la función  $g$  que corresponde al sigmoide.\n",
        "\n",
        "$$ \\frac{\\partial E(w)}{\\partial w_j} = \\frac{\\partial J({\\bf{w}})}{\\partial w_j} = \\frac{1}{N} \\sum_{i=1}^{N}\\left( g(f({\\bf{x}}_i,{\\bf{w}})) - t_i\\right)x_{ij}$$\n",
        "\n",
        "Debemos tener presente:\n",
        "- Usar las funciones ya implementadas y no usar **ninguna otra libreria** adicional a las librerias ya pre-cargadas como numpy.\n",
        "- Dentro de nuestra función **vamos incluir una transformación polinómica**, por lo tanto el proceso a implementar puede ser descrito en los siguientes pasos:\n",
        "    - Aplicar la transformación polinómica\n",
        "    - Extender la matriz\n",
        "    - Inicializar $w$\n",
        "    - Y por cada iteración realizar el cálculo para actualizar $w$\n"
      ],
      "metadata": {
        "id": "dmeRHGzvOiW9"
      }
    },
    {
      "cell_type": "code",
      "source": [
        "#ejercicio de codigo\n",
        "def gradiente_descendente_logistic_poly(X,Y,grado,eta, iteraciones):\n",
        "    \"\"\"Gradiente descendente para regresión lineal múltiple\n",
        "    X: Matriz de datos extendida\n",
        "    Y: vector con los valores a predecir\n",
        "    W: Vector de parámetros del modelo\n",
        "    eta: Taza de aprendizaje\n",
        "    grado: grado para usar en la transformacion polinomica\n",
        "    iteraciones: numero de iteraciones maxima\n",
        "\n",
        "    retorna: W el valor de de los parametros de regresión polinomica\n",
        "    \"\"\"\n",
        "    # aplicamos la transformación\n",
        "    X2 = potenciaPolinomio(X,grado)\n",
        "\n",
        "    # realizamos la extensión\n",
        "    X2_ext =extension_matriz(X2)\n",
        "\n",
        "    #Tomamos el número de variables del problema luego de la transformacion\n",
        "    d = X2_ext.shape[1]\n",
        "    #Tomamos el número de muestras de la base de datos\n",
        "    N = X2_ext.shape[0]\n",
        "    #Inicializamos w\n",
        "    W = np.zeros(d)\n",
        "    W = W.reshape(np.size(W),1)\n",
        "    costos = np.zeros(iteraciones)\n",
        "\n",
        "    for iter in range(iteraciones):\n",
        "\n",
        "        #Aquí debe completar el código con la regla de actualización de los parámetros W para regresión\n",
        "        #logística. Tenga en cuenta los nombres de las variables ya creadas: W, X, Y\n",
        "        Yest=logistic_regression(X2_ext,W)\n",
        "        costo = cost_logistic(Yest,Y)\n",
        "        W =  W-eta*(np.dot(X2_ext.T,(logistic_regression(X2_ext,W)-Y))/N)\n",
        "        #adicionamos el costo por cada iteracion\n",
        "        costos[iter] = costo\n",
        "\n",
        "\n",
        "    print(\"costo despues de finalizar las iteraciones\", costo)\n",
        "    return W, costos"
      ],
      "metadata": {
        "id": "xOi9LBoFO6RE"
      },
      "execution_count": null,
      "outputs": []
    },
    {
      "cell_type": "markdown",
      "source": [
        "Veamos de manera preliminar, si nuestro algortimo de gradiente esta optimizando el error.\n",
        "Vamos entrenar con 100 iteraciones y vamos a graficar el costo logistico y verificar como cambia de acuerdo a las iteraciones.\n",
        "¿Que pasa si cambias el grado?"
      ],
      "metadata": {
        "id": "tkf77HnmO_3y"
      }
    },
    {
      "cell_type": "code",
      "source": [
        "iteraciones = 100\n",
        "w, costos_logistico = gradiente_descendente_logistic_poly(Xtrain,Ytrain,grado = 1, eta = 10, iteraciones = iteraciones)\n",
        "print(\"este las dimensiones de w son:\", w.shape)\n",
        "plt.plot(range(iteraciones), costos_logistico)\n",
        "plt.xlabel('Iteraciones')\n",
        "plt.ylabel('Error')"
      ],
      "metadata": {
        "id": "tmTJ9SLrPBuq",
        "colab": {
          "base_uri": "https://localhost:8080/",
          "height": 501
        },
        "outputId": "462a6150-01ba-419a-e05d-0174297d43a4"
      },
      "execution_count": null,
      "outputs": [
        {
          "output_type": "stream",
          "name": "stdout",
          "text": [
            "costo despues de finalizar las iteraciones 0.45267980291792503\n",
            "este las dimensiones de w son: (3, 1)\n"
          ]
        },
        {
          "output_type": "execute_result",
          "data": {
            "text/plain": [
              "Text(0, 0.5, 'Error')"
            ]
          },
          "metadata": {},
          "execution_count": 108
        },
        {
          "output_type": "display_data",
          "data": {
            "text/plain": [
              "<Figure size 640x480 with 1 Axes>"
            ],
            "image/png": "[encoded data removed]"
          },
          "metadata": {}
        }
      ]
    },
    {
      "cell_type": "code",
      "source": [
        "#@title Pregunta Abierta\n",
        "#@markdown  ¿Con base a los resultados anteriores, qué efecto tiene el grado del polinomio en la predicción del modelo? justifique\n",
        "respuesta_2_4 = \"A medida que aumenta el grado del polinomio, se introducen más características polinomiales en el espacio de características. Esto puede hacer que el modelo sea capaz de capturar relaciones no lineales más complejas entre las variables independientes y la variable respuesta\" #@param {type:\"string\"}"
      ],
      "metadata": {
        "id": "-Mch5yawPzRC"
      },
      "execution_count": null,
      "outputs": []
    },
    {
      "cell_type": "markdown",
      "source": [
        "Como habiamos visto antes, el error es nuestra medida de optimización, pero al final debemos evaluar que también se está realizando la tarea de clasificar. Entiende la siguiente función. Prestemos especial atención al bloque if-else."
      ],
      "metadata": {
        "id": "akrWQSxpP1HJ"
      }
    },
    {
      "cell_type": "code",
      "source": [
        "def evaluar_modelo (W, X_to_test, Y_True, grado):\n",
        "    \"\"\" funcion que evalua un modelo de clasificación\n",
        "\n",
        "W: es un matriz con los parametros del modelo entrenados\n",
        "    X_to_test: conjunto de datos para usar en el evaluamiento del modelo\n",
        "    Y_True: valores reales para usar en el evaluamiento del modelo\n",
        "    grado: valor del polinomio a usar\n",
        "\n",
        "    retorna: el error de clasificación.\n",
        "    \"\"\"\n",
        "    X2 = potenciaPolinomio(X_to_test,grado)\n",
        "    # realizamos la extensión\n",
        "    X2_ext = extension_matriz(X2)\n",
        "    Y_EST = logistic_regression(X2_ext,W)\n",
        "    #Se asignan los valores a 1 o 0 según el modelo de regresión logística definido\n",
        "    for pos, tag in enumerate (Y_EST):\n",
        "\n",
        "        if tag >= 0.5:\n",
        "            Y_EST[pos] = 1\n",
        "        else:\n",
        "            Y_EST[pos] = 0\n",
        "\n",
        "    error = 0\n",
        "\n",
        "    for ye, y in zip(Y_EST, Y_True):\n",
        "        if ye != y:\n",
        "            error += 1\n",
        "    error_clasificacion =  error/np.size(Y_True)\n",
        "    return(error_clasificacion)\n"
      ],
      "metadata": {
        "id": "koWz_YU1P034"
      },
      "execution_count": null,
      "outputs": []
    },
    {
      "cell_type": "markdown",
      "source": [
        "Probemos la función al evaluar el w obtenido. Tener presente que para la evaluación usamos el X y Y adecuado. Recuerda usar el grado de acuerdo a la última ejecución."
      ],
      "metadata": {
        "id": "BlFv3stCP6vX"
      }
    },
    {
      "cell_type": "code",
      "source": [
        "# recuerda que si entrenaste con grado = 2 debes asignar el mismo valor.\n",
        "error_test = evaluar_modelo(w, Xtest, Ytest, grado = 1)\n",
        "print(\"error en el conjunto de pruebas\", error_test)"
      ],
      "metadata": {
        "id": "lio_i2qPP8bZ",
        "colab": {
          "base_uri": "https://localhost:8080/"
        },
        "outputId": "8550235e-053b-4f08-db8e-c55bd9abc674"
      },
      "execution_count": null,
      "outputs": [
        {
          "output_type": "stream",
          "name": "stdout",
          "text": [
            "error en el conjunto de pruebas 0.19291635267520724\n"
          ]
        }
      ]
    },
    {
      "cell_type": "markdown",
      "source": [
        "## Ejercicio 3: Experimentar\n",
        "En nuestro primer experimento vamos a evaluar el rendimiento del modelo usando varias tasas de aprendizaje y grados de polinomios. Vamos a dejar por ahora un número de iteraciones fijas = 30."
      ],
      "metadata": {
        "id": "w_fvjVAFQAJP"
      }
    },
    {
      "cell_type": "code",
      "source": [
        "## ejercicio de codigo\n",
        "def experimentar (Xtrain, Xtest, Ytrain, Ytest, tasas, grados):\n",
        "    \"\"\" funcion para realizar experimentos.\n",
        "    Xtrain: conjunto de datos\n",
        "    Xtest:\n",
        "    Ytrain:\n",
        "    Ytest:\n",
        "    tasas: Es una lista con los valores númericos de tasas de aprendizaje\n",
        "        para realizar los experimentos\n",
        "    grados: Es una lista con los valores númericos de grados\n",
        "        para realizar los experimentos\n",
        "    retorna: un dataframe con el resultados de los experimentos\n",
        "    \"\"\"\n",
        "    numero_iter = 30\n",
        "\n",
        "    resultados = pd.DataFrame()\n",
        "    idx = 0 # indice\n",
        "    for eta in tasas:\n",
        "        for grado in grados:\n",
        "            # ignorar el costo\n",
        "            W, _ = gradiente_descendente_logistic_poly(Xtrain,Ytrain,grado,eta,numero_iter)\n",
        "            error_entrenamiento = evaluar_modelo(W,Xtrain,Ytrain,grado)\n",
        "            error_prueba = evaluar_modelo(W,Xtest,Ytest,grado)\n",
        "            resultados.loc[idx,'grado'] = grado\n",
        "            resultados.loc[idx,'tasa de aprendizaje'] = eta\n",
        "            resultados.loc[idx,'error_entreamiento'] = error_entrenamiento\n",
        "            resultados.loc[idx,'error_prueba'] = error_prueba\n",
        "            idx = idx+1\n",
        "\n",
        "    return (resultados)"
      ],
      "metadata": {
        "id": "-37ZQKuAQErX"
      },
      "execution_count": null,
      "outputs": []
    },
    {
      "cell_type": "code",
      "source": [
        "tasas = [ 4,3,1.0, 0.1, 0.001]\n",
        "grados = [1,2,3,4]\n",
        "resultados = experimentar (Xtrain, Xtest, Ytrain, Ytest, tasas, grados)"
      ],
      "metadata": {
        "id": "BG5JD5rbQJD3"
      },
      "execution_count": null,
      "outputs": []
    },
    {
      "cell_type": "code",
      "source": [
        "# para ver los resultados\n",
        "resultados"
      ],
      "metadata": {
        "id": "kDBYhmrZQMAB",
        "colab": {
          "base_uri": "https://localhost:8080/",
          "height": 677
        },
        "outputId": "a6e1c2e2-72f9-4ffe-f3b2-b12fbae023d1"
      },
      "execution_count": null,
      "outputs": [
        {
          "output_type": "execute_result",
          "data": {
            "text/plain": [
              "    grado  tasa de aprendizaje  error_entreamiento  error_prueba\n",
              "0     1.0                4.000            0.180820      0.180106\n",
              "1     2.0                4.000            0.249919      0.253203\n",
              "2     3.0                4.000            0.683242      0.668425\n",
              "3     4.0                4.000            0.683242      0.668425\n",
              "4     1.0                3.000            0.180820      0.180106\n",
              "5     2.0                3.000            0.195027      0.203466\n",
              "6     3.0                3.000            0.683242      0.668425\n",
              "7     4.0                3.000            0.683242      0.668425\n",
              "8     1.0                1.000            0.186309      0.193670\n",
              "9     2.0                1.000            0.195027      0.206481\n",
              "10    3.0                1.000            0.195027      0.204974\n",
              "11    4.0                1.000            0.683242      0.668425\n",
              "12    1.0                0.100            0.196965      0.207234\n",
              "13    2.0                0.100            0.195673      0.206481\n",
              "14    3.0                0.100            0.195027      0.207234\n",
              "15    4.0                0.100            0.683242      0.668425\n",
              "16    1.0                0.001            0.196965      0.206481\n",
              "17    2.0                0.001            0.316758      0.331575\n",
              "18    3.0                0.001            0.197933      0.199699\n",
              "19    4.0                0.001            0.189861      0.198945"
            ],
            "text/html": [
              "\n",
              "  <div id=\"df-2779c2f7-0b3e-4d9f-9fee-e894c5afba4d\" class=\"colab-df-container\">\n",
              "    <div>\n",
              "<style scoped>\n",
              "    .dataframe tbody tr th:only-of-type {\n",
              "        vertical-align: middle;\n",
              "    }\n",
              "\n",
              "    .dataframe tbody tr th {\n",
              "        vertical-align: top;\n",
              "    }\n",
              "\n",
              "    .dataframe thead th {\n",
              "        text-align: right;\n",
              "    }\n",
              "</style>\n",
              "<table border=\"1\" class=\"dataframe\">\n",
              "  <thead>\n",
              "    <tr style=\"text-align: right;\">\n",
              "      <th></th>\n",
              "      <th>grado</th>\n",
              "      <th>tasa de aprendizaje</th>\n",
              "      <th>error_entreamiento</th>\n",
              "      <th>error_prueba</th>\n",
              "    </tr>\n",
              "  </thead>\n",
              "  <tbody>\n",
              "    <tr>\n",
              "      <th>0</th>\n",
              "      <td>1.0</td>\n",
              "      <td>4.000</td>\n",
              "      <td>0.180820</td>\n",
              "      <td>0.180106</td>\n",
              "    </tr>\n",
              "    <tr>\n",
              "      <th>1</th>\n",
              "      <td>2.0</td>\n",
              "      <td>4.000</td>\n",
              "      <td>0.249919</td>\n",
              "      <td>0.253203</td>\n",
              "    </tr>\n",
              "    <tr>\n",
              "      <th>2</th>\n",
              "      <td>3.0</td>\n",
              "      <td>4.000</td>\n",
              "      <td>0.683242</td>\n",
              "      <td>0.668425</td>\n",
              "    </tr>\n",
              "    <tr>\n",
              "      <th>3</th>\n",
              "      <td>4.0</td>\n",
              "      <td>4.000</td>\n",
              "      <td>0.683242</td>\n",
              "      <td>0.668425</td>\n",
              "    </tr>\n",
              "    <tr>\n",
              "      <th>4</th>\n",
              "      <td>1.0</td>\n",
              "      <td>3.000</td>\n",
              "      <td>0.180820</td>\n",
              "      <td>0.180106</td>\n",
              "    </tr>\n",
              "    <tr>\n",
              "      <th>5</th>\n",
              "      <td>2.0</td>\n",
              "      <td>3.000</td>\n",
              "      <td>0.195027</td>\n",
              "      <td>0.203466</td>\n",
              "    </tr>\n",
              "    <tr>\n",
              "      <th>6</th>\n",
              "      <td>3.0</td>\n",
              "      <td>3.000</td>\n",
              "      <td>0.683242</td>\n",
              "      <td>0.668425</td>\n",
              "    </tr>\n",
              "    <tr>\n",
              "      <th>7</th>\n",
              "      <td>4.0</td>\n",
              "      <td>3.000</td>\n",
              "      <td>0.683242</td>\n",
              "      <td>0.668425</td>\n",
              "    </tr>\n",
              "    <tr>\n",
              "      <th>8</th>\n",
              "      <td>1.0</td>\n",
              "      <td>1.000</td>\n",
              "      <td>0.186309</td>\n",
              "      <td>0.193670</td>\n",
              "    </tr>\n",
              "    <tr>\n",
              "      <th>9</th>\n",
              "      <td>2.0</td>\n",
              "      <td>1.000</td>\n",
              "      <td>0.195027</td>\n",
              "      <td>0.206481</td>\n",
              "    </tr>\n",
              "    <tr>\n",
              "      <th>10</th>\n",
              "      <td>3.0</td>\n",
              "      <td>1.000</td>\n",
              "      <td>0.195027</td>\n",
              "      <td>0.204974</td>\n",
              "    </tr>\n",
              "    <tr>\n",
              "      <th>11</th>\n",
              "      <td>4.0</td>\n",
              "      <td>1.000</td>\n",
              "      <td>0.683242</td>\n",
              "      <td>0.668425</td>\n",
              "    </tr>\n",
              "    <tr>\n",
              "      <th>12</th>\n",
              "      <td>1.0</td>\n",
              "      <td>0.100</td>\n",
              "      <td>0.196965</td>\n",
              "      <td>0.207234</td>\n",
              "    </tr>\n",
              "    <tr>\n",
              "      <th>13</th>\n",
              "      <td>2.0</td>\n",
              "      <td>0.100</td>\n",
              "      <td>0.195673</td>\n",
              "      <td>0.206481</td>\n",
              "    </tr>\n",
              "    <tr>\n",
              "      <th>14</th>\n",
              "      <td>3.0</td>\n",
              "      <td>0.100</td>\n",
              "      <td>0.195027</td>\n",
              "      <td>0.207234</td>\n",
              "    </tr>\n",
              "    <tr>\n",
              "      <th>15</th>\n",
              "      <td>4.0</td>\n",
              "      <td>0.100</td>\n",
              "      <td>0.683242</td>\n",
              "      <td>0.668425</td>\n",
              "    </tr>\n",
              "    <tr>\n",
              "      <th>16</th>\n",
              "      <td>1.0</td>\n",
              "      <td>0.001</td>\n",
              "      <td>0.196965</td>\n",
              "      <td>0.206481</td>\n",
              "    </tr>\n",
              "    <tr>\n",
              "      <th>17</th>\n",
              "      <td>2.0</td>\n",
              "      <td>0.001</td>\n",
              "      <td>0.316758</td>\n",
              "      <td>0.331575</td>\n",
              "    </tr>\n",
              "    <tr>\n",
              "      <th>18</th>\n",
              "      <td>3.0</td>\n",
              "      <td>0.001</td>\n",
              "      <td>0.197933</td>\n",
              "      <td>0.199699</td>\n",
              "    </tr>\n",
              "    <tr>\n",
              "      <th>19</th>\n",
              "      <td>4.0</td>\n",
              "      <td>0.001</td>\n",
              "      <td>0.189861</td>\n",
              "      <td>0.198945</td>\n",
              "    </tr>\n",
              "  </tbody>\n",
              "</table>\n",
              "</div>\n",
              "    <div class=\"colab-df-buttons\">\n",
              "\n",
              "  <div class=\"colab-df-container\">\n",
              "    <button class=\"colab-df-convert\" onclick=\"convertToInteractive('df-2779c2f7-0b3e-4d9f-9fee-e894c5afba4d')\"\n",
              "            title=\"Convert this dataframe to an interactive table.\"\n",
              "            style=\"display:none;\">\n",
              "\n",
              "  <svg xmlns=\"http://www.w3.org/2000/svg\" height=\"24px\" viewBox=\"0 -960 960 960\">\n",
              "    <path d=\"M120-120v-720h720v720H120Zm60-500h600v-160H180v160Zm220 220h160v-160H400v160Zm0 220h160v-160H400v160ZM180-400h160v-160H180v160Zm440 0h160v-160H620v160ZM180-180h160v-160H180v160Zm440 0h160v-160H620v160Z\"/>\n",
              "  </svg>\n",
              "    </button>\n",
              "\n",
              "  <style>\n",
              "    .colab-df-container {\n",
              "      display:flex;\n",
              "      gap: 12px;\n",
              "    }\n",
              "\n",
              "    .colab-df-convert {\n",
              "      background-color: #E8F0FE;\n",
              "      border: none;\n",
              "      border-radius: 50%;\n",
              "      cursor: pointer;\n",
              "      display: none;\n",
              "      fill: #1967D2;\n",
              "      height: 32px;\n",
              "      padding: 0 0 0 0;\n",
              "      width: 32px;\n",
              "    }\n",
              "\n",
              "    .colab-df-convert:hover {\n",
              "      background-color: #E2EBFA;\n",
              "      box-shadow: 0px 1px 2px rgba(60, 64, 67, 0.3), 0px 1px 3px 1px rgba(60, 64, 67, 0.15);\n",
              "      fill: #174EA6;\n",
              "    }\n",
              "\n",
              "    .colab-df-buttons div {\n",
              "      margin-bottom: 4px;\n",
              "    }\n",
              "\n",
              "    [theme=dark] .colab-df-convert {\n",
              "      background-color: #3B4455;\n",
              "      fill: #D2E3FC;\n",
              "    }\n",
              "\n",
              "    [theme=dark] .colab-df-convert:hover {\n",
              "      background-color: #434B5C;\n",
              "      box-shadow: 0px 1px 3px 1px rgba(0, 0, 0, 0.15);\n",
              "      filter: drop-shadow(0px 1px 2px rgba(0, 0, 0, 0.3));\n",
              "      fill: #FFFFFF;\n",
              "    }\n",
              "  </style>\n",
              "\n",
              "    <script>\n",
              "      const buttonEl =\n",
              "        document.querySelector('#df-2779c2f7-0b3e-4d9f-9fee-e894c5afba4d button.colab-df-convert');\n",
              "      buttonEl.style.display =\n",
              "        google.colab.kernel.accessAllowed ? 'block' : 'none';\n",
              "\n",
              "      async function convertToInteractive(key) {\n",
              "        const element = document.querySelector('#df-2779c2f7-0b3e-4d9f-9fee-e894c5afba4d');\n",
              "        const dataTable =\n",
              "          await google.colab.kernel.invokeFunction('convertToInteractive',\n",
              "                                                    [key], {});\n",
              "        if (!dataTable) return;\n",
              "\n",
              "        const docLinkHtml = 'Like what you see? Visit the ' +\n",
              "          '<a target=\"_blank\" href=https://colab.research.google.com/notebooks/data_table.ipynb>data table notebook</a>'\n",
              "          + ' to learn more about interactive tables.';\n",
              "        element.innerHTML = '';\n",
              "        dataTable['output_type'] = 'display_data';\n",
              "        await google.colab.output.renderOutput(dataTable, element);\n",
              "        const docLink = document.createElement('div');\n",
              "        docLink.innerHTML = docLinkHtml;\n",
              "        element.appendChild(docLink);\n",
              "      }\n",
              "    </script>\n",
              "  </div>\n",
              "\n",
              "\n",
              "<div id=\"df-90f7c492-2a7f-4d30-91b4-f35012644ff9\">\n",
              "  <button class=\"colab-df-quickchart\" onclick=\"quickchart('df-90f7c492-2a7f-4d30-91b4-f35012644ff9')\"\n",
              "            title=\"Suggest charts\"\n",
              "            style=\"display:none;\">\n",
              "\n",
              "<svg xmlns=\"http://www.w3.org/2000/svg\" height=\"24px\"viewBox=\"0 0 24 24\"\n",
              "     width=\"24px\">\n",
              "    <g>\n",
              "        <path d=\"M19 3H5c-1.1 0-2 .9-2 2v14c0 1.1.9 2 2 2h14c1.1 0 2-.9 2-2V5c0-1.1-.9-2-2-2zM9 17H7v-7h2v7zm4 0h-2V7h2v10zm4 0h-2v-4h2v4z\"/>\n",
              "    </g>\n",
              "</svg>\n",
              "  </button>\n",
              "\n",
              "<style>\n",
              "  .colab-df-quickchart {\n",
              "      --bg-color: #E8F0FE;\n",
              "      --fill-color: #1967D2;\n",
              "      --hover-bg-color: #E2EBFA;\n",
              "      --hover-fill-color: #174EA6;\n",
              "      --disabled-fill-color: #AAA;\n",
              "      --disabled-bg-color: #DDD;\n",
              "  }\n",
              "\n",
              "  [theme=dark] .colab-df-quickchart {\n",
              "      --bg-color: #3B4455;\n",
              "      --fill-color: #D2E3FC;\n",
              "      --hover-bg-color: #434B5C;\n",
              "      --hover-fill-color: #FFFFFF;\n",
              "      --disabled-bg-color: #3B4455;\n",
              "      --disabled-fill-color: #666;\n",
              "  }\n",
              "\n",
              "  .colab-df-quickchart {\n",
              "    background-color: var(--bg-color);\n",
              "    border: none;\n",
              "    border-radius: 50%;\n",
              "    cursor: pointer;\n",
              "    display: none;\n",
              "    fill: var(--fill-color);\n",
              "    height: 32px;\n",
              "    padding: 0;\n",
              "    width: 32px;\n",
              "  }\n",
              "\n",
              "  .colab-df-quickchart:hover {\n",
              "    background-color: var(--hover-bg-color);\n",
              "    box-shadow: 0 1px 2px rgba(60, 64, 67, 0.3), 0 1px 3px 1px rgba(60, 64, 67, 0.15);\n",
              "    fill: var(--button-hover-fill-color);\n",
              "  }\n",
              "\n",
              "  .colab-df-quickchart-complete:disabled,\n",
              "  .colab-df-quickchart-complete:disabled:hover {\n",
              "    background-color: var(--disabled-bg-color);\n",
              "    fill: var(--disabled-fill-color);\n",
              "    box-shadow: none;\n",
              "  }\n",
              "\n",
              "  .colab-df-spinner {\n",
              "    border: 2px solid var(--fill-color);\n",
              "    border-color: transparent;\n",
              "    border-bottom-color: var(--fill-color);\n",
              "    animation:\n",
              "      spin 1s steps(1) infinite;\n",
              "  }\n",
              "\n",
              "  @keyframes spin {\n",
              "    0% {\n",
              "      border-color: transparent;\n",
              "      border-bottom-color: var(--fill-color);\n",
              "      border-left-color: var(--fill-color);\n",
              "    }\n",
              "    20% {\n",
              "      border-color: transparent;\n",
              "      border-left-color: var(--fill-color);\n",
              "      border-top-color: var(--fill-color);\n",
              "    }\n",
              "    30% {\n",
              "      border-color: transparent;\n",
              "      border-left-color: var(--fill-color);\n",
              "      border-top-color: var(--fill-color);\n",
              "      border-right-color: var(--fill-color);\n",
              "    }\n",
              "    40% {\n",
              "      border-color: transparent;\n",
              "      border-right-color: var(--fill-color);\n",
              "      border-top-color: var(--fill-color);\n",
              "    }\n",
              "    60% {\n",
              "      border-color: transparent;\n",
              "      border-right-color: var(--fill-color);\n",
              "    }\n",
              "    80% {\n",
              "      border-color: transparent;\n",
              "      border-right-color: var(--fill-color);\n",
              "      border-bottom-color: var(--fill-color);\n",
              "    }\n",
              "    90% {\n",
              "      border-color: transparent;\n",
              "      border-bottom-color: var(--fill-color);\n",
              "    }\n",
              "  }\n",
              "</style>\n",
              "\n",
              "  <script>\n",
              "    async function quickchart(key) {\n",
              "      const quickchartButtonEl =\n",
              "        document.querySelector('#' + key + ' button');\n",
              "      quickchartButtonEl.disabled = true;  // To prevent multiple clicks.\n",
              "      quickchartButtonEl.classList.add('colab-df-spinner');\n",
              "      try {\n",
              "        const charts = await google.colab.kernel.invokeFunction(\n",
              "            'suggestCharts', [key], {});\n",
              "      } catch (error) {\n",
              "        console.error('Error during call to suggestCharts:', error);\n",
              "      }\n",
              "      quickchartButtonEl.classList.remove('colab-df-spinner');\n",
              "      quickchartButtonEl.classList.add('colab-df-quickchart-complete');\n",
              "    }\n",
              "    (() => {\n",
              "      let quickchartButtonEl =\n",
              "        document.querySelector('#df-90f7c492-2a7f-4d30-91b4-f35012644ff9 button');\n",
              "      quickchartButtonEl.style.display =\n",
              "        google.colab.kernel.accessAllowed ? 'block' : 'none';\n",
              "    })();\n",
              "  </script>\n",
              "</div>\n",
              "    </div>\n",
              "  </div>\n"
            ],
            "application/vnd.google.colaboratory.intrinsic+json": {
              "type": "dataframe",
              "variable_name": "resultados",
              "summary": "{\n  \"name\": \"resultados\",\n  \"rows\": 20,\n  \"fields\": [\n    {\n      \"column\": \"grado\",\n      \"properties\": {\n        \"dtype\": \"number\",\n        \"std\": 1.1470786693528088,\n        \"min\": 1.0,\n        \"max\": 4.0,\n        \"num_unique_values\": 4,\n        \"samples\": [\n          2.0,\n          4.0,\n          1.0\n        ],\n        \"semantic_type\": \"\",\n        \"description\": \"\"\n      }\n    },\n    {\n      \"column\": \"tasa de aprendizaje\",\n      \"properties\": {\n        \"dtype\": \"number\",\n        \"std\": 1.646991566782487,\n        \"min\": 0.001,\n        \"max\": 4.0,\n        \"num_unique_values\": 5,\n        \"samples\": [\n          3.0,\n          0.001,\n          1.0\n        ],\n        \"semantic_type\": \"\",\n        \"description\": \"\"\n      }\n    },\n    {\n      \"column\": \"error_entreamiento\",\n      \"properties\": {\n        \"dtype\": \"number\",\n        \"std\": 0.22675175281488036,\n        \"min\": 0.1808201485308363,\n        \"max\": 0.68324184694866,\n        \"num_unique_values\": 10,\n        \"samples\": [\n          0.19793348401679045,\n          0.24991927671940586,\n          0.19696480464966096\n        ],\n        \"semantic_type\": \"\",\n        \"description\": \"\"\n      }\n    },\n    {\n      \"column\": \"error_prueba\",\n      \"properties\": {\n        \"dtype\": \"number\",\n        \"std\": 0.21651655318915927,\n        \"min\": 0.18010550113036924,\n        \"max\": 0.6684250188394876,\n        \"num_unique_values\": 11,\n        \"samples\": [\n          0.20648078372268275,\n          0.18010550113036924,\n          0.199698568198945\n        ],\n        \"semantic_type\": \"\",\n        \"description\": \"\"\n      }\n    }\n  ]\n}"
            }
          },
          "metadata": {},
          "execution_count": 121
        }
      ]
    },
    {
      "cell_type": "code",
      "source": [
        "#@title Pregunta Abierta\n",
        "#@markdown  ¿Con base a los resultados anteriores, qué efecto tiene la  tasa de aprendizaje en los errores de entrenamiento y de validación? justifique\n",
        "respuesta_2_5 = \"Si la tasa de aprendizaje es muy pequeña en los errores de entrenamiento se puede dar el caso en que no llegue a converger con el minimo local o global en las iteraciones asignadas, si es muy grande puede que no logre converger y omita el minimo, si ocurre alguno de los dos casos, se debe ver reflejado en errores altos en validación\" #@param {type:\"string\"}"
      ],
      "metadata": {
        "id": "_NS2YjSvQPeH"
      },
      "execution_count": null,
      "outputs": []
    },
    {
      "cell_type": "markdown",
      "source": [
        "Vamos entrenar nuevamente pero solo con los mejores parámetros. Si hay parametros empatados, el modelo que tenga menos parámetros deberia ser el mejor (recuerda que cuando aumentamos el grado del polinomio aumentamos el número de parametros del modelo)."
      ],
      "metadata": {
        "id": "wBjH9mICQRjm"
      }
    },
    {
      "cell_type": "code",
      "source": [
        "# puedes usar el siguiente código para ordenar los resultados y ver los 3 primeros\n",
        "# resultados, usa esta salida, para ver cuales fueron los mejores parámetros\n",
        "resultados.sort_values(by = ['error_prueba', 'grado'], ascending = True).head(3)"
      ],
      "metadata": {
        "id": "DZTNTsD1QS_m",
        "colab": {
          "base_uri": "https://localhost:8080/",
          "height": 143
        },
        "outputId": "8fd7da20-64b2-40bd-98e9-41a94b29a7c4"
      },
      "execution_count": null,
      "outputs": [
        {
          "output_type": "execute_result",
          "data": {
            "text/plain": [
              "   grado  tasa de aprendizaje  error_entreamiento  error_prueba\n",
              "0    1.0                  4.0            0.180820      0.180106\n",
              "4    1.0                  3.0            0.180820      0.180106\n",
              "8    1.0                  1.0            0.186309      0.193670"
            ],
            "text/html": [
              "\n",
              "  <div id=\"df-c01300b0-a328-43b7-8fb1-1aa855bd8ff5\" class=\"colab-df-container\">\n",
              "    <div>\n",
              "<style scoped>\n",
              "    .dataframe tbody tr th:only-of-type {\n",
              "        vertical-align: middle;\n",
              "    }\n",
              "\n",
              "    .dataframe tbody tr th {\n",
              "        vertical-align: top;\n",
              "    }\n",
              "\n",
              "    .dataframe thead th {\n",
              "        text-align: right;\n",
              "    }\n",
              "</style>\n",
              "<table border=\"1\" class=\"dataframe\">\n",
              "  <thead>\n",
              "    <tr style=\"text-align: right;\">\n",
              "      <th></th>\n",
              "      <th>grado</th>\n",
              "      <th>tasa de aprendizaje</th>\n",
              "      <th>error_entreamiento</th>\n",
              "      <th>error_prueba</th>\n",
              "    </tr>\n",
              "  </thead>\n",
              "  <tbody>\n",
              "    <tr>\n",
              "      <th>0</th>\n",
              "      <td>1.0</td>\n",
              "      <td>4.0</td>\n",
              "      <td>0.180820</td>\n",
              "      <td>0.180106</td>\n",
              "    </tr>\n",
              "    <tr>\n",
              "      <th>4</th>\n",
              "      <td>1.0</td>\n",
              "      <td>3.0</td>\n",
              "      <td>0.180820</td>\n",
              "      <td>0.180106</td>\n",
              "    </tr>\n",
              "    <tr>\n",
              "      <th>8</th>\n",
              "      <td>1.0</td>\n",
              "      <td>1.0</td>\n",
              "      <td>0.186309</td>\n",
              "      <td>0.193670</td>\n",
              "    </tr>\n",
              "  </tbody>\n",
              "</table>\n",
              "</div>\n",
              "    <div class=\"colab-df-buttons\">\n",
              "\n",
              "  <div class=\"colab-df-container\">\n",
              "    <button class=\"colab-df-convert\" onclick=\"convertToInteractive('df-c01300b0-a328-43b7-8fb1-1aa855bd8ff5')\"\n",
              "            title=\"Convert this dataframe to an interactive table.\"\n",
              "            style=\"display:none;\">\n",
              "\n",
              "  <svg xmlns=\"http://www.w3.org/2000/svg\" height=\"24px\" viewBox=\"0 -960 960 960\">\n",
              "    <path d=\"M120-120v-720h720v720H120Zm60-500h600v-160H180v160Zm220 220h160v-160H400v160Zm0 220h160v-160H400v160ZM180-400h160v-160H180v160Zm440 0h160v-160H620v160ZM180-180h160v-160H180v160Zm440 0h160v-160H620v160Z\"/>\n",
              "  </svg>\n",
              "    </button>\n",
              "\n",
              "  <style>\n",
              "    .colab-df-container {\n",
              "      display:flex;\n",
              "      gap: 12px;\n",
              "    }\n",
              "\n",
              "    .colab-df-convert {\n",
              "      background-color: #E8F0FE;\n",
              "      border: none;\n",
              "      border-radius: 50%;\n",
              "      cursor: pointer;\n",
              "      display: none;\n",
              "      fill: #1967D2;\n",
              "      height: 32px;\n",
              "      padding: 0 0 0 0;\n",
              "      width: 32px;\n",
              "    }\n",
              "\n",
              "    .colab-df-convert:hover {\n",
              "      background-color: #E2EBFA;\n",
              "      box-shadow: 0px 1px 2px rgba(60, 64, 67, 0.3), 0px 1px 3px 1px rgba(60, 64, 67, 0.15);\n",
              "      fill: #174EA6;\n",
              "    }\n",
              "\n",
              "    .colab-df-buttons div {\n",
              "      margin-bottom: 4px;\n",
              "    }\n",
              "\n",
              "    [theme=dark] .colab-df-convert {\n",
              "      background-color: #3B4455;\n",
              "      fill: #D2E3FC;\n",
              "    }\n",
              "\n",
              "    [theme=dark] .colab-df-convert:hover {\n",
              "      background-color: #434B5C;\n",
              "      box-shadow: 0px 1px 3px 1px rgba(0, 0, 0, 0.15);\n",
              "      filter: drop-shadow(0px 1px 2px rgba(0, 0, 0, 0.3));\n",
              "      fill: #FFFFFF;\n",
              "    }\n",
              "  </style>\n",
              "\n",
              "    <script>\n",
              "      const buttonEl =\n",
              "        document.querySelector('#df-c01300b0-a328-43b7-8fb1-1aa855bd8ff5 button.colab-df-convert');\n",
              "      buttonEl.style.display =\n",
              "        google.colab.kernel.accessAllowed ? 'block' : 'none';\n",
              "\n",
              "      async function convertToInteractive(key) {\n",
              "        const element = document.querySelector('#df-c01300b0-a328-43b7-8fb1-1aa855bd8ff5');\n",
              "        const dataTable =\n",
              "          await google.colab.kernel.invokeFunction('convertToInteractive',\n",
              "                                                    [key], {});\n",
              "        if (!dataTable) return;\n",
              "\n",
              "        const docLinkHtml = 'Like what you see? Visit the ' +\n",
              "          '<a target=\"_blank\" href=https://colab.research.google.com/notebooks/data_table.ipynb>data table notebook</a>'\n",
              "          + ' to learn more about interactive tables.';\n",
              "        element.innerHTML = '';\n",
              "        dataTable['output_type'] = 'display_data';\n",
              "        await google.colab.output.renderOutput(dataTable, element);\n",
              "        const docLink = document.createElement('div');\n",
              "        docLink.innerHTML = docLinkHtml;\n",
              "        element.appendChild(docLink);\n",
              "      }\n",
              "    </script>\n",
              "  </div>\n",
              "\n",
              "\n",
              "<div id=\"df-5de7a033-03b2-43dd-9270-e94bc2b3b993\">\n",
              "  <button class=\"colab-df-quickchart\" onclick=\"quickchart('df-5de7a033-03b2-43dd-9270-e94bc2b3b993')\"\n",
              "            title=\"Suggest charts\"\n",
              "            style=\"display:none;\">\n",
              "\n",
              "<svg xmlns=\"http://www.w3.org/2000/svg\" height=\"24px\"viewBox=\"0 0 24 24\"\n",
              "     width=\"24px\">\n",
              "    <g>\n",
              "        <path d=\"M19 3H5c-1.1 0-2 .9-2 2v14c0 1.1.9 2 2 2h14c1.1 0 2-.9 2-2V5c0-1.1-.9-2-2-2zM9 17H7v-7h2v7zm4 0h-2V7h2v10zm4 0h-2v-4h2v4z\"/>\n",
              "    </g>\n",
              "</svg>\n",
              "  </button>\n",
              "\n",
              "<style>\n",
              "  .colab-df-quickchart {\n",
              "      --bg-color: #E8F0FE;\n",
              "      --fill-color: #1967D2;\n",
              "      --hover-bg-color: #E2EBFA;\n",
              "      --hover-fill-color: #174EA6;\n",
              "      --disabled-fill-color: #AAA;\n",
              "      --disabled-bg-color: #DDD;\n",
              "  }\n",
              "\n",
              "  [theme=dark] .colab-df-quickchart {\n",
              "      --bg-color: #3B4455;\n",
              "      --fill-color: #D2E3FC;\n",
              "      --hover-bg-color: #434B5C;\n",
              "      --hover-fill-color: #FFFFFF;\n",
              "      --disabled-bg-color: #3B4455;\n",
              "      --disabled-fill-color: #666;\n",
              "  }\n",
              "\n",
              "  .colab-df-quickchart {\n",
              "    background-color: var(--bg-color);\n",
              "    border: none;\n",
              "    border-radius: 50%;\n",
              "    cursor: pointer;\n",
              "    display: none;\n",
              "    fill: var(--fill-color);\n",
              "    height: 32px;\n",
              "    padding: 0;\n",
              "    width: 32px;\n",
              "  }\n",
              "\n",
              "  .colab-df-quickchart:hover {\n",
              "    background-color: var(--hover-bg-color);\n",
              "    box-shadow: 0 1px 2px rgba(60, 64, 67, 0.3), 0 1px 3px 1px rgba(60, 64, 67, 0.15);\n",
              "    fill: var(--button-hover-fill-color);\n",
              "  }\n",
              "\n",
              "  .colab-df-quickchart-complete:disabled,\n",
              "  .colab-df-quickchart-complete:disabled:hover {\n",
              "    background-color: var(--disabled-bg-color);\n",
              "    fill: var(--disabled-fill-color);\n",
              "    box-shadow: none;\n",
              "  }\n",
              "\n",
              "  .colab-df-spinner {\n",
              "    border: 2px solid var(--fill-color);\n",
              "    border-color: transparent;\n",
              "    border-bottom-color: var(--fill-color);\n",
              "    animation:\n",
              "      spin 1s steps(1) infinite;\n",
              "  }\n",
              "\n",
              "  @keyframes spin {\n",
              "    0% {\n",
              "      border-color: transparent;\n",
              "      border-bottom-color: var(--fill-color);\n",
              "      border-left-color: var(--fill-color);\n",
              "    }\n",
              "    20% {\n",
              "      border-color: transparent;\n",
              "      border-left-color: var(--fill-color);\n",
              "      border-top-color: var(--fill-color);\n",
              "    }\n",
              "    30% {\n",
              "      border-color: transparent;\n",
              "      border-left-color: var(--fill-color);\n",
              "      border-top-color: var(--fill-color);\n",
              "      border-right-color: var(--fill-color);\n",
              "    }\n",
              "    40% {\n",
              "      border-color: transparent;\n",
              "      border-right-color: var(--fill-color);\n",
              "      border-top-color: var(--fill-color);\n",
              "    }\n",
              "    60% {\n",
              "      border-color: transparent;\n",
              "      border-right-color: var(--fill-color);\n",
              "    }\n",
              "    80% {\n",
              "      border-color: transparent;\n",
              "      border-right-color: var(--fill-color);\n",
              "      border-bottom-color: var(--fill-color);\n",
              "    }\n",
              "    90% {\n",
              "      border-color: transparent;\n",
              "      border-bottom-color: var(--fill-color);\n",
              "    }\n",
              "  }\n",
              "</style>\n",
              "\n",
              "  <script>\n",
              "    async function quickchart(key) {\n",
              "      const quickchartButtonEl =\n",
              "        document.querySelector('#' + key + ' button');\n",
              "      quickchartButtonEl.disabled = true;  // To prevent multiple clicks.\n",
              "      quickchartButtonEl.classList.add('colab-df-spinner');\n",
              "      try {\n",
              "        const charts = await google.colab.kernel.invokeFunction(\n",
              "            'suggestCharts', [key], {});\n",
              "      } catch (error) {\n",
              "        console.error('Error during call to suggestCharts:', error);\n",
              "      }\n",
              "      quickchartButtonEl.classList.remove('colab-df-spinner');\n",
              "      quickchartButtonEl.classList.add('colab-df-quickchart-complete');\n",
              "    }\n",
              "    (() => {\n",
              "      let quickchartButtonEl =\n",
              "        document.querySelector('#df-5de7a033-03b2-43dd-9270-e94bc2b3b993 button');\n",
              "      quickchartButtonEl.style.display =\n",
              "        google.colab.kernel.accessAllowed ? 'block' : 'none';\n",
              "    })();\n",
              "  </script>\n",
              "</div>\n",
              "    </div>\n",
              "  </div>\n"
            ],
            "application/vnd.google.colaboratory.intrinsic+json": {
              "type": "dataframe",
              "summary": "{\n  \"name\": \"resultados\",\n  \"rows\": 3,\n  \"fields\": [\n    {\n      \"column\": \"grado\",\n      \"properties\": {\n        \"dtype\": \"number\",\n        \"std\": 0.0,\n        \"min\": 1.0,\n        \"max\": 1.0,\n        \"num_unique_values\": 1,\n        \"samples\": [\n          1.0\n        ],\n        \"semantic_type\": \"\",\n        \"description\": \"\"\n      }\n    },\n    {\n      \"column\": \"tasa de aprendizaje\",\n      \"properties\": {\n        \"dtype\": \"number\",\n        \"std\": 1.5275252316519465,\n        \"min\": 1.0,\n        \"max\": 4.0,\n        \"num_unique_values\": 3,\n        \"samples\": [\n          4.0\n        ],\n        \"semantic_type\": \"\",\n        \"description\": \"\"\n      }\n    },\n    {\n      \"column\": \"error_entreamiento\",\n      \"properties\": {\n        \"dtype\": \"number\",\n        \"std\": 0.003169181329100288,\n        \"min\": 0.1808201485308363,\n        \"max\": 0.18630933161123667,\n        \"num_unique_values\": 2,\n        \"samples\": [\n          0.18630933161123667\n        ],\n        \"semantic_type\": \"\",\n        \"description\": \"\"\n      }\n    },\n    {\n      \"column\": \"error_prueba\",\n      \"properties\": {\n        \"dtype\": \"number\",\n        \"std\": 0.007831427916664104,\n        \"min\": 0.18010550113036924,\n        \"max\": 0.19366993217784476,\n        \"num_unique_values\": 2,\n        \"samples\": [\n          0.19366993217784476\n        ],\n        \"semantic_type\": \"\",\n        \"description\": \"\"\n      }\n    }\n  ]\n}"
            }
          },
          "metadata": {},
          "execution_count": 122
        }
      ]
    },
    {
      "cell_type": "markdown",
      "source": [
        "**Entrenemos con los mejores parámetros**"
      ],
      "metadata": {
        "id": "ZbfsLHLKQWEX"
      }
    },
    {
      "cell_type": "code",
      "source": [
        "# ignoramos el costo!\n",
        "W,_= gradiente_descendente_logistic_poly(Xtrain,Ytrain,grado = 1 ,eta =0.2  , iteraciones = 20)\n",
        "print(\"estos son los pesos para el modelo entrenando \\n\", W)"
      ],
      "metadata": {
        "id": "7WesTYStQZAP",
        "colab": {
          "base_uri": "https://localhost:8080/"
        },
        "outputId": "a8035e94-dc31-487e-91fe-8d80060702e4"
      },
      "execution_count": null,
      "outputs": [
        {
          "output_type": "stream",
          "name": "stdout",
          "text": [
            "costo despues de finalizar las iteraciones 0.5466747215557408\n",
            "estos son los pesos para el modelo entrenando \n",
            " [[0.48387936]\n",
            " [0.57591176]\n",
            " [0.03373719]]\n"
          ]
        }
      ]
    },
    {
      "cell_type": "markdown",
      "source": [
        "Usando los valores del ultimo $w$ entrenado podríamos construir la función que define nuestra frontera."
      ],
      "metadata": {
        "id": "KNfrvq1sRCgw"
      }
    }
  ],
  "metadata": {
    "colab": {
      "provenance": [],
      "include_colab_link": true
    },
    "kernelspec": {
      "display_name": "Python 3",
      "language": "python",
      "name": "python3"
    },
    "language_info": {
      "codemirror_mode": {
        "name": "ipython",
        "version": 3
      },
      "file_extension": ".py",
      "mimetype": "text/x-python",
      "name": "python",
      "nbconvert_exporter": "python",
      "pygments_lexer": "ipython3",
      "version": "3.6.9"
    }
  },
  "nbformat": 4,
  "nbformat_minor": 0
}